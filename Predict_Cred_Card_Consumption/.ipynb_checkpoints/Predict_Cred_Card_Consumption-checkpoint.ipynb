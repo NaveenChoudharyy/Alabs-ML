{
 "cells": [
  {
   "cell_type": "markdown",
   "id": "54fff7d5",
   "metadata": {},
   "source": [
    "# Predict Credit Consumption of Customer For Leading Bank\n",
    "\n",
    "\n",
    "## Business Context:\n",
    "\n",
    "Analytics driving every industry based on a variety of technology platforms which collect information from various sources by analysing what customers certainly want. The Credit Card industry is also data rich industry and data can be leveraged in infinite ways to understand customer behaviour.\n",
    "\n",
    "The data from a credit card processor shows the consumer types and their business spending behaviours. Therefore, companies can develop the marketing campaigns that directly address consumers’ behaviour. In return, this helps to make better sales and the revenue undoubtedly grows greater sales.\n",
    "\n",
    "Understanding the consumption pattern for credit cards at an individual consumer level is important for customer relationship management. This understanding allows banks to customize for consumers and make strategic marketing plans. Thus it is imperative to study the relationship between the characteristics of the consumers and their consumption patterns.\n",
    "\n",
    "\n",
    "# Business Objectives:\n",
    "\n",
    "### One of the leading banks provided below data\n",
    "\n",
    "a. Customer Demographics\n",
    "\n",
    "b. Customer Behavioural data (information on liabilities, assets and history of transactions with the bank for each customer). Data has been provided for a particular set of customers' credit card spend in the previous 3 months (April, May & June) and their expected average spend in the coming 3 months (July, August & September)\n",
    "\n",
    "c. Credit consumption\n",
    "\n",
    "\n",
    "### Model Evaluation Metric:\n",
    "    \n",
    "You should validate model using Root Mean Square Percentage Error (RMSPE) between the predicted credit card consumption and Actual Credit Consumption.\n",
    "\n",
    "\n",
    "### Expected Outputs:\n",
    "\n",
    "a. Detailed code with comments\n",
    "\n",
    "b. Data Exploratory analysis\n",
    "\n",
    "c. Model validation outputs\n",
    "\n",
    "d. Model documentation with all the details\n",
    "\n",
    "e. Predicted values for customers where target variable having missing values"
   ]
  },
  {
   "cell_type": "code",
   "execution_count": 1,
   "id": "23761b36",
   "metadata": {},
   "outputs": [],
   "source": [
    "import warnings\n",
    "warnings.filterwarnings('ignore')\n",
    "\n",
    "\n",
    "import numpy as np\n",
    "import pandas as pd\n",
    "import seaborn as sns\n",
    "import matplotlib.pyplot as plt\n",
    "import scipy.stats as stats\n",
    "\n",
    "%matplotlib inline"
   ]
  },
  {
   "cell_type": "code",
   "execution_count": 2,
   "id": "eca6f7dd",
   "metadata": {},
   "outputs": [],
   "source": [
    "## Importing datasets\n",
    "\n",
    "consumption =  pd.read_excel(\"C:/Users/navee/OneDrive/Desktop/Data_Science_360/Case_studies/Completed/Machine_learning/Predict_Cred_Card_Consumption/CreditConsumptionData.xlsx\")\n",
    "behavior =  pd.read_excel(\"C:/Users/navee/OneDrive/Desktop/Data_Science_360/Case_studies/Completed/Machine_learning/Predict_Cred_Card_Consumption/CustomerBehaviorData.xlsx\")\n",
    "demo = pd.read_excel(\"C:/Users/navee/OneDrive/Desktop/Data_Science_360/Case_studies/Completed/Machine_learning/Predict_Cred_Card_Consumption/CustomerDemographics.xlsx\")"
   ]
  },
  {
   "cell_type": "code",
   "execution_count": 3,
   "id": "64aab8bd",
   "metadata": {},
   "outputs": [
    {
     "data": {
      "text/html": [
       "<div>\n",
       "<style scoped>\n",
       "    .dataframe tbody tr th:only-of-type {\n",
       "        vertical-align: middle;\n",
       "    }\n",
       "\n",
       "    .dataframe tbody tr th {\n",
       "        vertical-align: top;\n",
       "    }\n",
       "\n",
       "    .dataframe thead th {\n",
       "        text-align: right;\n",
       "    }\n",
       "</style>\n",
       "<table border=\"1\" class=\"dataframe\">\n",
       "  <thead>\n",
       "    <tr style=\"text-align: right;\">\n",
       "      <th></th>\n",
       "      <th>ID</th>\n",
       "      <th>cc_cons</th>\n",
       "    </tr>\n",
       "  </thead>\n",
       "  <tbody>\n",
       "    <tr>\n",
       "      <th>0</th>\n",
       "      <td>12554</td>\n",
       "      <td>20014.0</td>\n",
       "    </tr>\n",
       "    <tr>\n",
       "      <th>1</th>\n",
       "      <td>17645</td>\n",
       "      <td>10173.0</td>\n",
       "    </tr>\n",
       "    <tr>\n",
       "      <th>2</th>\n",
       "      <td>7604</td>\n",
       "      <td>16095.0</td>\n",
       "    </tr>\n",
       "    <tr>\n",
       "      <th>3</th>\n",
       "      <td>1590</td>\n",
       "      <td>7707.0</td>\n",
       "    </tr>\n",
       "    <tr>\n",
       "      <th>4</th>\n",
       "      <td>16556</td>\n",
       "      <td>96408.0</td>\n",
       "    </tr>\n",
       "  </tbody>\n",
       "</table>\n",
       "</div>"
      ],
      "text/plain": [
       "      ID  cc_cons\n",
       "0  12554  20014.0\n",
       "1  17645  10173.0\n",
       "2   7604  16095.0\n",
       "3   1590   7707.0\n",
       "4  16556  96408.0"
      ]
     },
     "execution_count": 3,
     "metadata": {},
     "output_type": "execute_result"
    }
   ],
   "source": [
    "consumption.head()"
   ]
  },
  {
   "cell_type": "code",
   "execution_count": 4,
   "id": "a6479607",
   "metadata": {},
   "outputs": [
    {
     "name": "stdout",
     "output_type": "stream",
     "text": [
      "<class 'pandas.core.frame.DataFrame'>\n",
      "RangeIndex: 20000 entries, 0 to 19999\n",
      "Data columns (total 2 columns):\n",
      " #   Column   Non-Null Count  Dtype  \n",
      "---  ------   --------------  -----  \n",
      " 0   ID       20000 non-null  int64  \n",
      " 1   cc_cons  15000 non-null  float64\n",
      "dtypes: float64(1), int64(1)\n",
      "memory usage: 312.6 KB\n"
     ]
    }
   ],
   "source": [
    "consumption.info()"
   ]
  },
  {
   "cell_type": "code",
   "execution_count": 5,
   "id": "7fdc18e7",
   "metadata": {},
   "outputs": [
    {
     "data": {
      "text/html": [
       "<div>\n",
       "<style scoped>\n",
       "    .dataframe tbody tr th:only-of-type {\n",
       "        vertical-align: middle;\n",
       "    }\n",
       "\n",
       "    .dataframe tbody tr th {\n",
       "        vertical-align: top;\n",
       "    }\n",
       "\n",
       "    .dataframe thead th {\n",
       "        text-align: right;\n",
       "    }\n",
       "</style>\n",
       "<table border=\"1\" class=\"dataframe\">\n",
       "  <thead>\n",
       "    <tr style=\"text-align: right;\">\n",
       "      <th></th>\n",
       "      <th>ID</th>\n",
       "      <th>cc_cons_apr</th>\n",
       "      <th>dc_cons_apr</th>\n",
       "      <th>cc_cons_may</th>\n",
       "      <th>dc_cons_may</th>\n",
       "      <th>cc_cons_jun</th>\n",
       "      <th>dc_cons_jun</th>\n",
       "      <th>cc_count_apr</th>\n",
       "      <th>cc_count_may</th>\n",
       "      <th>cc_count_jun</th>\n",
       "      <th>...</th>\n",
       "      <th>credit_count_may</th>\n",
       "      <th>debit_count_may</th>\n",
       "      <th>max_credit_amount_may</th>\n",
       "      <th>debit_amount_jun</th>\n",
       "      <th>credit_amount_jun</th>\n",
       "      <th>credit_count_jun</th>\n",
       "      <th>debit_count_jun</th>\n",
       "      <th>max_credit_amount_jun</th>\n",
       "      <th>loan_enq</th>\n",
       "      <th>emi_active</th>\n",
       "    </tr>\n",
       "  </thead>\n",
       "  <tbody>\n",
       "    <tr>\n",
       "      <th>0</th>\n",
       "      <td>17051</td>\n",
       "      <td>3412.60</td>\n",
       "      <td>2909.34</td>\n",
       "      <td>1077.36</td>\n",
       "      <td>3084.50</td>\n",
       "      <td>4615.97</td>\n",
       "      <td>6693.0</td>\n",
       "      <td>19.0</td>\n",
       "      <td>10</td>\n",
       "      <td>2</td>\n",
       "      <td>...</td>\n",
       "      <td>1</td>\n",
       "      <td>108</td>\n",
       "      <td>97916.0</td>\n",
       "      <td>45253.64</td>\n",
       "      <td>47635.00</td>\n",
       "      <td>2</td>\n",
       "      <td>18</td>\n",
       "      <td>19947.0</td>\n",
       "      <td>Y</td>\n",
       "      <td>3448.84</td>\n",
       "    </tr>\n",
       "    <tr>\n",
       "      <th>1</th>\n",
       "      <td>11491</td>\n",
       "      <td>18133.76</td>\n",
       "      <td>3877.00</td>\n",
       "      <td>6123.78</td>\n",
       "      <td>5597.43</td>\n",
       "      <td>64620.00</td>\n",
       "      <td>6117.0</td>\n",
       "      <td>4.0</td>\n",
       "      <td>60</td>\n",
       "      <td>1</td>\n",
       "      <td>...</td>\n",
       "      <td>1</td>\n",
       "      <td>4</td>\n",
       "      <td>25125.0</td>\n",
       "      <td>12912.33</td>\n",
       "      <td>18369.00</td>\n",
       "      <td>3</td>\n",
       "      <td>49</td>\n",
       "      <td>20585.0</td>\n",
       "      <td>Y</td>\n",
       "      <td>3812.69</td>\n",
       "    </tr>\n",
       "    <tr>\n",
       "      <th>2</th>\n",
       "      <td>7433</td>\n",
       "      <td>6363.65</td>\n",
       "      <td>735.49</td>\n",
       "      <td>8799.00</td>\n",
       "      <td>13768.00</td>\n",
       "      <td>38266.00</td>\n",
       "      <td>2638.0</td>\n",
       "      <td>2.0</td>\n",
       "      <td>83</td>\n",
       "      <td>47</td>\n",
       "      <td>...</td>\n",
       "      <td>70</td>\n",
       "      <td>11</td>\n",
       "      <td>38546.0</td>\n",
       "      <td>93567.51</td>\n",
       "      <td>26713.00</td>\n",
       "      <td>47</td>\n",
       "      <td>49</td>\n",
       "      <td>13950.0</td>\n",
       "      <td>Y</td>\n",
       "      <td>9432.90</td>\n",
       "    </tr>\n",
       "    <tr>\n",
       "      <th>3</th>\n",
       "      <td>14606</td>\n",
       "      <td>12765.66</td>\n",
       "      <td>4429.16</td>\n",
       "      <td>16745.86</td>\n",
       "      <td>6360.00</td>\n",
       "      <td>29063.97</td>\n",
       "      <td>3711.0</td>\n",
       "      <td>12.0</td>\n",
       "      <td>2</td>\n",
       "      <td>16</td>\n",
       "      <td>...</td>\n",
       "      <td>43</td>\n",
       "      <td>1</td>\n",
       "      <td>180315.0</td>\n",
       "      <td>176394.48</td>\n",
       "      <td>35062.74</td>\n",
       "      <td>3</td>\n",
       "      <td>37</td>\n",
       "      <td>37018.0</td>\n",
       "      <td>Y</td>\n",
       "      <td>144.61</td>\n",
       "    </tr>\n",
       "    <tr>\n",
       "      <th>4</th>\n",
       "      <td>8381</td>\n",
       "      <td>27819.70</td>\n",
       "      <td>1944.00</td>\n",
       "      <td>7006.50</td>\n",
       "      <td>2228.50</td>\n",
       "      <td>1096.25</td>\n",
       "      <td>1065.0</td>\n",
       "      <td>15.0</td>\n",
       "      <td>13</td>\n",
       "      <td>61</td>\n",
       "      <td>...</td>\n",
       "      <td>2</td>\n",
       "      <td>14</td>\n",
       "      <td>13480.0</td>\n",
       "      <td>3167.00</td>\n",
       "      <td>19056.00</td>\n",
       "      <td>2</td>\n",
       "      <td>15</td>\n",
       "      <td>24274.0</td>\n",
       "      <td>Y</td>\n",
       "      <td>1887.89</td>\n",
       "    </tr>\n",
       "  </tbody>\n",
       "</table>\n",
       "<p>5 rows × 39 columns</p>\n",
       "</div>"
      ],
      "text/plain": [
       "      ID  cc_cons_apr  dc_cons_apr  cc_cons_may  dc_cons_may  cc_cons_jun  \\\n",
       "0  17051      3412.60      2909.34      1077.36      3084.50      4615.97   \n",
       "1  11491     18133.76      3877.00      6123.78      5597.43     64620.00   \n",
       "2   7433      6363.65       735.49      8799.00     13768.00     38266.00   \n",
       "3  14606     12765.66      4429.16     16745.86      6360.00     29063.97   \n",
       "4   8381     27819.70      1944.00      7006.50      2228.50      1096.25   \n",
       "\n",
       "   dc_cons_jun  cc_count_apr  cc_count_may  cc_count_jun  ...  \\\n",
       "0       6693.0          19.0            10             2  ...   \n",
       "1       6117.0           4.0            60             1  ...   \n",
       "2       2638.0           2.0            83            47  ...   \n",
       "3       3711.0          12.0             2            16  ...   \n",
       "4       1065.0          15.0            13            61  ...   \n",
       "\n",
       "   credit_count_may  debit_count_may  max_credit_amount_may  debit_amount_jun  \\\n",
       "0                 1              108                97916.0          45253.64   \n",
       "1                 1                4                25125.0          12912.33   \n",
       "2                70               11                38546.0          93567.51   \n",
       "3                43                1               180315.0         176394.48   \n",
       "4                 2               14                13480.0           3167.00   \n",
       "\n",
       "   credit_amount_jun  credit_count_jun  debit_count_jun  \\\n",
       "0           47635.00                 2               18   \n",
       "1           18369.00                 3               49   \n",
       "2           26713.00                47               49   \n",
       "3           35062.74                 3               37   \n",
       "4           19056.00                 2               15   \n",
       "\n",
       "   max_credit_amount_jun  loan_enq  emi_active  \n",
       "0                19947.0         Y     3448.84  \n",
       "1                20585.0         Y     3812.69  \n",
       "2                13950.0         Y     9432.90  \n",
       "3                37018.0         Y      144.61  \n",
       "4                24274.0         Y     1887.89  \n",
       "\n",
       "[5 rows x 39 columns]"
      ]
     },
     "execution_count": 5,
     "metadata": {},
     "output_type": "execute_result"
    }
   ],
   "source": [
    "behavior.head()"
   ]
  },
  {
   "cell_type": "code",
   "execution_count": 6,
   "id": "12c4f5d7",
   "metadata": {},
   "outputs": [
    {
     "name": "stdout",
     "output_type": "stream",
     "text": [
      "<class 'pandas.core.frame.DataFrame'>\n",
      "RangeIndex: 20000 entries, 0 to 19999\n",
      "Data columns (total 39 columns):\n",
      " #   Column                 Non-Null Count  Dtype  \n",
      "---  ------                 --------------  -----  \n",
      " 0   ID                     20000 non-null  int64  \n",
      " 1   cc_cons_apr            20000 non-null  float64\n",
      " 2   dc_cons_apr            20000 non-null  float64\n",
      " 3   cc_cons_may            19999 non-null  float64\n",
      " 4   dc_cons_may            20000 non-null  float64\n",
      " 5   cc_cons_jun            20000 non-null  float64\n",
      " 6   dc_cons_jun            19999 non-null  float64\n",
      " 7   cc_count_apr           19999 non-null  float64\n",
      " 8   cc_count_may           20000 non-null  int64  \n",
      " 9   cc_count_jun           20000 non-null  int64  \n",
      " 10  dc_count_apr           20000 non-null  int64  \n",
      " 11  dc_count_may           20000 non-null  int64  \n",
      " 12  dc_count_jun           20000 non-null  int64  \n",
      " 13  card_lim               20000 non-null  int64  \n",
      " 14  personal_loan_active   20000 non-null  int64  \n",
      " 15  vehicle_loan_active    20000 non-null  int64  \n",
      " 16  personal_loan_closed   19999 non-null  float64\n",
      " 17  vehicle_loan_closed    20000 non-null  int64  \n",
      " 18  investment_1           20000 non-null  float64\n",
      " 19  investment_2           20000 non-null  float64\n",
      " 20  investment_3           19998 non-null  float64\n",
      " 21  investment_4           20000 non-null  float64\n",
      " 22  debit_amount_apr       20000 non-null  float64\n",
      " 23  credit_amount_apr      20000 non-null  float64\n",
      " 24  debit_count_apr        19999 non-null  float64\n",
      " 25  credit_count_apr       20000 non-null  int64  \n",
      " 26  max_credit_amount_apr  20000 non-null  float64\n",
      " 27  debit_amount_may       20000 non-null  float64\n",
      " 28  credit_amount_may      20000 non-null  float64\n",
      " 29  credit_count_may       20000 non-null  int64  \n",
      " 30  debit_count_may        20000 non-null  int64  \n",
      " 31  max_credit_amount_may  20000 non-null  float64\n",
      " 32  debit_amount_jun       20000 non-null  float64\n",
      " 33  credit_amount_jun      20000 non-null  float64\n",
      " 34  credit_count_jun       20000 non-null  int64  \n",
      " 35  debit_count_jun        20000 non-null  int64  \n",
      " 36  max_credit_amount_jun  20000 non-null  float64\n",
      " 37  loan_enq               19998 non-null  object \n",
      " 38  emi_active             19999 non-null  float64\n",
      "dtypes: float64(23), int64(15), object(1)\n",
      "memory usage: 6.0+ MB\n"
     ]
    }
   ],
   "source": [
    "behavior.info()"
   ]
  },
  {
   "cell_type": "code",
   "execution_count": 7,
   "id": "d749e7ce",
   "metadata": {},
   "outputs": [
    {
     "data": {
      "text/html": [
       "<div>\n",
       "<style scoped>\n",
       "    .dataframe tbody tr th:only-of-type {\n",
       "        vertical-align: middle;\n",
       "    }\n",
       "\n",
       "    .dataframe tbody tr th {\n",
       "        vertical-align: top;\n",
       "    }\n",
       "\n",
       "    .dataframe thead th {\n",
       "        text-align: right;\n",
       "    }\n",
       "</style>\n",
       "<table border=\"1\" class=\"dataframe\">\n",
       "  <thead>\n",
       "    <tr style=\"text-align: right;\">\n",
       "      <th></th>\n",
       "      <th>ID</th>\n",
       "      <th>account_type</th>\n",
       "      <th>gender</th>\n",
       "      <th>age</th>\n",
       "      <th>Income</th>\n",
       "      <th>Emp_Tenure_Years</th>\n",
       "      <th>Tenure_with_Bank</th>\n",
       "      <th>region_code</th>\n",
       "      <th>NetBanking_Flag</th>\n",
       "      <th>Avg_days_between_transaction</th>\n",
       "    </tr>\n",
       "  </thead>\n",
       "  <tbody>\n",
       "    <tr>\n",
       "      <th>0</th>\n",
       "      <td>19427</td>\n",
       "      <td>current</td>\n",
       "      <td>M</td>\n",
       "      <td>63</td>\n",
       "      <td>MEDIUM</td>\n",
       "      <td>30.1</td>\n",
       "      <td>10</td>\n",
       "      <td>628.0</td>\n",
       "      <td>1</td>\n",
       "      <td>5.0</td>\n",
       "    </tr>\n",
       "    <tr>\n",
       "      <th>1</th>\n",
       "      <td>16150</td>\n",
       "      <td>current</td>\n",
       "      <td>M</td>\n",
       "      <td>36</td>\n",
       "      <td>MEDIUM</td>\n",
       "      <td>14.4</td>\n",
       "      <td>10</td>\n",
       "      <td>656.0</td>\n",
       "      <td>0</td>\n",
       "      <td>12.0</td>\n",
       "    </tr>\n",
       "    <tr>\n",
       "      <th>2</th>\n",
       "      <td>11749</td>\n",
       "      <td>current</td>\n",
       "      <td>F</td>\n",
       "      <td>28</td>\n",
       "      <td>MEDIUM</td>\n",
       "      <td>4.8</td>\n",
       "      <td>10</td>\n",
       "      <td>314.0</td>\n",
       "      <td>1</td>\n",
       "      <td>13.0</td>\n",
       "    </tr>\n",
       "    <tr>\n",
       "      <th>3</th>\n",
       "      <td>11635</td>\n",
       "      <td>current</td>\n",
       "      <td>M</td>\n",
       "      <td>32</td>\n",
       "      <td>MEDIUM</td>\n",
       "      <td>9.6</td>\n",
       "      <td>2</td>\n",
       "      <td>614.0</td>\n",
       "      <td>1</td>\n",
       "      <td>19.0</td>\n",
       "    </tr>\n",
       "    <tr>\n",
       "      <th>4</th>\n",
       "      <td>8908</td>\n",
       "      <td>current</td>\n",
       "      <td>M</td>\n",
       "      <td>32</td>\n",
       "      <td>HIGH</td>\n",
       "      <td>12.0</td>\n",
       "      <td>7</td>\n",
       "      <td>750.0</td>\n",
       "      <td>1</td>\n",
       "      <td>18.0</td>\n",
       "    </tr>\n",
       "  </tbody>\n",
       "</table>\n",
       "</div>"
      ],
      "text/plain": [
       "      ID account_type gender  age  Income  Emp_Tenure_Years  Tenure_with_Bank  \\\n",
       "0  19427      current      M   63  MEDIUM              30.1                10   \n",
       "1  16150      current      M   36  MEDIUM              14.4                10   \n",
       "2  11749      current      F   28  MEDIUM               4.8                10   \n",
       "3  11635      current      M   32  MEDIUM               9.6                 2   \n",
       "4   8908      current      M   32    HIGH              12.0                 7   \n",
       "\n",
       "   region_code  NetBanking_Flag  Avg_days_between_transaction  \n",
       "0        628.0                1                           5.0  \n",
       "1        656.0                0                          12.0  \n",
       "2        314.0                1                          13.0  \n",
       "3        614.0                1                          19.0  \n",
       "4        750.0                1                          18.0  "
      ]
     },
     "execution_count": 7,
     "metadata": {},
     "output_type": "execute_result"
    }
   ],
   "source": [
    "demo.head()"
   ]
  },
  {
   "cell_type": "code",
   "execution_count": 8,
   "id": "b42ee64b",
   "metadata": {},
   "outputs": [
    {
     "name": "stdout",
     "output_type": "stream",
     "text": [
      "<class 'pandas.core.frame.DataFrame'>\n",
      "RangeIndex: 20000 entries, 0 to 19999\n",
      "Data columns (total 10 columns):\n",
      " #   Column                        Non-Null Count  Dtype  \n",
      "---  ------                        --------------  -----  \n",
      " 0   ID                            20000 non-null  int64  \n",
      " 1   account_type                  19999 non-null  object \n",
      " 2   gender                        19999 non-null  object \n",
      " 3   age                           20000 non-null  int64  \n",
      " 4   Income                        19999 non-null  object \n",
      " 5   Emp_Tenure_Years              20000 non-null  float64\n",
      " 6   Tenure_with_Bank              20000 non-null  int64  \n",
      " 7   region_code                   19999 non-null  float64\n",
      " 8   NetBanking_Flag               20000 non-null  int64  \n",
      " 9   Avg_days_between_transaction  19997 non-null  float64\n",
      "dtypes: float64(3), int64(4), object(3)\n",
      "memory usage: 1.5+ MB\n"
     ]
    }
   ],
   "source": [
    "demo.info()"
   ]
  },
  {
   "cell_type": "code",
   "execution_count": 9,
   "id": "accc6b21",
   "metadata": {},
   "outputs": [],
   "source": [
    "# Mergeing tables to create new dataset\n",
    "\n",
    "new_dataset = pd.merge(left=consumption, right=behavior, on='ID').merge(right=demo, on='ID')"
   ]
  },
  {
   "cell_type": "code",
   "execution_count": 10,
   "id": "ec7836ab",
   "metadata": {},
   "outputs": [
    {
     "data": {
      "text/html": [
       "<div>\n",
       "<style scoped>\n",
       "    .dataframe tbody tr th:only-of-type {\n",
       "        vertical-align: middle;\n",
       "    }\n",
       "\n",
       "    .dataframe tbody tr th {\n",
       "        vertical-align: top;\n",
       "    }\n",
       "\n",
       "    .dataframe thead th {\n",
       "        text-align: right;\n",
       "    }\n",
       "</style>\n",
       "<table border=\"1\" class=\"dataframe\">\n",
       "  <thead>\n",
       "    <tr style=\"text-align: right;\">\n",
       "      <th></th>\n",
       "      <th>ID</th>\n",
       "      <th>cc_cons</th>\n",
       "      <th>cc_cons_apr</th>\n",
       "      <th>dc_cons_apr</th>\n",
       "      <th>cc_cons_may</th>\n",
       "      <th>dc_cons_may</th>\n",
       "      <th>cc_cons_jun</th>\n",
       "      <th>dc_cons_jun</th>\n",
       "      <th>cc_count_apr</th>\n",
       "      <th>cc_count_may</th>\n",
       "      <th>...</th>\n",
       "      <th>emi_active</th>\n",
       "      <th>account_type</th>\n",
       "      <th>gender</th>\n",
       "      <th>age</th>\n",
       "      <th>Income</th>\n",
       "      <th>Emp_Tenure_Years</th>\n",
       "      <th>Tenure_with_Bank</th>\n",
       "      <th>region_code</th>\n",
       "      <th>NetBanking_Flag</th>\n",
       "      <th>Avg_days_between_transaction</th>\n",
       "    </tr>\n",
       "  </thead>\n",
       "  <tbody>\n",
       "    <tr>\n",
       "      <th>0</th>\n",
       "      <td>12554</td>\n",
       "      <td>20014.0</td>\n",
       "      <td>24893.00</td>\n",
       "      <td>378.00</td>\n",
       "      <td>10288.00</td>\n",
       "      <td>29664.00</td>\n",
       "      <td>16291.40</td>\n",
       "      <td>11432.00</td>\n",
       "      <td>2.0</td>\n",
       "      <td>26</td>\n",
       "      <td>...</td>\n",
       "      <td>1674.09</td>\n",
       "      <td>current</td>\n",
       "      <td>M</td>\n",
       "      <td>35</td>\n",
       "      <td>MEDIUM</td>\n",
       "      <td>15.0</td>\n",
       "      <td>1</td>\n",
       "      <td>708.0</td>\n",
       "      <td>0</td>\n",
       "      <td>17.0</td>\n",
       "    </tr>\n",
       "    <tr>\n",
       "      <th>1</th>\n",
       "      <td>17645</td>\n",
       "      <td>10173.0</td>\n",
       "      <td>18941.62</td>\n",
       "      <td>966.00</td>\n",
       "      <td>20672.00</td>\n",
       "      <td>287.00</td>\n",
       "      <td>4217.00</td>\n",
       "      <td>885.00</td>\n",
       "      <td>1.0</td>\n",
       "      <td>7</td>\n",
       "      <td>...</td>\n",
       "      <td>13043.34</td>\n",
       "      <td>current</td>\n",
       "      <td>M</td>\n",
       "      <td>35</td>\n",
       "      <td>HIGH</td>\n",
       "      <td>15.0</td>\n",
       "      <td>6</td>\n",
       "      <td>123.0</td>\n",
       "      <td>0</td>\n",
       "      <td>14.0</td>\n",
       "    </tr>\n",
       "    <tr>\n",
       "      <th>2</th>\n",
       "      <td>7604</td>\n",
       "      <td>16095.0</td>\n",
       "      <td>5678.87</td>\n",
       "      <td>2724.00</td>\n",
       "      <td>1964.50</td>\n",
       "      <td>3933.11</td>\n",
       "      <td>23956.25</td>\n",
       "      <td>5168.00</td>\n",
       "      <td>43.0</td>\n",
       "      <td>32</td>\n",
       "      <td>...</td>\n",
       "      <td>25375.27</td>\n",
       "      <td>current</td>\n",
       "      <td>M</td>\n",
       "      <td>55</td>\n",
       "      <td>MEDIUM</td>\n",
       "      <td>24.5</td>\n",
       "      <td>1</td>\n",
       "      <td>802.0</td>\n",
       "      <td>1</td>\n",
       "      <td>3.0</td>\n",
       "    </tr>\n",
       "    <tr>\n",
       "      <th>3</th>\n",
       "      <td>1590</td>\n",
       "      <td>7707.0</td>\n",
       "      <td>30489.50</td>\n",
       "      <td>1236.00</td>\n",
       "      <td>12609.88</td>\n",
       "      <td>9138.14</td>\n",
       "      <td>17521.00</td>\n",
       "      <td>13650.30</td>\n",
       "      <td>53.0</td>\n",
       "      <td>1</td>\n",
       "      <td>...</td>\n",
       "      <td>3544.33</td>\n",
       "      <td>current</td>\n",
       "      <td>F</td>\n",
       "      <td>29</td>\n",
       "      <td>MEDIUM</td>\n",
       "      <td>4.5</td>\n",
       "      <td>6</td>\n",
       "      <td>867.0</td>\n",
       "      <td>1</td>\n",
       "      <td>4.0</td>\n",
       "    </tr>\n",
       "    <tr>\n",
       "      <th>4</th>\n",
       "      <td>16556</td>\n",
       "      <td>96408.0</td>\n",
       "      <td>7441.40</td>\n",
       "      <td>6906.04</td>\n",
       "      <td>4364.00</td>\n",
       "      <td>1939.00</td>\n",
       "      <td>2121.00</td>\n",
       "      <td>6829.18</td>\n",
       "      <td>67.0</td>\n",
       "      <td>47</td>\n",
       "      <td>...</td>\n",
       "      <td>12780.44</td>\n",
       "      <td>current</td>\n",
       "      <td>M</td>\n",
       "      <td>34</td>\n",
       "      <td>MEDIUM</td>\n",
       "      <td>12.6</td>\n",
       "      <td>4</td>\n",
       "      <td>802.0</td>\n",
       "      <td>1</td>\n",
       "      <td>7.0</td>\n",
       "    </tr>\n",
       "  </tbody>\n",
       "</table>\n",
       "<p>5 rows × 49 columns</p>\n",
       "</div>"
      ],
      "text/plain": [
       "      ID  cc_cons  cc_cons_apr  dc_cons_apr  cc_cons_may  dc_cons_may  \\\n",
       "0  12554  20014.0     24893.00       378.00     10288.00     29664.00   \n",
       "1  17645  10173.0     18941.62       966.00     20672.00       287.00   \n",
       "2   7604  16095.0      5678.87      2724.00      1964.50      3933.11   \n",
       "3   1590   7707.0     30489.50      1236.00     12609.88      9138.14   \n",
       "4  16556  96408.0      7441.40      6906.04      4364.00      1939.00   \n",
       "\n",
       "   cc_cons_jun  dc_cons_jun  cc_count_apr  cc_count_may  ...  emi_active  \\\n",
       "0     16291.40     11432.00           2.0            26  ...     1674.09   \n",
       "1      4217.00       885.00           1.0             7  ...    13043.34   \n",
       "2     23956.25      5168.00          43.0            32  ...    25375.27   \n",
       "3     17521.00     13650.30          53.0             1  ...     3544.33   \n",
       "4      2121.00      6829.18          67.0            47  ...    12780.44   \n",
       "\n",
       "   account_type  gender  age  Income  Emp_Tenure_Years  Tenure_with_Bank  \\\n",
       "0       current       M   35  MEDIUM              15.0                 1   \n",
       "1       current       M   35    HIGH              15.0                 6   \n",
       "2       current       M   55  MEDIUM              24.5                 1   \n",
       "3       current       F   29  MEDIUM               4.5                 6   \n",
       "4       current       M   34  MEDIUM              12.6                 4   \n",
       "\n",
       "   region_code  NetBanking_Flag  Avg_days_between_transaction  \n",
       "0        708.0                0                          17.0  \n",
       "1        123.0                0                          14.0  \n",
       "2        802.0                1                           3.0  \n",
       "3        867.0                1                           4.0  \n",
       "4        802.0                1                           7.0  \n",
       "\n",
       "[5 rows x 49 columns]"
      ]
     },
     "execution_count": 10,
     "metadata": {},
     "output_type": "execute_result"
    }
   ],
   "source": [
    "new_dataset.head(5)"
   ]
  },
  {
   "cell_type": "code",
   "execution_count": 11,
   "id": "c31fa9c5",
   "metadata": {},
   "outputs": [
    {
     "name": "stdout",
     "output_type": "stream",
     "text": [
      "<class 'pandas.core.frame.DataFrame'>\n",
      "Int64Index: 20000 entries, 0 to 19999\n",
      "Data columns (total 49 columns):\n",
      " #   Column                        Non-Null Count  Dtype  \n",
      "---  ------                        --------------  -----  \n",
      " 0   ID                            20000 non-null  int64  \n",
      " 1   cc_cons                       15000 non-null  float64\n",
      " 2   cc_cons_apr                   20000 non-null  float64\n",
      " 3   dc_cons_apr                   20000 non-null  float64\n",
      " 4   cc_cons_may                   19999 non-null  float64\n",
      " 5   dc_cons_may                   20000 non-null  float64\n",
      " 6   cc_cons_jun                   20000 non-null  float64\n",
      " 7   dc_cons_jun                   19999 non-null  float64\n",
      " 8   cc_count_apr                  19999 non-null  float64\n",
      " 9   cc_count_may                  20000 non-null  int64  \n",
      " 10  cc_count_jun                  20000 non-null  int64  \n",
      " 11  dc_count_apr                  20000 non-null  int64  \n",
      " 12  dc_count_may                  20000 non-null  int64  \n",
      " 13  dc_count_jun                  20000 non-null  int64  \n",
      " 14  card_lim                      20000 non-null  int64  \n",
      " 15  personal_loan_active          20000 non-null  int64  \n",
      " 16  vehicle_loan_active           20000 non-null  int64  \n",
      " 17  personal_loan_closed          19999 non-null  float64\n",
      " 18  vehicle_loan_closed           20000 non-null  int64  \n",
      " 19  investment_1                  20000 non-null  float64\n",
      " 20  investment_2                  20000 non-null  float64\n",
      " 21  investment_3                  19998 non-null  float64\n",
      " 22  investment_4                  20000 non-null  float64\n",
      " 23  debit_amount_apr              20000 non-null  float64\n",
      " 24  credit_amount_apr             20000 non-null  float64\n",
      " 25  debit_count_apr               19999 non-null  float64\n",
      " 26  credit_count_apr              20000 non-null  int64  \n",
      " 27  max_credit_amount_apr         20000 non-null  float64\n",
      " 28  debit_amount_may              20000 non-null  float64\n",
      " 29  credit_amount_may             20000 non-null  float64\n",
      " 30  credit_count_may              20000 non-null  int64  \n",
      " 31  debit_count_may               20000 non-null  int64  \n",
      " 32  max_credit_amount_may         20000 non-null  float64\n",
      " 33  debit_amount_jun              20000 non-null  float64\n",
      " 34  credit_amount_jun             20000 non-null  float64\n",
      " 35  credit_count_jun              20000 non-null  int64  \n",
      " 36  debit_count_jun               20000 non-null  int64  \n",
      " 37  max_credit_amount_jun         20000 non-null  float64\n",
      " 38  loan_enq                      19998 non-null  object \n",
      " 39  emi_active                    19999 non-null  float64\n",
      " 40  account_type                  19999 non-null  object \n",
      " 41  gender                        19999 non-null  object \n",
      " 42  age                           20000 non-null  int64  \n",
      " 43  Income                        19999 non-null  object \n",
      " 44  Emp_Tenure_Years              20000 non-null  float64\n",
      " 45  Tenure_with_Bank              20000 non-null  int64  \n",
      " 46  region_code                   19999 non-null  float64\n",
      " 47  NetBanking_Flag               20000 non-null  int64  \n",
      " 48  Avg_days_between_transaction  19997 non-null  float64\n",
      "dtypes: float64(27), int64(18), object(4)\n",
      "memory usage: 7.6+ MB\n"
     ]
    }
   ],
   "source": [
    "new_dataset.info()"
   ]
  },
  {
   "cell_type": "code",
   "execution_count": 12,
   "id": "aef86fda",
   "metadata": {},
   "outputs": [
    {
     "data": {
      "text/plain": [
       "ID                              20000\n",
       "cc_cons                         12260\n",
       "cc_cons_apr                      8459\n",
       "dc_cons_apr                      3861\n",
       "cc_cons_may                      8504\n",
       "dc_cons_may                      4053\n",
       "cc_cons_jun                      7347\n",
       "dc_cons_jun                      3019\n",
       "cc_count_apr                       50\n",
       "cc_count_may                       58\n",
       "cc_count_jun                       67\n",
       "dc_count_apr                       41\n",
       "dc_count_may                       39\n",
       "dc_count_jun                       54\n",
       "card_lim                          308\n",
       "personal_loan_active                1\n",
       "vehicle_loan_active                 1\n",
       "personal_loan_closed                1\n",
       "vehicle_loan_closed                 1\n",
       "investment_1                      691\n",
       "investment_2                      532\n",
       "investment_3                      246\n",
       "investment_4                      115\n",
       "debit_amount_apr                 8724\n",
       "credit_amount_apr                8153\n",
       "debit_count_apr                    63\n",
       "credit_count_apr                   31\n",
       "max_credit_amount_apr            5996\n",
       "debit_amount_may                 8576\n",
       "credit_amount_may                8144\n",
       "credit_count_may                   31\n",
       "debit_count_may                    57\n",
       "max_credit_amount_may            5299\n",
       "debit_amount_jun                 8632\n",
       "credit_amount_jun                8311\n",
       "credit_count_jun                   39\n",
       "debit_count_jun                    66\n",
       "max_credit_amount_jun            5833\n",
       "loan_enq                            1\n",
       "emi_active                       5940\n",
       "account_type                        2\n",
       "gender                              2\n",
       "age                                43\n",
       "Income                              3\n",
       "Emp_Tenure_Years                  270\n",
       "Tenure_with_Bank                   10\n",
       "region_code                       210\n",
       "NetBanking_Flag                     2\n",
       "Avg_days_between_transaction       19\n",
       "dtype: int64"
      ]
     },
     "execution_count": 12,
     "metadata": {},
     "output_type": "execute_result"
    }
   ],
   "source": [
    "new_dataset.nunique()"
   ]
  },
  {
   "cell_type": "code",
   "execution_count": 13,
   "id": "7d43d17f",
   "metadata": {},
   "outputs": [],
   "source": [
    "#UDF  \n",
    "def continuous_var_summary( x ):\n",
    "    \n",
    "    # freq and missings\n",
    "    n_total = x.shape[0]\n",
    "    n_miss = x.isna().sum()\n",
    "    perc_miss = n_miss * 100 / n_total\n",
    "    \n",
    "    # outliers - iqr\n",
    "    q1 = x.quantile(0.25)\n",
    "    q3 = x.quantile(0.75)\n",
    "    iqr = q3 - q1\n",
    "    lc_iqr = q1 - 1.5 * iqr\n",
    "    uc_iqr = q3 + 1.5 * iqr\n",
    "    \n",
    "    return pd.Series( [ x.dtype, x.nunique(), n_total, x.count(), n_miss, perc_miss,\n",
    "                       x.sum(), x.mean(), x.std(), x.var(), \n",
    "                       lc_iqr, uc_iqr, \n",
    "                       x.min(), x.quantile(0.01), x.quantile(0.05), x.quantile(0.10), \n",
    "                       x.quantile(0.25), x.quantile(0.5), x.quantile(0.75), \n",
    "                       x.quantile(0.90), x.quantile(0.95), x.quantile(0.99), x.max() ], \n",
    "                     \n",
    "                    index = ['dtype', 'cardinality', 'n_tot', 'n', 'nmiss', 'perc_miss',\n",
    "                             'sum', 'mean', 'std', 'var',\n",
    "                        'lc_iqr', 'uc_iqr',\n",
    "                        'min', 'p1', 'p5', 'p10', 'p25', 'p50', 'p75', 'p90', 'p95', 'p99', 'max']) "
   ]
  },
  {
   "cell_type": "code",
   "execution_count": 14,
   "id": "7c5b0054",
   "metadata": {},
   "outputs": [
    {
     "data": {
      "text/html": [
       "<div>\n",
       "<style scoped>\n",
       "    .dataframe tbody tr th:only-of-type {\n",
       "        vertical-align: middle;\n",
       "    }\n",
       "\n",
       "    .dataframe tbody tr th {\n",
       "        vertical-align: top;\n",
       "    }\n",
       "\n",
       "    .dataframe thead th {\n",
       "        text-align: right;\n",
       "    }\n",
       "</style>\n",
       "<table border=\"1\" class=\"dataframe\">\n",
       "  <thead>\n",
       "    <tr style=\"text-align: right;\">\n",
       "      <th></th>\n",
       "      <th>ID</th>\n",
       "      <th>cc_cons</th>\n",
       "      <th>cc_cons_apr</th>\n",
       "      <th>dc_cons_apr</th>\n",
       "      <th>cc_cons_may</th>\n",
       "      <th>dc_cons_may</th>\n",
       "      <th>cc_cons_jun</th>\n",
       "      <th>dc_cons_jun</th>\n",
       "      <th>cc_count_apr</th>\n",
       "      <th>cc_count_may</th>\n",
       "      <th>...</th>\n",
       "      <th>credit_count_jun</th>\n",
       "      <th>debit_count_jun</th>\n",
       "      <th>max_credit_amount_jun</th>\n",
       "      <th>emi_active</th>\n",
       "      <th>age</th>\n",
       "      <th>Emp_Tenure_Years</th>\n",
       "      <th>Tenure_with_Bank</th>\n",
       "      <th>region_code</th>\n",
       "      <th>NetBanking_Flag</th>\n",
       "      <th>Avg_days_between_transaction</th>\n",
       "    </tr>\n",
       "  </thead>\n",
       "  <tbody>\n",
       "    <tr>\n",
       "      <th>dtype</th>\n",
       "      <td>int64</td>\n",
       "      <td>float64</td>\n",
       "      <td>float64</td>\n",
       "      <td>float64</td>\n",
       "      <td>float64</td>\n",
       "      <td>float64</td>\n",
       "      <td>float64</td>\n",
       "      <td>float64</td>\n",
       "      <td>float64</td>\n",
       "      <td>int64</td>\n",
       "      <td>...</td>\n",
       "      <td>int64</td>\n",
       "      <td>int64</td>\n",
       "      <td>float64</td>\n",
       "      <td>float64</td>\n",
       "      <td>int64</td>\n",
       "      <td>float64</td>\n",
       "      <td>int64</td>\n",
       "      <td>float64</td>\n",
       "      <td>int64</td>\n",
       "      <td>float64</td>\n",
       "    </tr>\n",
       "    <tr>\n",
       "      <th>cardinality</th>\n",
       "      <td>20000</td>\n",
       "      <td>12260</td>\n",
       "      <td>8459</td>\n",
       "      <td>3861</td>\n",
       "      <td>8504</td>\n",
       "      <td>4053</td>\n",
       "      <td>7347</td>\n",
       "      <td>3019</td>\n",
       "      <td>50</td>\n",
       "      <td>58</td>\n",
       "      <td>...</td>\n",
       "      <td>39</td>\n",
       "      <td>66</td>\n",
       "      <td>5833</td>\n",
       "      <td>5940</td>\n",
       "      <td>43</td>\n",
       "      <td>270</td>\n",
       "      <td>10</td>\n",
       "      <td>210</td>\n",
       "      <td>2</td>\n",
       "      <td>19</td>\n",
       "    </tr>\n",
       "    <tr>\n",
       "      <th>n_tot</th>\n",
       "      <td>20000</td>\n",
       "      <td>20000</td>\n",
       "      <td>20000</td>\n",
       "      <td>20000</td>\n",
       "      <td>20000</td>\n",
       "      <td>20000</td>\n",
       "      <td>20000</td>\n",
       "      <td>20000</td>\n",
       "      <td>20000</td>\n",
       "      <td>20000</td>\n",
       "      <td>...</td>\n",
       "      <td>20000</td>\n",
       "      <td>20000</td>\n",
       "      <td>20000</td>\n",
       "      <td>20000</td>\n",
       "      <td>20000</td>\n",
       "      <td>20000</td>\n",
       "      <td>20000</td>\n",
       "      <td>20000</td>\n",
       "      <td>20000</td>\n",
       "      <td>20000</td>\n",
       "    </tr>\n",
       "    <tr>\n",
       "      <th>n</th>\n",
       "      <td>20000</td>\n",
       "      <td>15000</td>\n",
       "      <td>20000</td>\n",
       "      <td>20000</td>\n",
       "      <td>19999</td>\n",
       "      <td>20000</td>\n",
       "      <td>20000</td>\n",
       "      <td>19999</td>\n",
       "      <td>19999</td>\n",
       "      <td>20000</td>\n",
       "      <td>...</td>\n",
       "      <td>20000</td>\n",
       "      <td>20000</td>\n",
       "      <td>20000</td>\n",
       "      <td>19999</td>\n",
       "      <td>20000</td>\n",
       "      <td>20000</td>\n",
       "      <td>20000</td>\n",
       "      <td>19999</td>\n",
       "      <td>20000</td>\n",
       "      <td>19997</td>\n",
       "    </tr>\n",
       "    <tr>\n",
       "      <th>nmiss</th>\n",
       "      <td>0</td>\n",
       "      <td>5000</td>\n",
       "      <td>0</td>\n",
       "      <td>0</td>\n",
       "      <td>1</td>\n",
       "      <td>0</td>\n",
       "      <td>0</td>\n",
       "      <td>1</td>\n",
       "      <td>1</td>\n",
       "      <td>0</td>\n",
       "      <td>...</td>\n",
       "      <td>0</td>\n",
       "      <td>0</td>\n",
       "      <td>0</td>\n",
       "      <td>1</td>\n",
       "      <td>0</td>\n",
       "      <td>0</td>\n",
       "      <td>0</td>\n",
       "      <td>1</td>\n",
       "      <td>0</td>\n",
       "      <td>3</td>\n",
       "    </tr>\n",
       "    <tr>\n",
       "      <th>perc_miss</th>\n",
       "      <td>0.0</td>\n",
       "      <td>25.0</td>\n",
       "      <td>0.0</td>\n",
       "      <td>0.0</td>\n",
       "      <td>0.005</td>\n",
       "      <td>0.0</td>\n",
       "      <td>0.0</td>\n",
       "      <td>0.005</td>\n",
       "      <td>0.005</td>\n",
       "      <td>0.0</td>\n",
       "      <td>...</td>\n",
       "      <td>0.0</td>\n",
       "      <td>0.0</td>\n",
       "      <td>0.0</td>\n",
       "      <td>0.005</td>\n",
       "      <td>0.0</td>\n",
       "      <td>0.0</td>\n",
       "      <td>0.0</td>\n",
       "      <td>0.005</td>\n",
       "      <td>0.0</td>\n",
       "      <td>0.015</td>\n",
       "    </tr>\n",
       "    <tr>\n",
       "      <th>sum</th>\n",
       "      <td>199990000</td>\n",
       "      <td>827365948.0</td>\n",
       "      <td>357139818.44</td>\n",
       "      <td>162609068.27</td>\n",
       "      <td>323751105.97</td>\n",
       "      <td>154048543.82</td>\n",
       "      <td>242716120.41</td>\n",
       "      <td>142187057.12</td>\n",
       "      <td>832191.0</td>\n",
       "      <td>671382</td>\n",
       "      <td>...</td>\n",
       "      <td>398109</td>\n",
       "      <td>890582</td>\n",
       "      <td>1056996951.42</td>\n",
       "      <td>307961976.6</td>\n",
       "      <td>953446</td>\n",
       "      <td>304345.0</td>\n",
       "      <td>109921</td>\n",
       "      <td>11978588.0</td>\n",
       "      <td>14360</td>\n",
       "      <td>220862.0</td>\n",
       "    </tr>\n",
       "    <tr>\n",
       "      <th>mean</th>\n",
       "      <td>9999.5</td>\n",
       "      <td>55157.729867</td>\n",
       "      <td>17856.990922</td>\n",
       "      <td>8130.453414</td>\n",
       "      <td>16188.364717</td>\n",
       "      <td>7702.427191</td>\n",
       "      <td>12135.806021</td>\n",
       "      <td>7109.708341</td>\n",
       "      <td>41.611631</td>\n",
       "      <td>33.5691</td>\n",
       "      <td>...</td>\n",
       "      <td>19.90545</td>\n",
       "      <td>44.5291</td>\n",
       "      <td>52849.847571</td>\n",
       "      <td>15398.868773</td>\n",
       "      <td>47.6723</td>\n",
       "      <td>15.21725</td>\n",
       "      <td>5.49605</td>\n",
       "      <td>598.959348</td>\n",
       "      <td>0.718</td>\n",
       "      <td>11.044757</td>\n",
       "    </tr>\n",
       "    <tr>\n",
       "      <th>std</th>\n",
       "      <td>5773.647028</td>\n",
       "      <td>97670.972252</td>\n",
       "      <td>25158.878234</td>\n",
       "      <td>14572.188829</td>\n",
       "      <td>26510.681596</td>\n",
       "      <td>17892.7318</td>\n",
       "      <td>18790.984789</td>\n",
       "      <td>13313.935609</td>\n",
       "      <td>97.835475</td>\n",
       "      <td>50.316925</td>\n",
       "      <td>...</td>\n",
       "      <td>27.055323</td>\n",
       "      <td>35.080453</td>\n",
       "      <td>134317.525107</td>\n",
       "      <td>120254.075769</td>\n",
       "      <td>30.359771</td>\n",
       "      <td>20.481455</td>\n",
       "      <td>2.870452</td>\n",
       "      <td>220.10523</td>\n",
       "      <td>0.449985</td>\n",
       "      <td>5.480552</td>\n",
       "    </tr>\n",
       "    <tr>\n",
       "      <th>var</th>\n",
       "      <td>33335000.0</td>\n",
       "      <td>9539618820.721489</td>\n",
       "      <td>632969153.98808</td>\n",
       "      <td>212348687.260089</td>\n",
       "      <td>702816238.690255</td>\n",
       "      <td>320149851.281652</td>\n",
       "      <td>353101109.329598</td>\n",
       "      <td>177260881.388224</td>\n",
       "      <td>9571.780105</td>\n",
       "      <td>2531.792915</td>\n",
       "      <td>...</td>\n",
       "      <td>731.99051</td>\n",
       "      <td>1230.638185</td>\n",
       "      <td>18041197550.945351</td>\n",
       "      <td>14461042739.004253</td>\n",
       "      <td>921.715698</td>\n",
       "      <td>419.489979</td>\n",
       "      <td>8.239496</td>\n",
       "      <td>48446.312129</td>\n",
       "      <td>0.202486</td>\n",
       "      <td>30.036454</td>\n",
       "    </tr>\n",
       "    <tr>\n",
       "      <th>lc_iqr</th>\n",
       "      <td>-9999.5</td>\n",
       "      <td>-13238.625</td>\n",
       "      <td>-20841.0</td>\n",
       "      <td>-9946.905</td>\n",
       "      <td>-18893.1825</td>\n",
       "      <td>-8309.735</td>\n",
       "      <td>-13795.90375</td>\n",
       "      <td>-7785.48</td>\n",
       "      <td>-53.5</td>\n",
       "      <td>-44.5</td>\n",
       "      <td>...</td>\n",
       "      <td>-21.5</td>\n",
       "      <td>-79.5</td>\n",
       "      <td>-32762.25</td>\n",
       "      <td>-10199.735</td>\n",
       "      <td>3.0</td>\n",
       "      <td>-14.25</td>\n",
       "      <td>-4.5</td>\n",
       "      <td>-138.5</td>\n",
       "      <td>-1.5</td>\n",
       "      <td>-9.0</td>\n",
       "    </tr>\n",
       "    <tr>\n",
       "      <th>uc_iqr</th>\n",
       "      <td>29998.5</td>\n",
       "      <td>40112.375</td>\n",
       "      <td>46407.0</td>\n",
       "      <td>20910.575</td>\n",
       "      <td>41184.3975</td>\n",
       "      <td>18207.585</td>\n",
       "      <td>30990.70625</td>\n",
       "      <td>16605.4</td>\n",
       "      <td>102.5</td>\n",
       "      <td>95.5</td>\n",
       "      <td>...</td>\n",
       "      <td>46.5</td>\n",
       "      <td>164.5</td>\n",
       "      <td>105175.75</td>\n",
       "      <td>21122.065</td>\n",
       "      <td>83.0</td>\n",
       "      <td>37.35</td>\n",
       "      <td>15.5</td>\n",
       "      <td>1361.5</td>\n",
       "      <td>2.5</td>\n",
       "      <td>31.0</td>\n",
       "    </tr>\n",
       "    <tr>\n",
       "      <th>min</th>\n",
       "      <td>0</td>\n",
       "      <td>0.0</td>\n",
       "      <td>253.0</td>\n",
       "      <td>19.35</td>\n",
       "      <td>157.0</td>\n",
       "      <td>22.0</td>\n",
       "      <td>65.0</td>\n",
       "      <td>62.0</td>\n",
       "      <td>1.0</td>\n",
       "      <td>1</td>\n",
       "      <td>...</td>\n",
       "      <td>1</td>\n",
       "      <td>0</td>\n",
       "      <td>0.06</td>\n",
       "      <td>0.0</td>\n",
       "      <td>25</td>\n",
       "      <td>0.5</td>\n",
       "      <td>1</td>\n",
       "      <td>123.0</td>\n",
       "      <td>0</td>\n",
       "      <td>2.0</td>\n",
       "    </tr>\n",
       "    <tr>\n",
       "      <th>p1</th>\n",
       "      <td>199.99</td>\n",
       "      <td>271.99</td>\n",
       "      <td>641.9886</td>\n",
       "      <td>153.1286</td>\n",
       "      <td>509.49</td>\n",
       "      <td>152.1</td>\n",
       "      <td>334.0</td>\n",
       "      <td>190.95</td>\n",
       "      <td>1.0</td>\n",
       "      <td>1.0</td>\n",
       "      <td>...</td>\n",
       "      <td>1.0</td>\n",
       "      <td>0.0</td>\n",
       "      <td>160.0</td>\n",
       "      <td>26.739</td>\n",
       "      <td>27.0</td>\n",
       "      <td>0.9</td>\n",
       "      <td>1.0</td>\n",
       "      <td>233.0</td>\n",
       "      <td>0.0</td>\n",
       "      <td>2.0</td>\n",
       "    </tr>\n",
       "    <tr>\n",
       "      <th>p5</th>\n",
       "      <td>999.95</td>\n",
       "      <td>1290.85</td>\n",
       "      <td>1219.0</td>\n",
       "      <td>378.0</td>\n",
       "      <td>1035.774</td>\n",
       "      <td>410.97</td>\n",
       "      <td>825.101</td>\n",
       "      <td>390.0</td>\n",
       "      <td>1.0</td>\n",
       "      <td>2.0</td>\n",
       "      <td>...</td>\n",
       "      <td>2.0</td>\n",
       "      <td>2.0</td>\n",
       "      <td>1679.5</td>\n",
       "      <td>197.95</td>\n",
       "      <td>28.0</td>\n",
       "      <td>1.7</td>\n",
       "      <td>1.0</td>\n",
       "      <td>249.0</td>\n",
       "      <td>0.0</td>\n",
       "      <td>2.0</td>\n",
       "    </tr>\n",
       "    <tr>\n",
       "      <th>p10</th>\n",
       "      <td>1999.9</td>\n",
       "      <td>2633.6</td>\n",
       "      <td>1908.0</td>\n",
       "      <td>643.85</td>\n",
       "      <td>1666.328</td>\n",
       "      <td>731.0</td>\n",
       "      <td>1367.52</td>\n",
       "      <td>607.0</td>\n",
       "      <td>2.0</td>\n",
       "      <td>3.0</td>\n",
       "      <td>...</td>\n",
       "      <td>2.0</td>\n",
       "      <td>7.0</td>\n",
       "      <td>11200.0</td>\n",
       "      <td>461.06</td>\n",
       "      <td>29.0</td>\n",
       "      <td>2.7</td>\n",
       "      <td>2.0</td>\n",
       "      <td>269.0</td>\n",
       "      <td>0.0</td>\n",
       "      <td>3.0</td>\n",
       "    </tr>\n",
       "    <tr>\n",
       "      <th>p25</th>\n",
       "      <td>4999.75</td>\n",
       "      <td>6768.0</td>\n",
       "      <td>4377.0</td>\n",
       "      <td>1624.65</td>\n",
       "      <td>3635.91</td>\n",
       "      <td>1634.26</td>\n",
       "      <td>2999.075</td>\n",
       "      <td>1361.1</td>\n",
       "      <td>5.0</td>\n",
       "      <td>8.0</td>\n",
       "      <td>...</td>\n",
       "      <td>4.0</td>\n",
       "      <td>12.0</td>\n",
       "      <td>18964.5</td>\n",
       "      <td>1545.94</td>\n",
       "      <td>33.0</td>\n",
       "      <td>5.1</td>\n",
       "      <td>3.0</td>\n",
       "      <td>424.0</td>\n",
       "      <td>0.0</td>\n",
       "      <td>6.0</td>\n",
       "    </tr>\n",
       "    <tr>\n",
       "      <th>p50</th>\n",
       "      <td>9999.5</td>\n",
       "      <td>13364.0</td>\n",
       "      <td>10214.6425</td>\n",
       "      <td>3964.75</td>\n",
       "      <td>8635.23</td>\n",
       "      <td>3791.72</td>\n",
       "      <td>6656.8</td>\n",
       "      <td>3326.0</td>\n",
       "      <td>10.0</td>\n",
       "      <td>23.0</td>\n",
       "      <td>...</td>\n",
       "      <td>7.0</td>\n",
       "      <td>37.0</td>\n",
       "      <td>30250.0</td>\n",
       "      <td>3934.66</td>\n",
       "      <td>40.0</td>\n",
       "      <td>9.9</td>\n",
       "      <td>6.0</td>\n",
       "      <td>623.0</td>\n",
       "      <td>1.0</td>\n",
       "      <td>11.0</td>\n",
       "    </tr>\n",
       "    <tr>\n",
       "      <th>p75</th>\n",
       "      <td>14999.25</td>\n",
       "      <td>20105.75</td>\n",
       "      <td>21189.0</td>\n",
       "      <td>9339.02</td>\n",
       "      <td>18655.305</td>\n",
       "      <td>8263.59</td>\n",
       "      <td>14195.7275</td>\n",
       "      <td>7458.82</td>\n",
       "      <td>44.0</td>\n",
       "      <td>43.0</td>\n",
       "      <td>...</td>\n",
       "      <td>21.0</td>\n",
       "      <td>73.0</td>\n",
       "      <td>53449.0</td>\n",
       "      <td>9376.39</td>\n",
       "      <td>53.0</td>\n",
       "      <td>18.0</td>\n",
       "      <td>8.0</td>\n",
       "      <td>799.0</td>\n",
       "      <td>1.0</td>\n",
       "      <td>16.0</td>\n",
       "    </tr>\n",
       "    <tr>\n",
       "      <th>p90</th>\n",
       "      <td>17999.1</td>\n",
       "      <td>219688.7</td>\n",
       "      <td>40640.9</td>\n",
       "      <td>18443.691</td>\n",
       "      <td>36139.588</td>\n",
       "      <td>16144.76</td>\n",
       "      <td>26791.1665</td>\n",
       "      <td>15689.0</td>\n",
       "      <td>80.0</td>\n",
       "      <td>83.0</td>\n",
       "      <td>...</td>\n",
       "      <td>58.0</td>\n",
       "      <td>103.0</td>\n",
       "      <td>100183.0</td>\n",
       "      <td>19715.252</td>\n",
       "      <td>64.0</td>\n",
       "      <td>31.5</td>\n",
       "      <td>10.0</td>\n",
       "      <td>883.0</td>\n",
       "      <td>1.0</td>\n",
       "      <td>19.0</td>\n",
       "    </tr>\n",
       "    <tr>\n",
       "      <th>p95</th>\n",
       "      <td>18999.05</td>\n",
       "      <td>309852.0</td>\n",
       "      <td>59106.728</td>\n",
       "      <td>27835.0</td>\n",
       "      <td>53962.38</td>\n",
       "      <td>25584.0</td>\n",
       "      <td>39979.6775</td>\n",
       "      <td>24252.88</td>\n",
       "      <td>124.0</td>\n",
       "      <td>93.0</td>\n",
       "      <td>...</td>\n",
       "      <td>94.0</td>\n",
       "      <td>106.0</td>\n",
       "      <td>150006.83</td>\n",
       "      <td>36148.07</td>\n",
       "      <td>66.0</td>\n",
       "      <td>40.0</td>\n",
       "      <td>10.0</td>\n",
       "      <td>937.0</td>\n",
       "      <td>1.0</td>\n",
       "      <td>20.0</td>\n",
       "    </tr>\n",
       "    <tr>\n",
       "      <th>p99</th>\n",
       "      <td>19799.01</td>\n",
       "      <td>395290.55</td>\n",
       "      <td>125259.5</td>\n",
       "      <td>64470.75</td>\n",
       "      <td>125735.433</td>\n",
       "      <td>65963.0603</td>\n",
       "      <td>90310.08</td>\n",
       "      <td>72564.0</td>\n",
       "      <td>531.0</td>\n",
       "      <td>128.0</td>\n",
       "      <td>...</td>\n",
       "      <td>117.0</td>\n",
       "      <td>124.0</td>\n",
       "      <td>377905.0</td>\n",
       "      <td>155041.219</td>\n",
       "      <td>222.0</td>\n",
       "      <td>121.2</td>\n",
       "      <td>10.0</td>\n",
       "      <td>968.0</td>\n",
       "      <td>1.0</td>\n",
       "      <td>20.0</td>\n",
       "    </tr>\n",
       "    <tr>\n",
       "      <th>max</th>\n",
       "      <td>19999</td>\n",
       "      <td>408382.0</td>\n",
       "      <td>441031.33</td>\n",
       "      <td>229255.0</td>\n",
       "      <td>1117246.31</td>\n",
       "      <td>911223.49</td>\n",
       "      <td>382914.1</td>\n",
       "      <td>233384.0</td>\n",
       "      <td>531.0</td>\n",
       "      <td>601</td>\n",
       "      <td>...</td>\n",
       "      <td>117</td>\n",
       "      <td>133</td>\n",
       "      <td>5200000.0</td>\n",
       "      <td>7447125.13</td>\n",
       "      <td>223</td>\n",
       "      <td>203.0</td>\n",
       "      <td>10</td>\n",
       "      <td>974.0</td>\n",
       "      <td>1</td>\n",
       "      <td>20.0</td>\n",
       "    </tr>\n",
       "  </tbody>\n",
       "</table>\n",
       "<p>23 rows × 45 columns</p>\n",
       "</div>"
      ],
      "text/plain": [
       "                      ID            cc_cons      cc_cons_apr  \\\n",
       "dtype              int64            float64          float64   \n",
       "cardinality        20000              12260             8459   \n",
       "n_tot              20000              20000            20000   \n",
       "n                  20000              15000            20000   \n",
       "nmiss                  0               5000                0   \n",
       "perc_miss            0.0               25.0              0.0   \n",
       "sum            199990000        827365948.0     357139818.44   \n",
       "mean              9999.5       55157.729867     17856.990922   \n",
       "std          5773.647028       97670.972252     25158.878234   \n",
       "var           33335000.0  9539618820.721489  632969153.98808   \n",
       "lc_iqr           -9999.5         -13238.625         -20841.0   \n",
       "uc_iqr           29998.5          40112.375          46407.0   \n",
       "min                    0                0.0            253.0   \n",
       "p1                199.99             271.99         641.9886   \n",
       "p5                999.95            1290.85           1219.0   \n",
       "p10               1999.9             2633.6           1908.0   \n",
       "p25              4999.75             6768.0           4377.0   \n",
       "p50               9999.5            13364.0       10214.6425   \n",
       "p75             14999.25           20105.75          21189.0   \n",
       "p90              17999.1           219688.7          40640.9   \n",
       "p95             18999.05           309852.0        59106.728   \n",
       "p99             19799.01          395290.55         125259.5   \n",
       "max                19999           408382.0        441031.33   \n",
       "\n",
       "                  dc_cons_apr       cc_cons_may       dc_cons_may  \\\n",
       "dtype                 float64           float64           float64   \n",
       "cardinality              3861              8504              4053   \n",
       "n_tot                   20000             20000             20000   \n",
       "n                       20000             19999             20000   \n",
       "nmiss                       0                 1                 0   \n",
       "perc_miss                 0.0             0.005               0.0   \n",
       "sum              162609068.27      323751105.97      154048543.82   \n",
       "mean              8130.453414      16188.364717       7702.427191   \n",
       "std              14572.188829      26510.681596        17892.7318   \n",
       "var          212348687.260089  702816238.690255  320149851.281652   \n",
       "lc_iqr              -9946.905       -18893.1825         -8309.735   \n",
       "uc_iqr              20910.575        41184.3975         18207.585   \n",
       "min                     19.35             157.0              22.0   \n",
       "p1                   153.1286            509.49             152.1   \n",
       "p5                      378.0          1035.774            410.97   \n",
       "p10                    643.85          1666.328             731.0   \n",
       "p25                   1624.65           3635.91           1634.26   \n",
       "p50                   3964.75           8635.23           3791.72   \n",
       "p75                   9339.02         18655.305           8263.59   \n",
       "p90                 18443.691         36139.588          16144.76   \n",
       "p95                   27835.0          53962.38           25584.0   \n",
       "p99                  64470.75        125735.433        65963.0603   \n",
       "max                  229255.0        1117246.31         911223.49   \n",
       "\n",
       "                  cc_cons_jun       dc_cons_jun cc_count_apr cc_count_may  \\\n",
       "dtype                 float64           float64      float64        int64   \n",
       "cardinality              7347              3019           50           58   \n",
       "n_tot                   20000             20000        20000        20000   \n",
       "n                       20000             19999        19999        20000   \n",
       "nmiss                       0                 1            1            0   \n",
       "perc_miss                 0.0             0.005        0.005          0.0   \n",
       "sum              242716120.41      142187057.12     832191.0       671382   \n",
       "mean             12135.806021       7109.708341    41.611631      33.5691   \n",
       "std              18790.984789      13313.935609    97.835475    50.316925   \n",
       "var          353101109.329598  177260881.388224  9571.780105  2531.792915   \n",
       "lc_iqr           -13795.90375          -7785.48        -53.5        -44.5   \n",
       "uc_iqr            30990.70625           16605.4        102.5         95.5   \n",
       "min                      65.0              62.0          1.0            1   \n",
       "p1                      334.0            190.95          1.0          1.0   \n",
       "p5                    825.101             390.0          1.0          2.0   \n",
       "p10                   1367.52             607.0          2.0          3.0   \n",
       "p25                  2999.075            1361.1          5.0          8.0   \n",
       "p50                    6656.8            3326.0         10.0         23.0   \n",
       "p75                14195.7275           7458.82         44.0         43.0   \n",
       "p90                26791.1665           15689.0         80.0         83.0   \n",
       "p95                39979.6775          24252.88        124.0         93.0   \n",
       "p99                  90310.08           72564.0        531.0        128.0   \n",
       "max                  382914.1          233384.0        531.0          601   \n",
       "\n",
       "             ... credit_count_jun debit_count_jun max_credit_amount_jun  \\\n",
       "dtype        ...            int64           int64               float64   \n",
       "cardinality  ...               39              66                  5833   \n",
       "n_tot        ...            20000           20000                 20000   \n",
       "n            ...            20000           20000                 20000   \n",
       "nmiss        ...                0               0                     0   \n",
       "perc_miss    ...              0.0             0.0                   0.0   \n",
       "sum          ...           398109          890582         1056996951.42   \n",
       "mean         ...         19.90545         44.5291          52849.847571   \n",
       "std          ...        27.055323       35.080453         134317.525107   \n",
       "var          ...        731.99051     1230.638185    18041197550.945351   \n",
       "lc_iqr       ...            -21.5           -79.5             -32762.25   \n",
       "uc_iqr       ...             46.5           164.5             105175.75   \n",
       "min          ...                1               0                  0.06   \n",
       "p1           ...              1.0             0.0                 160.0   \n",
       "p5           ...              2.0             2.0                1679.5   \n",
       "p10          ...              2.0             7.0               11200.0   \n",
       "p25          ...              4.0            12.0               18964.5   \n",
       "p50          ...              7.0            37.0               30250.0   \n",
       "p75          ...             21.0            73.0               53449.0   \n",
       "p90          ...             58.0           103.0              100183.0   \n",
       "p95          ...             94.0           106.0             150006.83   \n",
       "p99          ...            117.0           124.0              377905.0   \n",
       "max          ...              117             133             5200000.0   \n",
       "\n",
       "                     emi_active         age Emp_Tenure_Years Tenure_with_Bank  \\\n",
       "dtype                   float64       int64          float64            int64   \n",
       "cardinality                5940          43              270               10   \n",
       "n_tot                     20000       20000            20000            20000   \n",
       "n                         19999       20000            20000            20000   \n",
       "nmiss                         1           0                0                0   \n",
       "perc_miss                 0.005         0.0              0.0              0.0   \n",
       "sum                 307961976.6      953446         304345.0           109921   \n",
       "mean               15398.868773     47.6723         15.21725          5.49605   \n",
       "std               120254.075769   30.359771        20.481455         2.870452   \n",
       "var          14461042739.004253  921.715698       419.489979         8.239496   \n",
       "lc_iqr               -10199.735         3.0           -14.25             -4.5   \n",
       "uc_iqr                21122.065        83.0            37.35             15.5   \n",
       "min                         0.0          25              0.5                1   \n",
       "p1                       26.739        27.0              0.9              1.0   \n",
       "p5                       197.95        28.0              1.7              1.0   \n",
       "p10                      461.06        29.0              2.7              2.0   \n",
       "p25                     1545.94        33.0              5.1              3.0   \n",
       "p50                     3934.66        40.0              9.9              6.0   \n",
       "p75                     9376.39        53.0             18.0              8.0   \n",
       "p90                   19715.252        64.0             31.5             10.0   \n",
       "p95                    36148.07        66.0             40.0             10.0   \n",
       "p99                  155041.219       222.0            121.2             10.0   \n",
       "max                  7447125.13         223            203.0               10   \n",
       "\n",
       "              region_code NetBanking_Flag Avg_days_between_transaction  \n",
       "dtype             float64           int64                      float64  \n",
       "cardinality           210               2                           19  \n",
       "n_tot               20000           20000                        20000  \n",
       "n                   19999           20000                        19997  \n",
       "nmiss                   1               0                            3  \n",
       "perc_miss           0.005             0.0                        0.015  \n",
       "sum            11978588.0           14360                     220862.0  \n",
       "mean           598.959348           0.718                    11.044757  \n",
       "std             220.10523        0.449985                     5.480552  \n",
       "var          48446.312129        0.202486                    30.036454  \n",
       "lc_iqr             -138.5            -1.5                         -9.0  \n",
       "uc_iqr             1361.5             2.5                         31.0  \n",
       "min                 123.0               0                          2.0  \n",
       "p1                  233.0             0.0                          2.0  \n",
       "p5                  249.0             0.0                          2.0  \n",
       "p10                 269.0             0.0                          3.0  \n",
       "p25                 424.0             0.0                          6.0  \n",
       "p50                 623.0             1.0                         11.0  \n",
       "p75                 799.0             1.0                         16.0  \n",
       "p90                 883.0             1.0                         19.0  \n",
       "p95                 937.0             1.0                         20.0  \n",
       "p99                 968.0             1.0                         20.0  \n",
       "max                 974.0               1                         20.0  \n",
       "\n",
       "[23 rows x 45 columns]"
      ]
     },
     "execution_count": 14,
     "metadata": {},
     "output_type": "execute_result"
    }
   ],
   "source": [
    "new_dataset.select_dtypes(['int', 'float']).apply( lambda x: continuous_var_summary( x ))"
   ]
  },
  {
   "cell_type": "markdown",
   "id": "7a1f4ab1",
   "metadata": {},
   "source": [
    "# Analysis"
   ]
  },
  {
   "cell_type": "code",
   "execution_count": 15,
   "id": "d005249c",
   "metadata": {},
   "outputs": [],
   "source": [
    "# Target variable is \"cc_cons\"\n",
    "\n",
    "# There are some variables with cardinality as 1, we need to drop those columns as they are of no use.\n",
    "\n",
    "# Varibale \"ID\" is non informative so we need to drop this also.\n",
    "\n",
    "# Outlier treatment needs to be done, if needed.\n",
    "\n",
    "# Null value treatment needs to be done, if needed.\n",
    "\n",
    "# Variable \"NetBanking_Flag\" has cardinality as 2 and as not in order so should be treated as categorical variable.\n",
    "\n",
    "# For Variable \"Avg_days_between_transaction\", we are creaing a new column and grouping them in 4 parts, \n",
    "## also dropping existing column, \n",
    "### similerly for \"Tenure_with_Bank\" in 2 parts, \n",
    "#### \"region_code\" in 10 parts,\n",
    "##### \"Emp_Tenure_Years\" in 10 parts, \n",
    "###### \"age\" in 10 parts.\n"
   ]
  },
  {
   "cell_type": "code",
   "execution_count": 16,
   "id": "5c7fe61a",
   "metadata": {},
   "outputs": [],
   "source": [
    "# There are some variables with cardinality as 1, we need to drop those columns as they are of no use.\n",
    "\n",
    "n_unique_tab = new_dataset.nunique().reset_index()"
   ]
  },
  {
   "cell_type": "code",
   "execution_count": 17,
   "id": "2165bc58",
   "metadata": {},
   "outputs": [],
   "source": [
    "n_unique_tab.columns = ['index', 'unique_values']\n"
   ]
  },
  {
   "cell_type": "code",
   "execution_count": 18,
   "id": "89f2cbce",
   "metadata": {},
   "outputs": [],
   "source": [
    "var_to_drop = list(n_unique_tab.loc[n_unique_tab.unique_values == 1, 'index'])"
   ]
  },
  {
   "cell_type": "code",
   "execution_count": 19,
   "id": "b70c0cf9",
   "metadata": {},
   "outputs": [],
   "source": [
    "# Varibale \"ID\" is non informative so we need to drop this also.\n",
    "\n",
    "\n",
    "var_to_drop = var_to_drop + ['ID']"
   ]
  },
  {
   "cell_type": "code",
   "execution_count": 20,
   "id": "1dca86ef",
   "metadata": {},
   "outputs": [],
   "source": [
    "# Dropping these columns from new_dataset\n",
    "\n",
    "new_dataset.drop(columns=var_to_drop, inplace=True)"
   ]
  },
  {
   "cell_type": "code",
   "execution_count": 21,
   "id": "764612d3",
   "metadata": {},
   "outputs": [
    {
     "name": "stdout",
     "output_type": "stream",
     "text": [
      "['card_lim', 'cc_cons_apr', 'cc_cons_jun', 'cc_cons_may', 'cc_count_apr', 'cc_count_jun', 'cc_count_may', 'credit_amount_apr', 'credit_amount_jun', 'credit_amount_may', 'credit_count_apr', 'credit_count_jun', 'credit_count_may', 'dc_cons_apr', 'dc_cons_jun', 'dc_cons_may', 'dc_count_apr', 'dc_count_jun', 'dc_count_may', 'debit_amount_apr', 'debit_amount_jun', 'debit_amount_may', 'debit_count_apr', 'debit_count_jun', 'debit_count_may', 'emi_active', 'investment_1', 'investment_2', 'investment_3', 'investment_4', 'max_credit_amount_apr', 'max_credit_amount_jun', 'max_credit_amount_may']\n"
     ]
    }
   ],
   "source": [
    "## Seprating continous variables\n",
    "\n",
    "cont_var = list(new_dataset.select_dtypes(['int', 'float']).columns.difference(['cc_cons', \"region_code\",\"Emp_Tenure_Years\",\"age\", 'NetBanking_Flag', 'Avg_days_between_transaction', \"Tenure_with_Bank\"]))\n",
    "\n",
    "print(cont_var)"
   ]
  },
  {
   "cell_type": "code",
   "execution_count": 22,
   "id": "4074cd08",
   "metadata": {},
   "outputs": [
    {
     "name": "stdout",
     "output_type": "stream",
     "text": [
      "['account_type', 'gender', 'Income', 'region_code', 'Emp_Tenure_Years', 'age', 'NetBanking_Flag', 'Avg_days_between_transaction', 'Tenure_with_Bank']\n"
     ]
    }
   ],
   "source": [
    "# Seprating categorical variables\n",
    "\n",
    "cat_var = list(new_dataset.select_dtypes(['object', 'string']).columns) + [\"region_code\",\"Emp_Tenure_Years\",\"age\", \"NetBanking_Flag\", \"Avg_days_between_transaction\", \"Tenure_with_Bank\"]\n",
    "\n",
    "print(cat_var)"
   ]
  },
  {
   "cell_type": "code",
   "execution_count": 23,
   "id": "b0b052d2",
   "metadata": {},
   "outputs": [],
   "source": [
    "## Outlier treatment for Continous variables\n",
    "\n",
    "\n",
    "# Outlier treatment only for those observations where variable \"cc_cons\" is not null\n",
    "\n",
    "\n",
    "new_dataset.loc[new_dataset.cc_cons.isna()==False][cont_var] = new_dataset.loc[new_dataset.cc_cons.isna()==False][cont_var].apply( lambda x: x.clip( upper = x.quantile(0.99), lower = x.quantile(0.01) ) )"
   ]
  },
  {
   "cell_type": "code",
   "execution_count": 24,
   "id": "6a7978c5",
   "metadata": {},
   "outputs": [],
   "source": [
    "## Null value tretment for Continous variables\n",
    "\n",
    "\n",
    "new_dataset.loc[:,cont_var] = new_dataset.loc[:,cont_var].apply( lambda x: x.fillna( x.mean() ) )"
   ]
  },
  {
   "cell_type": "code",
   "execution_count": 25,
   "id": "2ceb7b32",
   "metadata": {},
   "outputs": [],
   "source": [
    "## Null value tretment for Categorical variables\n",
    "\n",
    "\n",
    "new_dataset.loc[:,cat_var] = new_dataset.loc[:,cat_var].apply( lambda x: x.fillna( x.mode()[0] ) )"
   ]
  },
  {
   "cell_type": "code",
   "execution_count": 26,
   "id": "849505b8",
   "metadata": {},
   "outputs": [],
   "source": [
    "# Variable \"NetBanking_Flag\" has cardinality as 2 and as not in order so should be treated as categorical variable.\n",
    "\n",
    "new_dataset.NetBanking_Flag = new_dataset.NetBanking_Flag.astype('object')"
   ]
  },
  {
   "cell_type": "code",
   "execution_count": 27,
   "id": "b6a18fb0",
   "metadata": {},
   "outputs": [],
   "source": [
    "# For Variable \"Avg_days_between_transaction\", we are creaing a new column and grouping them in 4 parts, \n",
    "## also dropping existing column, \n",
    "### similerly for \"Tenure_with_Bank\" in 2 parts, \n",
    "#### \"region_code\" in 10 parts,\n",
    "##### \"Emp_Tenure_Years\" in 10 parts, \n",
    "###### \"age\" in 10 parts.\n",
    "\n",
    "\n",
    "\n",
    "\n",
    "new_dataset.loc[:, 'Avg_days_between_transaction'] = pd.qcut(new_dataset.loc[:, 'Avg_days_between_transaction'], q=4, labels=range(1,5,1))\n",
    "new_dataset.loc[:, 'Tenure_with_Bank'] = pd.qcut(new_dataset.loc[:, 'Tenure_with_Bank'], q=2, labels=range(1,3,1))\n",
    "new_dataset.loc[:, 'region_code'] = pd.qcut(new_dataset.loc[:, 'region_code'], q=10, labels=range(1,11,1))\n",
    "new_dataset.loc[:, 'Emp_Tenure_Years'] = pd.qcut(new_dataset.loc[:, 'Emp_Tenure_Years'], q=10, labels=range(1,11,1))\n",
    "new_dataset.loc[:, 'age'] = pd.qcut(new_dataset.loc[:, 'age'], q=10, labels=range(1,11,1))"
   ]
  },
  {
   "cell_type": "code",
   "execution_count": 28,
   "id": "85923ba7",
   "metadata": {},
   "outputs": [
    {
     "data": {
      "text/html": [
       "<div>\n",
       "<style scoped>\n",
       "    .dataframe tbody tr th:only-of-type {\n",
       "        vertical-align: middle;\n",
       "    }\n",
       "\n",
       "    .dataframe tbody tr th {\n",
       "        vertical-align: top;\n",
       "    }\n",
       "\n",
       "    .dataframe thead th {\n",
       "        text-align: right;\n",
       "    }\n",
       "</style>\n",
       "<table border=\"1\" class=\"dataframe\">\n",
       "  <thead>\n",
       "    <tr style=\"text-align: right;\">\n",
       "      <th></th>\n",
       "      <th>count</th>\n",
       "      <th>unique</th>\n",
       "      <th>top</th>\n",
       "      <th>freq</th>\n",
       "    </tr>\n",
       "  </thead>\n",
       "  <tbody>\n",
       "    <tr>\n",
       "      <th>account_type</th>\n",
       "      <td>20000</td>\n",
       "      <td>2</td>\n",
       "      <td>current</td>\n",
       "      <td>16926</td>\n",
       "    </tr>\n",
       "    <tr>\n",
       "      <th>gender</th>\n",
       "      <td>20000</td>\n",
       "      <td>2</td>\n",
       "      <td>M</td>\n",
       "      <td>17288</td>\n",
       "    </tr>\n",
       "    <tr>\n",
       "      <th>Income</th>\n",
       "      <td>20000</td>\n",
       "      <td>3</td>\n",
       "      <td>MEDIUM</td>\n",
       "      <td>12775</td>\n",
       "    </tr>\n",
       "    <tr>\n",
       "      <th>region_code</th>\n",
       "      <td>20000</td>\n",
       "      <td>10</td>\n",
       "      <td>1</td>\n",
       "      <td>2249</td>\n",
       "    </tr>\n",
       "    <tr>\n",
       "      <th>Emp_Tenure_Years</th>\n",
       "      <td>20000</td>\n",
       "      <td>10</td>\n",
       "      <td>1</td>\n",
       "      <td>2174</td>\n",
       "    </tr>\n",
       "    <tr>\n",
       "      <th>age</th>\n",
       "      <td>20000</td>\n",
       "      <td>10</td>\n",
       "      <td>7</td>\n",
       "      <td>2762</td>\n",
       "    </tr>\n",
       "    <tr>\n",
       "      <th>NetBanking_Flag</th>\n",
       "      <td>20000</td>\n",
       "      <td>2</td>\n",
       "      <td>1</td>\n",
       "      <td>14360</td>\n",
       "    </tr>\n",
       "    <tr>\n",
       "      <th>Avg_days_between_transaction</th>\n",
       "      <td>20000</td>\n",
       "      <td>4</td>\n",
       "      <td>3</td>\n",
       "      <td>5318</td>\n",
       "    </tr>\n",
       "    <tr>\n",
       "      <th>Tenure_with_Bank</th>\n",
       "      <td>20000</td>\n",
       "      <td>2</td>\n",
       "      <td>1</td>\n",
       "      <td>11978</td>\n",
       "    </tr>\n",
       "  </tbody>\n",
       "</table>\n",
       "</div>"
      ],
      "text/plain": [
       "                              count unique      top   freq\n",
       "account_type                  20000      2  current  16926\n",
       "gender                        20000      2        M  17288\n",
       "Income                        20000      3   MEDIUM  12775\n",
       "region_code                   20000     10        1   2249\n",
       "Emp_Tenure_Years              20000     10        1   2174\n",
       "age                           20000     10        7   2762\n",
       "NetBanking_Flag               20000      2        1  14360\n",
       "Avg_days_between_transaction  20000      4        3   5318\n",
       "Tenure_with_Bank              20000      2        1  11978"
      ]
     },
     "execution_count": 28,
     "metadata": {},
     "output_type": "execute_result"
    }
   ],
   "source": [
    "# Exploring categorical variables\n",
    "\n",
    "\n",
    "new_dataset.loc[:, cat_var].describe().T"
   ]
  },
  {
   "cell_type": "code",
   "execution_count": 29,
   "id": "aa8908ec",
   "metadata": {},
   "outputs": [
    {
     "name": "stdout",
     "output_type": "stream",
     "text": [
      "<class 'pandas.core.frame.DataFrame'>\n",
      "Int64Index: 20000 entries, 0 to 19999\n",
      "Data columns (total 9 columns):\n",
      " #   Column                        Non-Null Count  Dtype   \n",
      "---  ------                        --------------  -----   \n",
      " 0   account_type                  20000 non-null  object  \n",
      " 1   gender                        20000 non-null  object  \n",
      " 2   Income                        20000 non-null  object  \n",
      " 3   region_code                   20000 non-null  category\n",
      " 4   Emp_Tenure_Years              20000 non-null  category\n",
      " 5   age                           20000 non-null  category\n",
      " 6   NetBanking_Flag               20000 non-null  object  \n",
      " 7   Avg_days_between_transaction  20000 non-null  category\n",
      " 8   Tenure_with_Bank              20000 non-null  category\n",
      "dtypes: category(5), object(4)\n",
      "memory usage: 879.6+ KB\n"
     ]
    }
   ],
   "source": [
    "new_dataset.loc[:, cat_var].info()"
   ]
  },
  {
   "cell_type": "code",
   "execution_count": 30,
   "id": "dd39673e",
   "metadata": {},
   "outputs": [],
   "source": [
    "# Dummy creation (one - hot encoding)\n",
    "\n",
    "cat_data = pd.get_dummies(new_dataset.loc[:, cat_var], drop_first=True)"
   ]
  },
  {
   "cell_type": "code",
   "execution_count": 31,
   "id": "5fb8838c",
   "metadata": {},
   "outputs": [],
   "source": [
    "# Getting new dataset by combining all the veriables and datasets\n",
    "\n",
    "cont_data = pd.concat([new_dataset.loc[:, 'cc_cons'], new_dataset.loc[:, cont_var]], axis=1)"
   ]
  },
  {
   "cell_type": "code",
   "execution_count": 32,
   "id": "2410d7fa",
   "metadata": {},
   "outputs": [],
   "source": [
    "data = pd.concat([cont_data, cat_data], axis=1)"
   ]
  },
  {
   "cell_type": "code",
   "execution_count": 33,
   "id": "ac9155b3",
   "metadata": {},
   "outputs": [
    {
     "data": {
      "text/html": [
       "<div>\n",
       "<style scoped>\n",
       "    .dataframe tbody tr th:only-of-type {\n",
       "        vertical-align: middle;\n",
       "    }\n",
       "\n",
       "    .dataframe tbody tr th {\n",
       "        vertical-align: top;\n",
       "    }\n",
       "\n",
       "    .dataframe thead th {\n",
       "        text-align: right;\n",
       "    }\n",
       "</style>\n",
       "<table border=\"1\" class=\"dataframe\">\n",
       "  <thead>\n",
       "    <tr style=\"text-align: right;\">\n",
       "      <th></th>\n",
       "      <th>cc_cons</th>\n",
       "      <th>card_lim</th>\n",
       "      <th>cc_cons_apr</th>\n",
       "      <th>cc_cons_jun</th>\n",
       "      <th>cc_cons_may</th>\n",
       "      <th>cc_count_apr</th>\n",
       "      <th>cc_count_jun</th>\n",
       "      <th>cc_count_may</th>\n",
       "      <th>credit_amount_apr</th>\n",
       "      <th>credit_amount_jun</th>\n",
       "      <th>...</th>\n",
       "      <th>age_6</th>\n",
       "      <th>age_7</th>\n",
       "      <th>age_8</th>\n",
       "      <th>age_9</th>\n",
       "      <th>age_10</th>\n",
       "      <th>NetBanking_Flag_1</th>\n",
       "      <th>Avg_days_between_transaction_2</th>\n",
       "      <th>Avg_days_between_transaction_3</th>\n",
       "      <th>Avg_days_between_transaction_4</th>\n",
       "      <th>Tenure_with_Bank_2</th>\n",
       "    </tr>\n",
       "  </thead>\n",
       "  <tbody>\n",
       "    <tr>\n",
       "      <th>0</th>\n",
       "      <td>20014.0</td>\n",
       "      <td>430000</td>\n",
       "      <td>24893.000</td>\n",
       "      <td>16291.40</td>\n",
       "      <td>10288.00</td>\n",
       "      <td>2.0</td>\n",
       "      <td>10</td>\n",
       "      <td>26</td>\n",
       "      <td>25192.00</td>\n",
       "      <td>12761.00</td>\n",
       "      <td>...</td>\n",
       "      <td>0</td>\n",
       "      <td>0</td>\n",
       "      <td>0</td>\n",
       "      <td>0</td>\n",
       "      <td>0</td>\n",
       "      <td>0</td>\n",
       "      <td>0</td>\n",
       "      <td>0</td>\n",
       "      <td>1</td>\n",
       "      <td>0</td>\n",
       "    </tr>\n",
       "    <tr>\n",
       "      <th>1</th>\n",
       "      <td>10173.0</td>\n",
       "      <td>127500</td>\n",
       "      <td>18941.620</td>\n",
       "      <td>4217.00</td>\n",
       "      <td>20672.00</td>\n",
       "      <td>1.0</td>\n",
       "      <td>13</td>\n",
       "      <td>7</td>\n",
       "      <td>88693.37</td>\n",
       "      <td>76206.00</td>\n",
       "      <td>...</td>\n",
       "      <td>0</td>\n",
       "      <td>0</td>\n",
       "      <td>0</td>\n",
       "      <td>0</td>\n",
       "      <td>0</td>\n",
       "      <td>0</td>\n",
       "      <td>0</td>\n",
       "      <td>1</td>\n",
       "      <td>0</td>\n",
       "      <td>0</td>\n",
       "    </tr>\n",
       "    <tr>\n",
       "      <th>2</th>\n",
       "      <td>16095.0</td>\n",
       "      <td>199999</td>\n",
       "      <td>5678.870</td>\n",
       "      <td>23956.25</td>\n",
       "      <td>1964.50</td>\n",
       "      <td>43.0</td>\n",
       "      <td>102</td>\n",
       "      <td>32</td>\n",
       "      <td>84880.00</td>\n",
       "      <td>75283.00</td>\n",
       "      <td>...</td>\n",
       "      <td>0</td>\n",
       "      <td>0</td>\n",
       "      <td>1</td>\n",
       "      <td>0</td>\n",
       "      <td>0</td>\n",
       "      <td>1</td>\n",
       "      <td>0</td>\n",
       "      <td>0</td>\n",
       "      <td>0</td>\n",
       "      <td>0</td>\n",
       "    </tr>\n",
       "    <tr>\n",
       "      <th>3</th>\n",
       "      <td>7707.0</td>\n",
       "      <td>155000</td>\n",
       "      <td>30489.500</td>\n",
       "      <td>17521.00</td>\n",
       "      <td>12609.88</td>\n",
       "      <td>53.0</td>\n",
       "      <td>50</td>\n",
       "      <td>1</td>\n",
       "      <td>236326.00</td>\n",
       "      <td>68708.00</td>\n",
       "      <td>...</td>\n",
       "      <td>0</td>\n",
       "      <td>0</td>\n",
       "      <td>0</td>\n",
       "      <td>0</td>\n",
       "      <td>0</td>\n",
       "      <td>1</td>\n",
       "      <td>0</td>\n",
       "      <td>0</td>\n",
       "      <td>0</td>\n",
       "      <td>0</td>\n",
       "    </tr>\n",
       "    <tr>\n",
       "      <th>4</th>\n",
       "      <td>96408.0</td>\n",
       "      <td>297000</td>\n",
       "      <td>7441.400</td>\n",
       "      <td>2121.00</td>\n",
       "      <td>4364.00</td>\n",
       "      <td>67.0</td>\n",
       "      <td>82</td>\n",
       "      <td>47</td>\n",
       "      <td>58897.03</td>\n",
       "      <td>80140.00</td>\n",
       "      <td>...</td>\n",
       "      <td>0</td>\n",
       "      <td>0</td>\n",
       "      <td>0</td>\n",
       "      <td>0</td>\n",
       "      <td>0</td>\n",
       "      <td>1</td>\n",
       "      <td>1</td>\n",
       "      <td>0</td>\n",
       "      <td>0</td>\n",
       "      <td>0</td>\n",
       "    </tr>\n",
       "    <tr>\n",
       "      <th>...</th>\n",
       "      <td>...</td>\n",
       "      <td>...</td>\n",
       "      <td>...</td>\n",
       "      <td>...</td>\n",
       "      <td>...</td>\n",
       "      <td>...</td>\n",
       "      <td>...</td>\n",
       "      <td>...</td>\n",
       "      <td>...</td>\n",
       "      <td>...</td>\n",
       "      <td>...</td>\n",
       "      <td>...</td>\n",
       "      <td>...</td>\n",
       "      <td>...</td>\n",
       "      <td>...</td>\n",
       "      <td>...</td>\n",
       "      <td>...</td>\n",
       "      <td>...</td>\n",
       "      <td>...</td>\n",
       "      <td>...</td>\n",
       "      <td>...</td>\n",
       "    </tr>\n",
       "    <tr>\n",
       "      <th>19995</th>\n",
       "      <td>NaN</td>\n",
       "      <td>595000</td>\n",
       "      <td>4641.500</td>\n",
       "      <td>41743.00</td>\n",
       "      <td>6008.61</td>\n",
       "      <td>26.0</td>\n",
       "      <td>4</td>\n",
       "      <td>1</td>\n",
       "      <td>37646.41</td>\n",
       "      <td>125470.83</td>\n",
       "      <td>...</td>\n",
       "      <td>0</td>\n",
       "      <td>0</td>\n",
       "      <td>0</td>\n",
       "      <td>0</td>\n",
       "      <td>0</td>\n",
       "      <td>0</td>\n",
       "      <td>1</td>\n",
       "      <td>0</td>\n",
       "      <td>0</td>\n",
       "      <td>0</td>\n",
       "    </tr>\n",
       "    <tr>\n",
       "      <th>19996</th>\n",
       "      <td>NaN</td>\n",
       "      <td>13000</td>\n",
       "      <td>4994.450</td>\n",
       "      <td>1041.00</td>\n",
       "      <td>23214.00</td>\n",
       "      <td>37.0</td>\n",
       "      <td>50</td>\n",
       "      <td>56</td>\n",
       "      <td>1605.00</td>\n",
       "      <td>86559.00</td>\n",
       "      <td>...</td>\n",
       "      <td>0</td>\n",
       "      <td>1</td>\n",
       "      <td>0</td>\n",
       "      <td>0</td>\n",
       "      <td>0</td>\n",
       "      <td>1</td>\n",
       "      <td>0</td>\n",
       "      <td>0</td>\n",
       "      <td>0</td>\n",
       "      <td>1</td>\n",
       "    </tr>\n",
       "    <tr>\n",
       "      <th>19997</th>\n",
       "      <td>NaN</td>\n",
       "      <td>124000</td>\n",
       "      <td>3262.145</td>\n",
       "      <td>4130.00</td>\n",
       "      <td>7335.25</td>\n",
       "      <td>12.0</td>\n",
       "      <td>1</td>\n",
       "      <td>77</td>\n",
       "      <td>80044.00</td>\n",
       "      <td>80627.00</td>\n",
       "      <td>...</td>\n",
       "      <td>0</td>\n",
       "      <td>0</td>\n",
       "      <td>0</td>\n",
       "      <td>1</td>\n",
       "      <td>0</td>\n",
       "      <td>1</td>\n",
       "      <td>0</td>\n",
       "      <td>1</td>\n",
       "      <td>0</td>\n",
       "      <td>1</td>\n",
       "    </tr>\n",
       "    <tr>\n",
       "      <th>19998</th>\n",
       "      <td>NaN</td>\n",
       "      <td>371000</td>\n",
       "      <td>12824.010</td>\n",
       "      <td>15132.77</td>\n",
       "      <td>12242.48</td>\n",
       "      <td>67.0</td>\n",
       "      <td>4</td>\n",
       "      <td>1</td>\n",
       "      <td>66057.00</td>\n",
       "      <td>24332.00</td>\n",
       "      <td>...</td>\n",
       "      <td>0</td>\n",
       "      <td>0</td>\n",
       "      <td>0</td>\n",
       "      <td>0</td>\n",
       "      <td>0</td>\n",
       "      <td>0</td>\n",
       "      <td>0</td>\n",
       "      <td>1</td>\n",
       "      <td>0</td>\n",
       "      <td>0</td>\n",
       "    </tr>\n",
       "    <tr>\n",
       "      <th>19999</th>\n",
       "      <td>NaN</td>\n",
       "      <td>576000</td>\n",
       "      <td>26218.000</td>\n",
       "      <td>1314.64</td>\n",
       "      <td>2832.00</td>\n",
       "      <td>7.0</td>\n",
       "      <td>84</td>\n",
       "      <td>1</td>\n",
       "      <td>74665.00</td>\n",
       "      <td>76669.00</td>\n",
       "      <td>...</td>\n",
       "      <td>0</td>\n",
       "      <td>0</td>\n",
       "      <td>0</td>\n",
       "      <td>0</td>\n",
       "      <td>0</td>\n",
       "      <td>1</td>\n",
       "      <td>0</td>\n",
       "      <td>1</td>\n",
       "      <td>0</td>\n",
       "      <td>1</td>\n",
       "    </tr>\n",
       "  </tbody>\n",
       "</table>\n",
       "<p>20000 rows × 70 columns</p>\n",
       "</div>"
      ],
      "text/plain": [
       "       cc_cons  card_lim  cc_cons_apr  cc_cons_jun  cc_cons_may  cc_count_apr  \\\n",
       "0      20014.0    430000    24893.000     16291.40     10288.00           2.0   \n",
       "1      10173.0    127500    18941.620      4217.00     20672.00           1.0   \n",
       "2      16095.0    199999     5678.870     23956.25      1964.50          43.0   \n",
       "3       7707.0    155000    30489.500     17521.00     12609.88          53.0   \n",
       "4      96408.0    297000     7441.400      2121.00      4364.00          67.0   \n",
       "...        ...       ...          ...          ...          ...           ...   \n",
       "19995      NaN    595000     4641.500     41743.00      6008.61          26.0   \n",
       "19996      NaN     13000     4994.450      1041.00     23214.00          37.0   \n",
       "19997      NaN    124000     3262.145      4130.00      7335.25          12.0   \n",
       "19998      NaN    371000    12824.010     15132.77     12242.48          67.0   \n",
       "19999      NaN    576000    26218.000      1314.64      2832.00           7.0   \n",
       "\n",
       "       cc_count_jun  cc_count_may  credit_amount_apr  credit_amount_jun  ...  \\\n",
       "0                10            26           25192.00           12761.00  ...   \n",
       "1                13             7           88693.37           76206.00  ...   \n",
       "2               102            32           84880.00           75283.00  ...   \n",
       "3                50             1          236326.00           68708.00  ...   \n",
       "4                82            47           58897.03           80140.00  ...   \n",
       "...             ...           ...                ...                ...  ...   \n",
       "19995             4             1           37646.41          125470.83  ...   \n",
       "19996            50            56            1605.00           86559.00  ...   \n",
       "19997             1            77           80044.00           80627.00  ...   \n",
       "19998             4             1           66057.00           24332.00  ...   \n",
       "19999            84             1           74665.00           76669.00  ...   \n",
       "\n",
       "       age_6  age_7  age_8  age_9  age_10  NetBanking_Flag_1  \\\n",
       "0          0      0      0      0       0                  0   \n",
       "1          0      0      0      0       0                  0   \n",
       "2          0      0      1      0       0                  1   \n",
       "3          0      0      0      0       0                  1   \n",
       "4          0      0      0      0       0                  1   \n",
       "...      ...    ...    ...    ...     ...                ...   \n",
       "19995      0      0      0      0       0                  0   \n",
       "19996      0      1      0      0       0                  1   \n",
       "19997      0      0      0      1       0                  1   \n",
       "19998      0      0      0      0       0                  0   \n",
       "19999      0      0      0      0       0                  1   \n",
       "\n",
       "       Avg_days_between_transaction_2  Avg_days_between_transaction_3  \\\n",
       "0                                   0                               0   \n",
       "1                                   0                               1   \n",
       "2                                   0                               0   \n",
       "3                                   0                               0   \n",
       "4                                   1                               0   \n",
       "...                               ...                             ...   \n",
       "19995                               1                               0   \n",
       "19996                               0                               0   \n",
       "19997                               0                               1   \n",
       "19998                               0                               1   \n",
       "19999                               0                               1   \n",
       "\n",
       "       Avg_days_between_transaction_4  Tenure_with_Bank_2  \n",
       "0                                   1                   0  \n",
       "1                                   0                   0  \n",
       "2                                   0                   0  \n",
       "3                                   0                   0  \n",
       "4                                   0                   0  \n",
       "...                               ...                 ...  \n",
       "19995                               0                   0  \n",
       "19996                               0                   1  \n",
       "19997                               0                   1  \n",
       "19998                               0                   0  \n",
       "19999                               0                   1  \n",
       "\n",
       "[20000 rows x 70 columns]"
      ]
     },
     "execution_count": 33,
     "metadata": {},
     "output_type": "execute_result"
    }
   ],
   "source": [
    "data"
   ]
  },
  {
   "cell_type": "markdown",
   "id": "05423895",
   "metadata": {},
   "source": [
    "# Seprating new and existing data"
   ]
  },
  {
   "cell_type": "code",
   "execution_count": 34,
   "id": "a9466773",
   "metadata": {},
   "outputs": [],
   "source": [
    "new = data.loc[data.cc_cons.isna()== True]\n",
    "ex = data.loc[data.cc_cons.notna()== True]"
   ]
  },
  {
   "cell_type": "markdown",
   "id": "2fdf2b3c",
   "metadata": {},
   "source": [
    "### Normality of Traget variable"
   ]
  },
  {
   "cell_type": "code",
   "execution_count": 35,
   "id": "e17467e4",
   "metadata": {},
   "outputs": [
    {
     "name": "stdout",
     "output_type": "stream",
     "text": [
      "Skewness of variable \"cc_cons\" 2.126581960835585\n"
     ]
    },
    {
     "data": {
      "image/png": "[encoded data removed]",
      "text/plain": [
       "<Figure size 800x600 with 1 Axes>"
      ]
     },
     "metadata": {},
     "output_type": "display_data"
    },
    {
     "name": "stdout",
     "output_type": "stream",
     "text": [
      "Skewness is very high and as per chart this variable is not normally distributed\n"
     ]
    }
   ],
   "source": [
    "print('Skewness of variable \"cc_cons\"',ex.cc_cons.skew())\n",
    "\n",
    "sns.set(style=\"whitegrid\")\n",
    "plt.figure(figsize=(8, 6))\n",
    "\n",
    "sns.histplot(ex.cc_cons, kde=True, color='skyblue')\n",
    "\n",
    "plt.xlabel(\"Credit Card Consumption\")\n",
    "plt.ylabel(\"Frequency\")\n",
    "plt.title(\"Distribution of Credit Card Consumption\")\n",
    "\n",
    "plt.ticklabel_format(style='plain')\n",
    "plt.grid(True, linestyle='--', alpha=0.7)\n",
    "plt.show()\n",
    "\n",
    "\n",
    "\n",
    "\n",
    "print('Skewness is very high and as per chart this variable is not normally distributed')\n"
   ]
  },
  {
   "cell_type": "code",
   "execution_count": 36,
   "id": "ed968997",
   "metadata": {},
   "outputs": [
    {
     "data": {
      "text/plain": [
       "0.01"
      ]
     },
     "execution_count": 36,
     "metadata": {},
     "output_type": "execute_result"
    }
   ],
   "source": [
    "#'We need to transform the Traget variable using log'\n",
    "\n",
    "# Before this we need to see if traget variable contains value as \"0\"\n",
    "## As log of 0 is infinity so we need to change this to non-zero number\n",
    "\n",
    "\n",
    "ex.loc[ex.cc_cons == 0, 'cc_cons'] = 0.01\n",
    "ex.cc_cons.min()"
   ]
  },
  {
   "cell_type": "code",
   "execution_count": 37,
   "id": "60dc6067",
   "metadata": {},
   "outputs": [
    {
     "name": "stdout",
     "output_type": "stream",
     "text": [
      "Skewness of variable \"y_variable\" 0.0572993435230938\n"
     ]
    },
    {
     "data": {
      "image/png": "[encoded data removed]",
      "text/plain": [
       "<Figure size 800x600 with 1 Axes>"
      ]
     },
     "metadata": {},
     "output_type": "display_data"
    }
   ],
   "source": [
    "print('Skewness of variable \"y_variable\"',np.log(ex.cc_cons).skew())\n",
    "\n",
    "\n",
    "sns.set(style=\"whitegrid\")\n",
    "plt.figure(figsize=(8, 6))\n",
    "\n",
    "sns.histplot(np.log(ex.cc_cons), kde=True, color='skyblue')\n",
    "\n",
    "plt.xlabel(\"Credit Card Consumption\")\n",
    "plt.ylabel(\"Frequency\")\n",
    "plt.title(\"Distribution of Credit Card Consumption\")\n",
    "\n",
    "plt.ticklabel_format(style='plain')\n",
    "plt.grid(True, linestyle='--', alpha=0.7)\n",
    "plt.show()\n",
    "\n",
    "\n",
    "\n",
    "# Now the chart is almost normally distributed as Skewness of variable \"y_variable\" is 0.0572993435230938\n"
   ]
  },
  {
   "cell_type": "code",
   "execution_count": 38,
   "id": "a9077040",
   "metadata": {},
   "outputs": [],
   "source": [
    "ex.loc[:, 'y_variable'] = np.log(ex.cc_cons)"
   ]
  },
  {
   "cell_type": "markdown",
   "id": "5059cd83",
   "metadata": {},
   "source": [
    "# Feature selection"
   ]
  },
  {
   "cell_type": "code",
   "execution_count": 39,
   "id": "79cf2c9c",
   "metadata": {},
   "outputs": [],
   "source": [
    "from sklearn.feature_selection import SelectKBest, RFE, f_regression\n",
    "\n",
    "from sklearn.linear_model import LinearRegression"
   ]
  },
  {
   "cell_type": "code",
   "execution_count": 40,
   "id": "3772f237",
   "metadata": {},
   "outputs": [],
   "source": [
    "# Using selectKBest\n",
    "\n",
    "SKB = SelectKBest(k=10, score_func= f_regression)"
   ]
  },
  {
   "cell_type": "code",
   "execution_count": 41,
   "id": "f6ae64f2",
   "metadata": {},
   "outputs": [
    {
     "data": {
      "text/html": [
       "<style>#sk-container-id-1 {color: black;}#sk-container-id-1 pre{padding: 0;}#sk-container-id-1 div.sk-toggleable {background-color: white;}#sk-container-id-1 label.sk-toggleable__label {cursor: pointer;display: block;width: 100%;margin-bottom: 0;padding: 0.3em;box-sizing: border-box;text-align: center;}#sk-container-id-1 label.sk-toggleable__label-arrow:before {content: \"▸\";float: left;margin-right: 0.25em;color: #696969;}#sk-container-id-1 label.sk-toggleable__label-arrow:hover:before {color: black;}#sk-container-id-1 div.sk-estimator:hover label.sk-toggleable__label-arrow:before {color: black;}#sk-container-id-1 div.sk-toggleable__content {max-height: 0;max-width: 0;overflow: hidden;text-align: left;background-color: #f0f8ff;}#sk-container-id-1 div.sk-toggleable__content pre {margin: 0.2em;color: black;border-radius: 0.25em;background-color: #f0f8ff;}#sk-container-id-1 input.sk-toggleable__control:checked~div.sk-toggleable__content {max-height: 200px;max-width: 100%;overflow: auto;}#sk-container-id-1 input.sk-toggleable__control:checked~label.sk-toggleable__label-arrow:before {content: \"▾\";}#sk-container-id-1 div.sk-estimator input.sk-toggleable__control:checked~label.sk-toggleable__label {background-color: #d4ebff;}#sk-container-id-1 div.sk-label input.sk-toggleable__control:checked~label.sk-toggleable__label {background-color: #d4ebff;}#sk-container-id-1 input.sk-hidden--visually {border: 0;clip: rect(1px 1px 1px 1px);clip: rect(1px, 1px, 1px, 1px);height: 1px;margin: -1px;overflow: hidden;padding: 0;position: absolute;width: 1px;}#sk-container-id-1 div.sk-estimator {font-family: monospace;background-color: #f0f8ff;border: 1px dotted black;border-radius: 0.25em;box-sizing: border-box;margin-bottom: 0.5em;}#sk-container-id-1 div.sk-estimator:hover {background-color: #d4ebff;}#sk-container-id-1 div.sk-parallel-item::after {content: \"\";width: 100%;border-bottom: 1px solid gray;flex-grow: 1;}#sk-container-id-1 div.sk-label:hover label.sk-toggleable__label {background-color: #d4ebff;}#sk-container-id-1 div.sk-serial::before {content: \"\";position: absolute;border-left: 1px solid gray;box-sizing: border-box;top: 0;bottom: 0;left: 50%;z-index: 0;}#sk-container-id-1 div.sk-serial {display: flex;flex-direction: column;align-items: center;background-color: white;padding-right: 0.2em;padding-left: 0.2em;position: relative;}#sk-container-id-1 div.sk-item {position: relative;z-index: 1;}#sk-container-id-1 div.sk-parallel {display: flex;align-items: stretch;justify-content: center;background-color: white;position: relative;}#sk-container-id-1 div.sk-item::before, #sk-container-id-1 div.sk-parallel-item::before {content: \"\";position: absolute;border-left: 1px solid gray;box-sizing: border-box;top: 0;bottom: 0;left: 50%;z-index: -1;}#sk-container-id-1 div.sk-parallel-item {display: flex;flex-direction: column;z-index: 1;position: relative;background-color: white;}#sk-container-id-1 div.sk-parallel-item:first-child::after {align-self: flex-end;width: 50%;}#sk-container-id-1 div.sk-parallel-item:last-child::after {align-self: flex-start;width: 50%;}#sk-container-id-1 div.sk-parallel-item:only-child::after {width: 0;}#sk-container-id-1 div.sk-dashed-wrapped {border: 1px dashed gray;margin: 0 0.4em 0.5em 0.4em;box-sizing: border-box;padding-bottom: 0.4em;background-color: white;}#sk-container-id-1 div.sk-label label {font-family: monospace;font-weight: bold;display: inline-block;line-height: 1.2em;}#sk-container-id-1 div.sk-label-container {text-align: center;}#sk-container-id-1 div.sk-container {/* jupyter's `normalize.less` sets `[hidden] { display: none; }` but bootstrap.min.css set `[hidden] { display: none !important; }` so we also need the `!important` here to be able to override the default hidden behavior on the sphinx rendered scikit-learn.org. See: https://github.com/scikit-learn/scikit-learn/issues/21755 */display: inline-block !important;position: relative;}#sk-container-id-1 div.sk-text-repr-fallback {display: none;}</style><div id=\"sk-container-id-1\" class=\"sk-top-container\"><div class=\"sk-text-repr-fallback\"><pre>SelectKBest(score_func=&lt;function f_regression at 0x000002620C01AD40&gt;)</pre><b>In a Jupyter environment, please rerun this cell to show the HTML representation or trust the notebook. <br />On GitHub, the HTML representation is unable to render, please try loading this page with nbviewer.org.</b></div><div class=\"sk-container\" hidden><div class=\"sk-item\"><div class=\"sk-estimator sk-toggleable\"><input class=\"sk-toggleable__control sk-hidden--visually\" id=\"sk-estimator-id-1\" type=\"checkbox\" checked><label for=\"sk-estimator-id-1\" class=\"sk-toggleable__label sk-toggleable__label-arrow\">SelectKBest</label><div class=\"sk-toggleable__content\"><pre>SelectKBest(score_func=&lt;function f_regression at 0x000002620C01AD40&gt;)</pre></div></div></div></div></div>"
      ],
      "text/plain": [
       "SelectKBest(score_func=<function f_regression at 0x000002620C01AD40>)"
      ]
     },
     "execution_count": 41,
     "metadata": {},
     "output_type": "execute_result"
    }
   ],
   "source": [
    "SKB.fit(ex.loc[:, ex.columns.difference(['y_variable', 'cc_cons'])], ex.loc[:,'y_variable'] )"
   ]
  },
  {
   "cell_type": "code",
   "execution_count": 42,
   "id": "43aa3b8d",
   "metadata": {},
   "outputs": [
    {
     "name": "stdout",
     "output_type": "stream",
     "text": [
      "['Avg_days_between_transaction_3', 'Emp_Tenure_Years_7', 'Emp_Tenure_Years_9', 'age_4', 'age_7', 'cc_cons_may', 'cc_count_apr', 'cc_count_may', 'investment_2', 'max_credit_amount_apr']\n"
     ]
    }
   ],
   "source": [
    "list_SKB = list(ex.columns.difference(['y_variable', 'cc_cons'])[SKB.get_support()])\n",
    "print(list_SKB)"
   ]
  },
  {
   "cell_type": "code",
   "execution_count": 43,
   "id": "2e7f829f",
   "metadata": {},
   "outputs": [],
   "source": [
    "# Using RFE\n",
    "\n",
    "RFE = RFE(LinearRegression(), n_features_to_select=10)"
   ]
  },
  {
   "cell_type": "code",
   "execution_count": 44,
   "id": "27e3ce04",
   "metadata": {},
   "outputs": [
    {
     "data": {
      "text/html": [
       "<style>#sk-container-id-2 {color: black;}#sk-container-id-2 pre{padding: 0;}#sk-container-id-2 div.sk-toggleable {background-color: white;}#sk-container-id-2 label.sk-toggleable__label {cursor: pointer;display: block;width: 100%;margin-bottom: 0;padding: 0.3em;box-sizing: border-box;text-align: center;}#sk-container-id-2 label.sk-toggleable__label-arrow:before {content: \"▸\";float: left;margin-right: 0.25em;color: #696969;}#sk-container-id-2 label.sk-toggleable__label-arrow:hover:before {color: black;}#sk-container-id-2 div.sk-estimator:hover label.sk-toggleable__label-arrow:before {color: black;}#sk-container-id-2 div.sk-toggleable__content {max-height: 0;max-width: 0;overflow: hidden;text-align: left;background-color: #f0f8ff;}#sk-container-id-2 div.sk-toggleable__content pre {margin: 0.2em;color: black;border-radius: 0.25em;background-color: #f0f8ff;}#sk-container-id-2 input.sk-toggleable__control:checked~div.sk-toggleable__content {max-height: 200px;max-width: 100%;overflow: auto;}#sk-container-id-2 input.sk-toggleable__control:checked~label.sk-toggleable__label-arrow:before {content: \"▾\";}#sk-container-id-2 div.sk-estimator input.sk-toggleable__control:checked~label.sk-toggleable__label {background-color: #d4ebff;}#sk-container-id-2 div.sk-label input.sk-toggleable__control:checked~label.sk-toggleable__label {background-color: #d4ebff;}#sk-container-id-2 input.sk-hidden--visually {border: 0;clip: rect(1px 1px 1px 1px);clip: rect(1px, 1px, 1px, 1px);height: 1px;margin: -1px;overflow: hidden;padding: 0;position: absolute;width: 1px;}#sk-container-id-2 div.sk-estimator {font-family: monospace;background-color: #f0f8ff;border: 1px dotted black;border-radius: 0.25em;box-sizing: border-box;margin-bottom: 0.5em;}#sk-container-id-2 div.sk-estimator:hover {background-color: #d4ebff;}#sk-container-id-2 div.sk-parallel-item::after {content: \"\";width: 100%;border-bottom: 1px solid gray;flex-grow: 1;}#sk-container-id-2 div.sk-label:hover label.sk-toggleable__label {background-color: #d4ebff;}#sk-container-id-2 div.sk-serial::before {content: \"\";position: absolute;border-left: 1px solid gray;box-sizing: border-box;top: 0;bottom: 0;left: 50%;z-index: 0;}#sk-container-id-2 div.sk-serial {display: flex;flex-direction: column;align-items: center;background-color: white;padding-right: 0.2em;padding-left: 0.2em;position: relative;}#sk-container-id-2 div.sk-item {position: relative;z-index: 1;}#sk-container-id-2 div.sk-parallel {display: flex;align-items: stretch;justify-content: center;background-color: white;position: relative;}#sk-container-id-2 div.sk-item::before, #sk-container-id-2 div.sk-parallel-item::before {content: \"\";position: absolute;border-left: 1px solid gray;box-sizing: border-box;top: 0;bottom: 0;left: 50%;z-index: -1;}#sk-container-id-2 div.sk-parallel-item {display: flex;flex-direction: column;z-index: 1;position: relative;background-color: white;}#sk-container-id-2 div.sk-parallel-item:first-child::after {align-self: flex-end;width: 50%;}#sk-container-id-2 div.sk-parallel-item:last-child::after {align-self: flex-start;width: 50%;}#sk-container-id-2 div.sk-parallel-item:only-child::after {width: 0;}#sk-container-id-2 div.sk-dashed-wrapped {border: 1px dashed gray;margin: 0 0.4em 0.5em 0.4em;box-sizing: border-box;padding-bottom: 0.4em;background-color: white;}#sk-container-id-2 div.sk-label label {font-family: monospace;font-weight: bold;display: inline-block;line-height: 1.2em;}#sk-container-id-2 div.sk-label-container {text-align: center;}#sk-container-id-2 div.sk-container {/* jupyter's `normalize.less` sets `[hidden] { display: none; }` but bootstrap.min.css set `[hidden] { display: none !important; }` so we also need the `!important` here to be able to override the default hidden behavior on the sphinx rendered scikit-learn.org. See: https://github.com/scikit-learn/scikit-learn/issues/21755 */display: inline-block !important;position: relative;}#sk-container-id-2 div.sk-text-repr-fallback {display: none;}</style><div id=\"sk-container-id-2\" class=\"sk-top-container\"><div class=\"sk-text-repr-fallback\"><pre>RFE(estimator=LinearRegression(), n_features_to_select=10)</pre><b>In a Jupyter environment, please rerun this cell to show the HTML representation or trust the notebook. <br />On GitHub, the HTML representation is unable to render, please try loading this page with nbviewer.org.</b></div><div class=\"sk-container\" hidden><div class=\"sk-item sk-dashed-wrapped\"><div class=\"sk-label-container\"><div class=\"sk-label sk-toggleable\"><input class=\"sk-toggleable__control sk-hidden--visually\" id=\"sk-estimator-id-2\" type=\"checkbox\" ><label for=\"sk-estimator-id-2\" class=\"sk-toggleable__label sk-toggleable__label-arrow\">RFE</label><div class=\"sk-toggleable__content\"><pre>RFE(estimator=LinearRegression(), n_features_to_select=10)</pre></div></div></div><div class=\"sk-parallel\"><div class=\"sk-parallel-item\"><div class=\"sk-item\"><div class=\"sk-label-container\"><div class=\"sk-label sk-toggleable\"><input class=\"sk-toggleable__control sk-hidden--visually\" id=\"sk-estimator-id-3\" type=\"checkbox\" ><label for=\"sk-estimator-id-3\" class=\"sk-toggleable__label sk-toggleable__label-arrow\">estimator: LinearRegression</label><div class=\"sk-toggleable__content\"><pre>LinearRegression()</pre></div></div></div><div class=\"sk-serial\"><div class=\"sk-item\"><div class=\"sk-estimator sk-toggleable\"><input class=\"sk-toggleable__control sk-hidden--visually\" id=\"sk-estimator-id-4\" type=\"checkbox\" ><label for=\"sk-estimator-id-4\" class=\"sk-toggleable__label sk-toggleable__label-arrow\">LinearRegression</label><div class=\"sk-toggleable__content\"><pre>LinearRegression()</pre></div></div></div></div></div></div></div></div></div></div>"
      ],
      "text/plain": [
       "RFE(estimator=LinearRegression(), n_features_to_select=10)"
      ]
     },
     "execution_count": 44,
     "metadata": {},
     "output_type": "execute_result"
    }
   ],
   "source": [
    "RFE.fit(ex.loc[:, ex.columns.difference(['y_variable', 'cc_cons'])], ex.loc[:,'y_variable'] )"
   ]
  },
  {
   "cell_type": "code",
   "execution_count": 45,
   "id": "3d28c7b3",
   "metadata": {},
   "outputs": [
    {
     "name": "stdout",
     "output_type": "stream",
     "text": [
      "['Avg_days_between_transaction_3', 'Emp_Tenure_Years_10', 'Emp_Tenure_Years_9', 'age_10', 'age_3', 'age_4', 'region_code_10', 'region_code_2', 'region_code_8', 'region_code_9']\n"
     ]
    }
   ],
   "source": [
    "list_RFE = list(ex.columns.difference(['y_variable', 'cc_cons'])[RFE.get_support()])\n",
    "print(list_RFE)"
   ]
  },
  {
   "cell_type": "code",
   "execution_count": 46,
   "id": "bbe00305",
   "metadata": {},
   "outputs": [
    {
     "name": "stdout",
     "output_type": "stream",
     "text": [
      "['Emp_Tenure_Years_7', 'age_7', 'investment_2', 'region_code_9', 'Emp_Tenure_Years_9', 'max_credit_amount_apr', 'region_code_10', 'Emp_Tenure_Years_10', 'region_code_8', 'region_code_2', 'age_10', 'cc_count_may', 'Avg_days_between_transaction_3', 'cc_cons_may', 'cc_count_apr', 'age_4', 'age_3']\n"
     ]
    }
   ],
   "source": [
    "Selected_var =  list(set(list_RFE + list_SKB))\n",
    "\n",
    "print(Selected_var)"
   ]
  },
  {
   "cell_type": "code",
   "execution_count": 47,
   "id": "9bff8195",
   "metadata": {},
   "outputs": [
    {
     "name": "stdout",
     "output_type": "stream",
     "text": [
      "y_variable ~ Emp_Tenure_Years_7 + age_7 + investment_2 + region_code_9 + Emp_Tenure_Years_9 + max_credit_amount_apr + region_code_10 + Emp_Tenure_Years_10 + region_code_8 + region_code_2 + age_10 + cc_count_may + Avg_days_between_transaction_3 + cc_cons_may + cc_count_apr + age_4 + age_3\n"
     ]
    }
   ],
   "source": [
    "formula_like =  'y_variable ~ ' + ' + '.join(Selected_var)\n",
    "print(formula_like)"
   ]
  },
  {
   "cell_type": "code",
   "execution_count": 48,
   "id": "adee3365",
   "metadata": {},
   "outputs": [],
   "source": [
    "# Removing multi-collineraity\n",
    "\n",
    "from patsy import dmatrices\n",
    "\n",
    "from statsmodels.stats.outliers_influence import variance_inflation_factor"
   ]
  },
  {
   "cell_type": "code",
   "execution_count": 49,
   "id": "880c9cec",
   "metadata": {},
   "outputs": [],
   "source": [
    "VIF = pd.DataFrame()"
   ]
  },
  {
   "cell_type": "code",
   "execution_count": 50,
   "id": "a20327e7",
   "metadata": {},
   "outputs": [],
   "source": [
    "y, x = dmatrices(formula_like, ex.loc[:, ex.columns.difference(['cc_cons'])], return_type='dataframe')"
   ]
  },
  {
   "cell_type": "code",
   "execution_count": 51,
   "id": "7c3755a7",
   "metadata": {},
   "outputs": [],
   "source": [
    "VIF['cols'] = x.columns"
   ]
  },
  {
   "cell_type": "code",
   "execution_count": 52,
   "id": "ee32bfea",
   "metadata": {},
   "outputs": [],
   "source": [
    "VIF['vif_factor'] = [ variance_inflation_factor(x.values, i) for i in range(x.shape[1]) ]"
   ]
  },
  {
   "cell_type": "code",
   "execution_count": 53,
   "id": "dffae848",
   "metadata": {},
   "outputs": [
    {
     "data": {
      "text/html": [
       "<div>\n",
       "<style scoped>\n",
       "    .dataframe tbody tr th:only-of-type {\n",
       "        vertical-align: middle;\n",
       "    }\n",
       "\n",
       "    .dataframe tbody tr th {\n",
       "        vertical-align: top;\n",
       "    }\n",
       "\n",
       "    .dataframe thead th {\n",
       "        text-align: right;\n",
       "    }\n",
       "</style>\n",
       "<table border=\"1\" class=\"dataframe\">\n",
       "  <thead>\n",
       "    <tr style=\"text-align: right;\">\n",
       "      <th></th>\n",
       "      <th>cols</th>\n",
       "      <th>vif_factor</th>\n",
       "    </tr>\n",
       "  </thead>\n",
       "  <tbody>\n",
       "    <tr>\n",
       "      <th>0</th>\n",
       "      <td>Intercept</td>\n",
       "      <td>4.422120</td>\n",
       "    </tr>\n",
       "    <tr>\n",
       "      <th>1</th>\n",
       "      <td>Emp_Tenure_Years_7</td>\n",
       "      <td>1.042705</td>\n",
       "    </tr>\n",
       "    <tr>\n",
       "      <th>2</th>\n",
       "      <td>age_7</td>\n",
       "      <td>1.124658</td>\n",
       "    </tr>\n",
       "    <tr>\n",
       "      <th>3</th>\n",
       "      <td>investment_2</td>\n",
       "      <td>1.001034</td>\n",
       "    </tr>\n",
       "    <tr>\n",
       "      <th>4</th>\n",
       "      <td>region_code_9</td>\n",
       "      <td>1.047803</td>\n",
       "    </tr>\n",
       "    <tr>\n",
       "      <th>5</th>\n",
       "      <td>Emp_Tenure_Years_9</td>\n",
       "      <td>1.124569</td>\n",
       "    </tr>\n",
       "    <tr>\n",
       "      <th>6</th>\n",
       "      <td>max_credit_amount_apr</td>\n",
       "      <td>1.001092</td>\n",
       "    </tr>\n",
       "    <tr>\n",
       "      <th>7</th>\n",
       "      <td>region_code_10</td>\n",
       "      <td>1.045168</td>\n",
       "    </tr>\n",
       "    <tr>\n",
       "      <th>8</th>\n",
       "      <td>Emp_Tenure_Years_10</td>\n",
       "      <td>1.435683</td>\n",
       "    </tr>\n",
       "    <tr>\n",
       "      <th>9</th>\n",
       "      <td>region_code_8</td>\n",
       "      <td>1.049679</td>\n",
       "    </tr>\n",
       "    <tr>\n",
       "      <th>10</th>\n",
       "      <td>region_code_2</td>\n",
       "      <td>1.044616</td>\n",
       "    </tr>\n",
       "    <tr>\n",
       "      <th>11</th>\n",
       "      <td>age_10</td>\n",
       "      <td>1.421437</td>\n",
       "    </tr>\n",
       "    <tr>\n",
       "      <th>12</th>\n",
       "      <td>cc_count_may</td>\n",
       "      <td>1.000475</td>\n",
       "    </tr>\n",
       "    <tr>\n",
       "      <th>13</th>\n",
       "      <td>Avg_days_between_transaction_3</td>\n",
       "      <td>1.000818</td>\n",
       "    </tr>\n",
       "    <tr>\n",
       "      <th>14</th>\n",
       "      <td>cc_cons_may</td>\n",
       "      <td>1.000559</td>\n",
       "    </tr>\n",
       "    <tr>\n",
       "      <th>15</th>\n",
       "      <td>cc_count_apr</td>\n",
       "      <td>1.000853</td>\n",
       "    </tr>\n",
       "    <tr>\n",
       "      <th>16</th>\n",
       "      <td>age_4</td>\n",
       "      <td>1.075732</td>\n",
       "    </tr>\n",
       "    <tr>\n",
       "      <th>17</th>\n",
       "      <td>age_3</td>\n",
       "      <td>1.061840</td>\n",
       "    </tr>\n",
       "  </tbody>\n",
       "</table>\n",
       "</div>"
      ],
      "text/plain": [
       "                              cols  vif_factor\n",
       "0                        Intercept    4.422120\n",
       "1               Emp_Tenure_Years_7    1.042705\n",
       "2                            age_7    1.124658\n",
       "3                     investment_2    1.001034\n",
       "4                    region_code_9    1.047803\n",
       "5               Emp_Tenure_Years_9    1.124569\n",
       "6            max_credit_amount_apr    1.001092\n",
       "7                   region_code_10    1.045168\n",
       "8              Emp_Tenure_Years_10    1.435683\n",
       "9                    region_code_8    1.049679\n",
       "10                   region_code_2    1.044616\n",
       "11                          age_10    1.421437\n",
       "12                    cc_count_may    1.000475\n",
       "13  Avg_days_between_transaction_3    1.000818\n",
       "14                     cc_cons_may    1.000559\n",
       "15                    cc_count_apr    1.000853\n",
       "16                           age_4    1.075732\n",
       "17                           age_3    1.061840"
      ]
     },
     "execution_count": 53,
     "metadata": {},
     "output_type": "execute_result"
    }
   ],
   "source": [
    "VIF\n",
    "\n",
    "# Multi-colinerity is minimum so we can take all the variables we selected \"Selected_var\""
   ]
  },
  {
   "cell_type": "markdown",
   "id": "6413d9ac",
   "metadata": {},
   "source": [
    "# Train- Test Split"
   ]
  },
  {
   "cell_type": "code",
   "execution_count": 54,
   "id": "9d531002",
   "metadata": {},
   "outputs": [],
   "source": [
    "from sklearn.model_selection import train_test_split"
   ]
  },
  {
   "cell_type": "code",
   "execution_count": 55,
   "id": "17626a3e",
   "metadata": {},
   "outputs": [],
   "source": [
    "xtrain, xtest, ytrain, ytest = train_test_split(ex.loc[:, Selected_var], ex.loc[:, 'y_variable'], test_size=0.3, random_state=1)"
   ]
  },
  {
   "cell_type": "code",
   "execution_count": 56,
   "id": "eff48e77",
   "metadata": {},
   "outputs": [],
   "source": [
    "# Standerdize the data\n",
    "\n",
    "from sklearn.preprocessing import StandardScaler\n"
   ]
  },
  {
   "cell_type": "code",
   "execution_count": 57,
   "id": "3a1f25fb",
   "metadata": {},
   "outputs": [],
   "source": [
    "std = StandardScaler()"
   ]
  },
  {
   "cell_type": "code",
   "execution_count": 58,
   "id": "9053e8cf",
   "metadata": {},
   "outputs": [],
   "source": [
    "train_x = std.fit_transform(xtrain)"
   ]
  },
  {
   "cell_type": "code",
   "execution_count": 59,
   "id": "e5124204",
   "metadata": {},
   "outputs": [],
   "source": [
    "train_x = pd.DataFrame(train_x, columns=xtrain.columns)"
   ]
  },
  {
   "cell_type": "code",
   "execution_count": 60,
   "id": "a6af21b0",
   "metadata": {},
   "outputs": [],
   "source": [
    "test_x = pd.DataFrame(std.transform(xtest), columns=xtest.columns)"
   ]
  },
  {
   "cell_type": "code",
   "execution_count": 61,
   "id": "e0a6ae75",
   "metadata": {},
   "outputs": [],
   "source": [
    "new = pd.DataFrame(std.transform(new.loc[:, Selected_var]), columns=Selected_var)"
   ]
  },
  {
   "cell_type": "markdown",
   "id": "fafb2755",
   "metadata": {},
   "source": [
    "# Model Creation"
   ]
  },
  {
   "cell_type": "markdown",
   "id": "5597d534",
   "metadata": {},
   "source": [
    "### LinerRegression"
   ]
  },
  {
   "cell_type": "code",
   "execution_count": 62,
   "id": "63013423",
   "metadata": {},
   "outputs": [],
   "source": [
    "from sklearn.linear_model import LinearRegression\n",
    "\n",
    "from sklearn.model_selection import GridSearchCV, RandomizedSearchCV"
   ]
  },
  {
   "cell_type": "code",
   "execution_count": 63,
   "id": "5001edc8",
   "metadata": {},
   "outputs": [],
   "source": [
    "param_grid = {'fit_intercept':[True, False], 'copy_X':[True, False], 'positive':[True, False]}"
   ]
  },
  {
   "cell_type": "code",
   "execution_count": 64,
   "id": "d6cd77a4",
   "metadata": {},
   "outputs": [],
   "source": [
    "grid_reg = GridSearchCV(LinearRegression(), param_grid, scoring='neg_root_mean_squared_error')"
   ]
  },
  {
   "cell_type": "code",
   "execution_count": 65,
   "id": "1cb4d150",
   "metadata": {},
   "outputs": [
    {
     "data": {
      "text/html": [
       "<style>#sk-container-id-3 {color: black;}#sk-container-id-3 pre{padding: 0;}#sk-container-id-3 div.sk-toggleable {background-color: white;}#sk-container-id-3 label.sk-toggleable__label {cursor: pointer;display: block;width: 100%;margin-bottom: 0;padding: 0.3em;box-sizing: border-box;text-align: center;}#sk-container-id-3 label.sk-toggleable__label-arrow:before {content: \"▸\";float: left;margin-right: 0.25em;color: #696969;}#sk-container-id-3 label.sk-toggleable__label-arrow:hover:before {color: black;}#sk-container-id-3 div.sk-estimator:hover label.sk-toggleable__label-arrow:before {color: black;}#sk-container-id-3 div.sk-toggleable__content {max-height: 0;max-width: 0;overflow: hidden;text-align: left;background-color: #f0f8ff;}#sk-container-id-3 div.sk-toggleable__content pre {margin: 0.2em;color: black;border-radius: 0.25em;background-color: #f0f8ff;}#sk-container-id-3 input.sk-toggleable__control:checked~div.sk-toggleable__content {max-height: 200px;max-width: 100%;overflow: auto;}#sk-container-id-3 input.sk-toggleable__control:checked~label.sk-toggleable__label-arrow:before {content: \"▾\";}#sk-container-id-3 div.sk-estimator input.sk-toggleable__control:checked~label.sk-toggleable__label {background-color: #d4ebff;}#sk-container-id-3 div.sk-label input.sk-toggleable__control:checked~label.sk-toggleable__label {background-color: #d4ebff;}#sk-container-id-3 input.sk-hidden--visually {border: 0;clip: rect(1px 1px 1px 1px);clip: rect(1px, 1px, 1px, 1px);height: 1px;margin: -1px;overflow: hidden;padding: 0;position: absolute;width: 1px;}#sk-container-id-3 div.sk-estimator {font-family: monospace;background-color: #f0f8ff;border: 1px dotted black;border-radius: 0.25em;box-sizing: border-box;margin-bottom: 0.5em;}#sk-container-id-3 div.sk-estimator:hover {background-color: #d4ebff;}#sk-container-id-3 div.sk-parallel-item::after {content: \"\";width: 100%;border-bottom: 1px solid gray;flex-grow: 1;}#sk-container-id-3 div.sk-label:hover label.sk-toggleable__label {background-color: #d4ebff;}#sk-container-id-3 div.sk-serial::before {content: \"\";position: absolute;border-left: 1px solid gray;box-sizing: border-box;top: 0;bottom: 0;left: 50%;z-index: 0;}#sk-container-id-3 div.sk-serial {display: flex;flex-direction: column;align-items: center;background-color: white;padding-right: 0.2em;padding-left: 0.2em;position: relative;}#sk-container-id-3 div.sk-item {position: relative;z-index: 1;}#sk-container-id-3 div.sk-parallel {display: flex;align-items: stretch;justify-content: center;background-color: white;position: relative;}#sk-container-id-3 div.sk-item::before, #sk-container-id-3 div.sk-parallel-item::before {content: \"\";position: absolute;border-left: 1px solid gray;box-sizing: border-box;top: 0;bottom: 0;left: 50%;z-index: -1;}#sk-container-id-3 div.sk-parallel-item {display: flex;flex-direction: column;z-index: 1;position: relative;background-color: white;}#sk-container-id-3 div.sk-parallel-item:first-child::after {align-self: flex-end;width: 50%;}#sk-container-id-3 div.sk-parallel-item:last-child::after {align-self: flex-start;width: 50%;}#sk-container-id-3 div.sk-parallel-item:only-child::after {width: 0;}#sk-container-id-3 div.sk-dashed-wrapped {border: 1px dashed gray;margin: 0 0.4em 0.5em 0.4em;box-sizing: border-box;padding-bottom: 0.4em;background-color: white;}#sk-container-id-3 div.sk-label label {font-family: monospace;font-weight: bold;display: inline-block;line-height: 1.2em;}#sk-container-id-3 div.sk-label-container {text-align: center;}#sk-container-id-3 div.sk-container {/* jupyter's `normalize.less` sets `[hidden] { display: none; }` but bootstrap.min.css set `[hidden] { display: none !important; }` so we also need the `!important` here to be able to override the default hidden behavior on the sphinx rendered scikit-learn.org. See: https://github.com/scikit-learn/scikit-learn/issues/21755 */display: inline-block !important;position: relative;}#sk-container-id-3 div.sk-text-repr-fallback {display: none;}</style><div id=\"sk-container-id-3\" class=\"sk-top-container\"><div class=\"sk-text-repr-fallback\"><pre>GridSearchCV(estimator=LinearRegression(),\n",
       "             param_grid={&#x27;copy_X&#x27;: [True, False],\n",
       "                         &#x27;fit_intercept&#x27;: [True, False],\n",
       "                         &#x27;positive&#x27;: [True, False]},\n",
       "             scoring=&#x27;neg_root_mean_squared_error&#x27;)</pre><b>In a Jupyter environment, please rerun this cell to show the HTML representation or trust the notebook. <br />On GitHub, the HTML representation is unable to render, please try loading this page with nbviewer.org.</b></div><div class=\"sk-container\" hidden><div class=\"sk-item sk-dashed-wrapped\"><div class=\"sk-label-container\"><div class=\"sk-label sk-toggleable\"><input class=\"sk-toggleable__control sk-hidden--visually\" id=\"sk-estimator-id-5\" type=\"checkbox\" ><label for=\"sk-estimator-id-5\" class=\"sk-toggleable__label sk-toggleable__label-arrow\">GridSearchCV</label><div class=\"sk-toggleable__content\"><pre>GridSearchCV(estimator=LinearRegression(),\n",
       "             param_grid={&#x27;copy_X&#x27;: [True, False],\n",
       "                         &#x27;fit_intercept&#x27;: [True, False],\n",
       "                         &#x27;positive&#x27;: [True, False]},\n",
       "             scoring=&#x27;neg_root_mean_squared_error&#x27;)</pre></div></div></div><div class=\"sk-parallel\"><div class=\"sk-parallel-item\"><div class=\"sk-item\"><div class=\"sk-label-container\"><div class=\"sk-label sk-toggleable\"><input class=\"sk-toggleable__control sk-hidden--visually\" id=\"sk-estimator-id-6\" type=\"checkbox\" ><label for=\"sk-estimator-id-6\" class=\"sk-toggleable__label sk-toggleable__label-arrow\">estimator: LinearRegression</label><div class=\"sk-toggleable__content\"><pre>LinearRegression()</pre></div></div></div><div class=\"sk-serial\"><div class=\"sk-item\"><div class=\"sk-estimator sk-toggleable\"><input class=\"sk-toggleable__control sk-hidden--visually\" id=\"sk-estimator-id-7\" type=\"checkbox\" ><label for=\"sk-estimator-id-7\" class=\"sk-toggleable__label sk-toggleable__label-arrow\">LinearRegression</label><div class=\"sk-toggleable__content\"><pre>LinearRegression()</pre></div></div></div></div></div></div></div></div></div></div>"
      ],
      "text/plain": [
       "GridSearchCV(estimator=LinearRegression(),\n",
       "             param_grid={'copy_X': [True, False],\n",
       "                         'fit_intercept': [True, False],\n",
       "                         'positive': [True, False]},\n",
       "             scoring='neg_root_mean_squared_error')"
      ]
     },
     "execution_count": 65,
     "metadata": {},
     "output_type": "execute_result"
    }
   ],
   "source": [
    "grid_reg.fit(train_x, ytrain)"
   ]
  },
  {
   "cell_type": "code",
   "execution_count": 66,
   "id": "b44deaed",
   "metadata": {},
   "outputs": [
    {
     "data": {
      "text/plain": [
       "{'copy_X': True, 'fit_intercept': True, 'positive': False}"
      ]
     },
     "execution_count": 66,
     "metadata": {},
     "output_type": "execute_result"
    }
   ],
   "source": [
    "grid_reg.best_params_"
   ]
  },
  {
   "cell_type": "code",
   "execution_count": 67,
   "id": "cfae9bcd",
   "metadata": {},
   "outputs": [],
   "source": [
    "LR = LinearRegression(copy_X=True, fit_intercept=True, positive=False)"
   ]
  },
  {
   "cell_type": "code",
   "execution_count": 68,
   "id": "831de5f4",
   "metadata": {},
   "outputs": [
    {
     "name": "stdout",
     "output_type": "stream",
     "text": [
      "Best params for Liner regression :  {'copy_X': True, 'fit_intercept': True, 'positive': False}\n",
      "Best params for Liner regression :  -1.6162867267736822\n"
     ]
    }
   ],
   "source": [
    "print('Best params for Liner regression : ', grid_reg.best_params_)\n",
    "print('Best params for Liner regression : ', grid_reg.best_score_)"
   ]
  },
  {
   "cell_type": "code",
   "execution_count": 69,
   "id": "bf3ee3bb",
   "metadata": {},
   "outputs": [],
   "source": [
    "train_y_pred = grid_reg.predict(train_x)\n",
    "test_y_pred = grid_reg.predict(test_x)"
   ]
  },
  {
   "cell_type": "code",
   "execution_count": 70,
   "id": "9c1ea3aa",
   "metadata": {},
   "outputs": [],
   "source": [
    "df_LR_train = pd.DataFrame([np.exp(train_y_pred), np.exp(ytrain)]).T\n",
    "df_LR_test = pd.DataFrame([np.exp(test_y_pred), np.exp(ytest)]).T"
   ]
  },
  {
   "cell_type": "code",
   "execution_count": 71,
   "id": "4fa8b189",
   "metadata": {},
   "outputs": [],
   "source": [
    "df_LR_train.columns =  columns=['train_y_pred', 'ytrain']\n",
    "df_LR_test.columns =  columns=['test_y_pred', 'ytest']"
   ]
  },
  {
   "cell_type": "markdown",
   "id": "e4dcda57",
   "metadata": {},
   "source": [
    "# Errors "
   ]
  },
  {
   "cell_type": "code",
   "execution_count": 72,
   "id": "cb9ee9a9",
   "metadata": {},
   "outputs": [],
   "source": [
    "from sklearn.metrics import mean_absolute_error, mean_squared_error, mean_absolute_percentage_error"
   ]
  },
  {
   "cell_type": "code",
   "execution_count": 73,
   "id": "0a4353ce",
   "metadata": {},
   "outputs": [
    {
     "name": "stdout",
     "output_type": "stream",
     "text": [
      "Train\n",
      "RMSE :  104725.41454253346\n",
      "MSE :  10967412451.105478\n",
      "MAE :  48079.68227056171\n",
      "MAPE :  3.1425143460435385\n"
     ]
    }
   ],
   "source": [
    "print('Train')\n",
    "print( \"RMSE : \", np.sqrt(mean_squared_error(df_LR_train.train_y_pred, df_LR_train.ytrain)))\n",
    "print( \"MSE : \", mean_squared_error(df_LR_train.train_y_pred, df_LR_train.ytrain))\n",
    "print( \"MAE : \", mean_absolute_error(df_LR_train.train_y_pred, df_LR_train.ytrain))\n",
    "print( \"MAPE : \", mean_absolute_percentage_error(df_LR_train.train_y_pred, df_LR_train.ytrain))"
   ]
  },
  {
   "cell_type": "code",
   "execution_count": 74,
   "id": "833c3acc",
   "metadata": {},
   "outputs": [
    {
     "name": "stdout",
     "output_type": "stream",
     "text": [
      "test\n",
      "RMSE :  107045.81291105396\n",
      "MSE :  11458806061.788366\n",
      "MAE :  49879.891207984176\n",
      "MAPE :  3.267743695664437\n"
     ]
    }
   ],
   "source": [
    "print('test')\n",
    "print( \"RMSE : \", np.sqrt(mean_squared_error(df_LR_test.test_y_pred, df_LR_test.ytest)))\n",
    "print( \"MSE : \", mean_squared_error(df_LR_test.test_y_pred, df_LR_test.ytest))\n",
    "print( \"MAE : \", mean_absolute_error(df_LR_test.test_y_pred, df_LR_test.ytest))\n",
    "print( \"MAPE : \", mean_absolute_percentage_error(df_LR_test.test_y_pred, df_LR_test.ytest))"
   ]
  },
  {
   "cell_type": "code",
   "execution_count": 75,
   "id": "1a640359",
   "metadata": {},
   "outputs": [],
   "source": [
    "# This model is not working good, it is under-fitted."
   ]
  },
  {
   "cell_type": "markdown",
   "id": "8d64a087",
   "metadata": {},
   "source": [
    "### Model: Random forest"
   ]
  },
  {
   "cell_type": "code",
   "execution_count": 76,
   "id": "150a4d82",
   "metadata": {},
   "outputs": [],
   "source": [
    "from sklearn.ensemble import RandomForestRegressor"
   ]
  },
  {
   "cell_type": "code",
   "execution_count": 77,
   "id": "8974f3a1",
   "metadata": {},
   "outputs": [],
   "source": [
    "param_grid_rf = {'n_estimators': [50,100,200,300], 'max_depth': [20, 30,40], 'max_features': [3,6,9], 'max_leaf_nodes': [10,25,40]}"
   ]
  },
  {
   "cell_type": "code",
   "execution_count": 78,
   "id": "96e5d2cd",
   "metadata": {},
   "outputs": [],
   "source": [
    "grid_rf = GridSearchCV(RandomForestRegressor(), param_grid_rf, n_jobs=-1, verbose=True, cv=5)"
   ]
  },
  {
   "cell_type": "code",
   "execution_count": 79,
   "id": "041845fe",
   "metadata": {},
   "outputs": [
    {
     "name": "stdout",
     "output_type": "stream",
     "text": [
      "Fitting 5 folds for each of 108 candidates, totalling 540 fits\n"
     ]
    },
    {
     "data": {
      "text/html": [
       "<style>#sk-container-id-4 {color: black;}#sk-container-id-4 pre{padding: 0;}#sk-container-id-4 div.sk-toggleable {background-color: white;}#sk-container-id-4 label.sk-toggleable__label {cursor: pointer;display: block;width: 100%;margin-bottom: 0;padding: 0.3em;box-sizing: border-box;text-align: center;}#sk-container-id-4 label.sk-toggleable__label-arrow:before {content: \"▸\";float: left;margin-right: 0.25em;color: #696969;}#sk-container-id-4 label.sk-toggleable__label-arrow:hover:before {color: black;}#sk-container-id-4 div.sk-estimator:hover label.sk-toggleable__label-arrow:before {color: black;}#sk-container-id-4 div.sk-toggleable__content {max-height: 0;max-width: 0;overflow: hidden;text-align: left;background-color: #f0f8ff;}#sk-container-id-4 div.sk-toggleable__content pre {margin: 0.2em;color: black;border-radius: 0.25em;background-color: #f0f8ff;}#sk-container-id-4 input.sk-toggleable__control:checked~div.sk-toggleable__content {max-height: 200px;max-width: 100%;overflow: auto;}#sk-container-id-4 input.sk-toggleable__control:checked~label.sk-toggleable__label-arrow:before {content: \"▾\";}#sk-container-id-4 div.sk-estimator input.sk-toggleable__control:checked~label.sk-toggleable__label {background-color: #d4ebff;}#sk-container-id-4 div.sk-label input.sk-toggleable__control:checked~label.sk-toggleable__label {background-color: #d4ebff;}#sk-container-id-4 input.sk-hidden--visually {border: 0;clip: rect(1px 1px 1px 1px);clip: rect(1px, 1px, 1px, 1px);height: 1px;margin: -1px;overflow: hidden;padding: 0;position: absolute;width: 1px;}#sk-container-id-4 div.sk-estimator {font-family: monospace;background-color: #f0f8ff;border: 1px dotted black;border-radius: 0.25em;box-sizing: border-box;margin-bottom: 0.5em;}#sk-container-id-4 div.sk-estimator:hover {background-color: #d4ebff;}#sk-container-id-4 div.sk-parallel-item::after {content: \"\";width: 100%;border-bottom: 1px solid gray;flex-grow: 1;}#sk-container-id-4 div.sk-label:hover label.sk-toggleable__label {background-color: #d4ebff;}#sk-container-id-4 div.sk-serial::before {content: \"\";position: absolute;border-left: 1px solid gray;box-sizing: border-box;top: 0;bottom: 0;left: 50%;z-index: 0;}#sk-container-id-4 div.sk-serial {display: flex;flex-direction: column;align-items: center;background-color: white;padding-right: 0.2em;padding-left: 0.2em;position: relative;}#sk-container-id-4 div.sk-item {position: relative;z-index: 1;}#sk-container-id-4 div.sk-parallel {display: flex;align-items: stretch;justify-content: center;background-color: white;position: relative;}#sk-container-id-4 div.sk-item::before, #sk-container-id-4 div.sk-parallel-item::before {content: \"\";position: absolute;border-left: 1px solid gray;box-sizing: border-box;top: 0;bottom: 0;left: 50%;z-index: -1;}#sk-container-id-4 div.sk-parallel-item {display: flex;flex-direction: column;z-index: 1;position: relative;background-color: white;}#sk-container-id-4 div.sk-parallel-item:first-child::after {align-self: flex-end;width: 50%;}#sk-container-id-4 div.sk-parallel-item:last-child::after {align-self: flex-start;width: 50%;}#sk-container-id-4 div.sk-parallel-item:only-child::after {width: 0;}#sk-container-id-4 div.sk-dashed-wrapped {border: 1px dashed gray;margin: 0 0.4em 0.5em 0.4em;box-sizing: border-box;padding-bottom: 0.4em;background-color: white;}#sk-container-id-4 div.sk-label label {font-family: monospace;font-weight: bold;display: inline-block;line-height: 1.2em;}#sk-container-id-4 div.sk-label-container {text-align: center;}#sk-container-id-4 div.sk-container {/* jupyter's `normalize.less` sets `[hidden] { display: none; }` but bootstrap.min.css set `[hidden] { display: none !important; }` so we also need the `!important` here to be able to override the default hidden behavior on the sphinx rendered scikit-learn.org. See: https://github.com/scikit-learn/scikit-learn/issues/21755 */display: inline-block !important;position: relative;}#sk-container-id-4 div.sk-text-repr-fallback {display: none;}</style><div id=\"sk-container-id-4\" class=\"sk-top-container\"><div class=\"sk-text-repr-fallback\"><pre>GridSearchCV(cv=5, estimator=RandomForestRegressor(), n_jobs=-1,\n",
       "             param_grid={&#x27;max_depth&#x27;: [20, 30, 40], &#x27;max_features&#x27;: [3, 6, 9],\n",
       "                         &#x27;max_leaf_nodes&#x27;: [10, 25, 40],\n",
       "                         &#x27;n_estimators&#x27;: [50, 100, 200, 300]},\n",
       "             verbose=True)</pre><b>In a Jupyter environment, please rerun this cell to show the HTML representation or trust the notebook. <br />On GitHub, the HTML representation is unable to render, please try loading this page with nbviewer.org.</b></div><div class=\"sk-container\" hidden><div class=\"sk-item sk-dashed-wrapped\"><div class=\"sk-label-container\"><div class=\"sk-label sk-toggleable\"><input class=\"sk-toggleable__control sk-hidden--visually\" id=\"sk-estimator-id-8\" type=\"checkbox\" ><label for=\"sk-estimator-id-8\" class=\"sk-toggleable__label sk-toggleable__label-arrow\">GridSearchCV</label><div class=\"sk-toggleable__content\"><pre>GridSearchCV(cv=5, estimator=RandomForestRegressor(), n_jobs=-1,\n",
       "             param_grid={&#x27;max_depth&#x27;: [20, 30, 40], &#x27;max_features&#x27;: [3, 6, 9],\n",
       "                         &#x27;max_leaf_nodes&#x27;: [10, 25, 40],\n",
       "                         &#x27;n_estimators&#x27;: [50, 100, 200, 300]},\n",
       "             verbose=True)</pre></div></div></div><div class=\"sk-parallel\"><div class=\"sk-parallel-item\"><div class=\"sk-item\"><div class=\"sk-label-container\"><div class=\"sk-label sk-toggleable\"><input class=\"sk-toggleable__control sk-hidden--visually\" id=\"sk-estimator-id-9\" type=\"checkbox\" ><label for=\"sk-estimator-id-9\" class=\"sk-toggleable__label sk-toggleable__label-arrow\">estimator: RandomForestRegressor</label><div class=\"sk-toggleable__content\"><pre>RandomForestRegressor()</pre></div></div></div><div class=\"sk-serial\"><div class=\"sk-item\"><div class=\"sk-estimator sk-toggleable\"><input class=\"sk-toggleable__control sk-hidden--visually\" id=\"sk-estimator-id-10\" type=\"checkbox\" ><label for=\"sk-estimator-id-10\" class=\"sk-toggleable__label sk-toggleable__label-arrow\">RandomForestRegressor</label><div class=\"sk-toggleable__content\"><pre>RandomForestRegressor()</pre></div></div></div></div></div></div></div></div></div></div>"
      ],
      "text/plain": [
       "GridSearchCV(cv=5, estimator=RandomForestRegressor(), n_jobs=-1,\n",
       "             param_grid={'max_depth': [20, 30, 40], 'max_features': [3, 6, 9],\n",
       "                         'max_leaf_nodes': [10, 25, 40],\n",
       "                         'n_estimators': [50, 100, 200, 300]},\n",
       "             verbose=True)"
      ]
     },
     "execution_count": 79,
     "metadata": {},
     "output_type": "execute_result"
    }
   ],
   "source": [
    "grid_rf.fit(train_x, ytrain)"
   ]
  },
  {
   "cell_type": "code",
   "execution_count": 80,
   "id": "fa209d2e",
   "metadata": {},
   "outputs": [
    {
     "data": {
      "text/plain": [
       "{'max_depth': 40, 'max_features': 3, 'max_leaf_nodes': 25, 'n_estimators': 100}"
      ]
     },
     "execution_count": 80,
     "metadata": {},
     "output_type": "execute_result"
    }
   ],
   "source": [
    "grid_rf.best_params_"
   ]
  },
  {
   "cell_type": "code",
   "execution_count": 81,
   "id": "2f92d9fb",
   "metadata": {},
   "outputs": [],
   "source": [
    "RF =  RandomForestRegressor(max_depth=40, max_features=3, max_leaf_nodes=10, n_estimators=100)"
   ]
  },
  {
   "cell_type": "code",
   "execution_count": 82,
   "id": "c107e9cc",
   "metadata": {},
   "outputs": [],
   "source": [
    "df_RF_train = pd.DataFrame([np.exp(grid_rf.predict(train_x)), np.exp(ytrain)]).T\n",
    "df_RF_test = pd.DataFrame([np.exp(grid_rf.predict(test_x)), np.exp(ytest)]).T"
   ]
  },
  {
   "cell_type": "code",
   "execution_count": 83,
   "id": "9a98ee39",
   "metadata": {},
   "outputs": [],
   "source": [
    "df_RF_train.columns = ['train_y_pred', 'ytrain']\n",
    "df_RF_test.columns = ['test_y_pred', 'ytest']"
   ]
  },
  {
   "cell_type": "code",
   "execution_count": 84,
   "id": "18e032be",
   "metadata": {},
   "outputs": [],
   "source": [
    "# Errors"
   ]
  },
  {
   "cell_type": "code",
   "execution_count": 85,
   "id": "b2ea8fc3",
   "metadata": {},
   "outputs": [
    {
     "name": "stdout",
     "output_type": "stream",
     "text": [
      "Train\n",
      "RMSE :  104569.4406844014\n",
      "MSE :  10934767925.048542\n",
      "MAE :  47883.65440796619\n",
      "MAPE :  3.057278922372268\n"
     ]
    }
   ],
   "source": [
    "print('Train')\n",
    "print( \"RMSE : \", np.sqrt(mean_squared_error(df_RF_train.train_y_pred, df_RF_train.ytrain)))\n",
    "print( \"MSE : \", mean_squared_error(df_RF_train.train_y_pred, df_RF_train.ytrain))\n",
    "print( \"MAE : \", mean_absolute_error(df_RF_train.train_y_pred, df_RF_train.ytrain))\n",
    "print( \"MAPE : \", mean_absolute_percentage_error(df_RF_train.train_y_pred, df_RF_train.ytrain))"
   ]
  },
  {
   "cell_type": "code",
   "execution_count": 86,
   "id": "883ba2b6",
   "metadata": {},
   "outputs": [
    {
     "name": "stdout",
     "output_type": "stream",
     "text": [
      "test\n",
      "RMSE :  107091.77831052968\n",
      "MSE :  11468648981.711637\n",
      "MAE :  49845.79508038591\n",
      "MAPE :  3.2626383212901797\n"
     ]
    }
   ],
   "source": [
    "print('test')\n",
    "print( \"RMSE : \", np.sqrt(mean_squared_error(df_RF_test.test_y_pred, df_RF_test.ytest)))\n",
    "print( \"MSE : \", mean_squared_error(df_RF_test.test_y_pred, df_RF_test.ytest))\n",
    "print( \"MAE : \", mean_absolute_error(df_RF_test.test_y_pred, df_RF_test.ytest))\n",
    "print( \"MAPE : \", mean_absolute_percentage_error(df_RF_test.test_y_pred, df_RF_test.ytest))"
   ]
  },
  {
   "cell_type": "code",
   "execution_count": 87,
   "id": "86af42fc",
   "metadata": {},
   "outputs": [],
   "source": [
    "# This model is not working good, it is under-fitted."
   ]
  },
  {
   "cell_type": "markdown",
   "id": "58a9abab",
   "metadata": {},
   "source": [
    "### Model 3: KNN Model"
   ]
  },
  {
   "cell_type": "code",
   "execution_count": 88,
   "id": "cdbaa186",
   "metadata": {},
   "outputs": [],
   "source": [
    "from sklearn.neighbors import KNeighborsRegressor"
   ]
  },
  {
   "cell_type": "code",
   "execution_count": 89,
   "id": "e6b1e8c6",
   "metadata": {},
   "outputs": [],
   "source": [
    "param_grid_knn = {\"n_neighbors\": [3,5,7,9,11,13,15,20], \"weights\": [\"uniform\", \"distance\"], \"algorithm\": [\"auto\", \"ball_tree\", \"kd_tree\", \"brute\"], \"leaf_size\": [10,20,30,40,50], \"p\": [1,2]}"
   ]
  },
  {
   "cell_type": "code",
   "execution_count": 90,
   "id": "ab49b0a5",
   "metadata": {},
   "outputs": [],
   "source": [
    "grid_knn = GridSearchCV(KNeighborsRegressor(), param_grid_knn, cv=5, verbose=True, n_jobs=-1)"
   ]
  },
  {
   "cell_type": "code",
   "execution_count": 91,
   "id": "e16c58d3",
   "metadata": {},
   "outputs": [
    {
     "name": "stdout",
     "output_type": "stream",
     "text": [
      "Fitting 5 folds for each of 640 candidates, totalling 3200 fits\n"
     ]
    },
    {
     "data": {
      "text/html": [
       "<style>#sk-container-id-5 {color: black;}#sk-container-id-5 pre{padding: 0;}#sk-container-id-5 div.sk-toggleable {background-color: white;}#sk-container-id-5 label.sk-toggleable__label {cursor: pointer;display: block;width: 100%;margin-bottom: 0;padding: 0.3em;box-sizing: border-box;text-align: center;}#sk-container-id-5 label.sk-toggleable__label-arrow:before {content: \"▸\";float: left;margin-right: 0.25em;color: #696969;}#sk-container-id-5 label.sk-toggleable__label-arrow:hover:before {color: black;}#sk-container-id-5 div.sk-estimator:hover label.sk-toggleable__label-arrow:before {color: black;}#sk-container-id-5 div.sk-toggleable__content {max-height: 0;max-width: 0;overflow: hidden;text-align: left;background-color: #f0f8ff;}#sk-container-id-5 div.sk-toggleable__content pre {margin: 0.2em;color: black;border-radius: 0.25em;background-color: #f0f8ff;}#sk-container-id-5 input.sk-toggleable__control:checked~div.sk-toggleable__content {max-height: 200px;max-width: 100%;overflow: auto;}#sk-container-id-5 input.sk-toggleable__control:checked~label.sk-toggleable__label-arrow:before {content: \"▾\";}#sk-container-id-5 div.sk-estimator input.sk-toggleable__control:checked~label.sk-toggleable__label {background-color: #d4ebff;}#sk-container-id-5 div.sk-label input.sk-toggleable__control:checked~label.sk-toggleable__label {background-color: #d4ebff;}#sk-container-id-5 input.sk-hidden--visually {border: 0;clip: rect(1px 1px 1px 1px);clip: rect(1px, 1px, 1px, 1px);height: 1px;margin: -1px;overflow: hidden;padding: 0;position: absolute;width: 1px;}#sk-container-id-5 div.sk-estimator {font-family: monospace;background-color: #f0f8ff;border: 1px dotted black;border-radius: 0.25em;box-sizing: border-box;margin-bottom: 0.5em;}#sk-container-id-5 div.sk-estimator:hover {background-color: #d4ebff;}#sk-container-id-5 div.sk-parallel-item::after {content: \"\";width: 100%;border-bottom: 1px solid gray;flex-grow: 1;}#sk-container-id-5 div.sk-label:hover label.sk-toggleable__label {background-color: #d4ebff;}#sk-container-id-5 div.sk-serial::before {content: \"\";position: absolute;border-left: 1px solid gray;box-sizing: border-box;top: 0;bottom: 0;left: 50%;z-index: 0;}#sk-container-id-5 div.sk-serial {display: flex;flex-direction: column;align-items: center;background-color: white;padding-right: 0.2em;padding-left: 0.2em;position: relative;}#sk-container-id-5 div.sk-item {position: relative;z-index: 1;}#sk-container-id-5 div.sk-parallel {display: flex;align-items: stretch;justify-content: center;background-color: white;position: relative;}#sk-container-id-5 div.sk-item::before, #sk-container-id-5 div.sk-parallel-item::before {content: \"\";position: absolute;border-left: 1px solid gray;box-sizing: border-box;top: 0;bottom: 0;left: 50%;z-index: -1;}#sk-container-id-5 div.sk-parallel-item {display: flex;flex-direction: column;z-index: 1;position: relative;background-color: white;}#sk-container-id-5 div.sk-parallel-item:first-child::after {align-self: flex-end;width: 50%;}#sk-container-id-5 div.sk-parallel-item:last-child::after {align-self: flex-start;width: 50%;}#sk-container-id-5 div.sk-parallel-item:only-child::after {width: 0;}#sk-container-id-5 div.sk-dashed-wrapped {border: 1px dashed gray;margin: 0 0.4em 0.5em 0.4em;box-sizing: border-box;padding-bottom: 0.4em;background-color: white;}#sk-container-id-5 div.sk-label label {font-family: monospace;font-weight: bold;display: inline-block;line-height: 1.2em;}#sk-container-id-5 div.sk-label-container {text-align: center;}#sk-container-id-5 div.sk-container {/* jupyter's `normalize.less` sets `[hidden] { display: none; }` but bootstrap.min.css set `[hidden] { display: none !important; }` so we also need the `!important` here to be able to override the default hidden behavior on the sphinx rendered scikit-learn.org. See: https://github.com/scikit-learn/scikit-learn/issues/21755 */display: inline-block !important;position: relative;}#sk-container-id-5 div.sk-text-repr-fallback {display: none;}</style><div id=\"sk-container-id-5\" class=\"sk-top-container\"><div class=\"sk-text-repr-fallback\"><pre>GridSearchCV(cv=5, estimator=KNeighborsRegressor(), n_jobs=-1,\n",
       "             param_grid={&#x27;algorithm&#x27;: [&#x27;auto&#x27;, &#x27;ball_tree&#x27;, &#x27;kd_tree&#x27;, &#x27;brute&#x27;],\n",
       "                         &#x27;leaf_size&#x27;: [10, 20, 30, 40, 50],\n",
       "                         &#x27;n_neighbors&#x27;: [3, 5, 7, 9, 11, 13, 15, 20],\n",
       "                         &#x27;p&#x27;: [1, 2], &#x27;weights&#x27;: [&#x27;uniform&#x27;, &#x27;distance&#x27;]},\n",
       "             verbose=True)</pre><b>In a Jupyter environment, please rerun this cell to show the HTML representation or trust the notebook. <br />On GitHub, the HTML representation is unable to render, please try loading this page with nbviewer.org.</b></div><div class=\"sk-container\" hidden><div class=\"sk-item sk-dashed-wrapped\"><div class=\"sk-label-container\"><div class=\"sk-label sk-toggleable\"><input class=\"sk-toggleable__control sk-hidden--visually\" id=\"sk-estimator-id-11\" type=\"checkbox\" ><label for=\"sk-estimator-id-11\" class=\"sk-toggleable__label sk-toggleable__label-arrow\">GridSearchCV</label><div class=\"sk-toggleable__content\"><pre>GridSearchCV(cv=5, estimator=KNeighborsRegressor(), n_jobs=-1,\n",
       "             param_grid={&#x27;algorithm&#x27;: [&#x27;auto&#x27;, &#x27;ball_tree&#x27;, &#x27;kd_tree&#x27;, &#x27;brute&#x27;],\n",
       "                         &#x27;leaf_size&#x27;: [10, 20, 30, 40, 50],\n",
       "                         &#x27;n_neighbors&#x27;: [3, 5, 7, 9, 11, 13, 15, 20],\n",
       "                         &#x27;p&#x27;: [1, 2], &#x27;weights&#x27;: [&#x27;uniform&#x27;, &#x27;distance&#x27;]},\n",
       "             verbose=True)</pre></div></div></div><div class=\"sk-parallel\"><div class=\"sk-parallel-item\"><div class=\"sk-item\"><div class=\"sk-label-container\"><div class=\"sk-label sk-toggleable\"><input class=\"sk-toggleable__control sk-hidden--visually\" id=\"sk-estimator-id-12\" type=\"checkbox\" ><label for=\"sk-estimator-id-12\" class=\"sk-toggleable__label sk-toggleable__label-arrow\">estimator: KNeighborsRegressor</label><div class=\"sk-toggleable__content\"><pre>KNeighborsRegressor()</pre></div></div></div><div class=\"sk-serial\"><div class=\"sk-item\"><div class=\"sk-estimator sk-toggleable\"><input class=\"sk-toggleable__control sk-hidden--visually\" id=\"sk-estimator-id-13\" type=\"checkbox\" ><label for=\"sk-estimator-id-13\" class=\"sk-toggleable__label sk-toggleable__label-arrow\">KNeighborsRegressor</label><div class=\"sk-toggleable__content\"><pre>KNeighborsRegressor()</pre></div></div></div></div></div></div></div></div></div></div>"
      ],
      "text/plain": [
       "GridSearchCV(cv=5, estimator=KNeighborsRegressor(), n_jobs=-1,\n",
       "             param_grid={'algorithm': ['auto', 'ball_tree', 'kd_tree', 'brute'],\n",
       "                         'leaf_size': [10, 20, 30, 40, 50],\n",
       "                         'n_neighbors': [3, 5, 7, 9, 11, 13, 15, 20],\n",
       "                         'p': [1, 2], 'weights': ['uniform', 'distance']},\n",
       "             verbose=True)"
      ]
     },
     "execution_count": 91,
     "metadata": {},
     "output_type": "execute_result"
    }
   ],
   "source": [
    "grid_knn.fit(train_x, ytrain)"
   ]
  },
  {
   "cell_type": "code",
   "execution_count": 92,
   "id": "5794becf",
   "metadata": {},
   "outputs": [
    {
     "data": {
      "text/plain": [
       "{'algorithm': 'ball_tree',\n",
       " 'leaf_size': 10,\n",
       " 'n_neighbors': 20,\n",
       " 'p': 2,\n",
       " 'weights': 'uniform'}"
      ]
     },
     "execution_count": 92,
     "metadata": {},
     "output_type": "execute_result"
    }
   ],
   "source": [
    "grid_knn.best_params_"
   ]
  },
  {
   "cell_type": "code",
   "execution_count": 93,
   "id": "4344fe54",
   "metadata": {},
   "outputs": [],
   "source": [
    "Knn = KNeighborsRegressor(algorithm='ball_tree', leaf_size=10, n_neighbors=20, p=2, weights='uniform') "
   ]
  },
  {
   "cell_type": "code",
   "execution_count": 94,
   "id": "96649fc4",
   "metadata": {},
   "outputs": [],
   "source": [
    "df_knn_train = pd.DataFrame([np.exp(grid_knn.predict(train_x)), np.exp(ytrain)]).T\n",
    "df_knn_test = pd.DataFrame([np.exp(grid_knn.predict(test_x)), np.exp(ytest)]).T"
   ]
  },
  {
   "cell_type": "code",
   "execution_count": 95,
   "id": "55ae5b7d",
   "metadata": {},
   "outputs": [],
   "source": [
    "df_knn_train.columns = ['train_y_pred', 'ytrain']\n",
    "df_knn_test.columns = ['test_y_pred', 'ytest']"
   ]
  },
  {
   "cell_type": "code",
   "execution_count": 96,
   "id": "2942aadf",
   "metadata": {},
   "outputs": [],
   "source": [
    "# Errors"
   ]
  },
  {
   "cell_type": "code",
   "execution_count": 97,
   "id": "76a499db",
   "metadata": {},
   "outputs": [
    {
     "name": "stdout",
     "output_type": "stream",
     "text": [
      "Train\n",
      "RMSE :  103410.35410970866\n",
      "MSE :  10693701337.095337\n",
      "MAE :  48274.24480551953\n",
      "MAPE :  2.9555489526308896\n"
     ]
    }
   ],
   "source": [
    "print('Train')\n",
    "print( \"RMSE : \", np.sqrt(mean_squared_error(df_knn_train.train_y_pred, df_knn_train.ytrain)))\n",
    "print( \"MSE : \", mean_squared_error(df_knn_train.train_y_pred, df_knn_train.ytrain))\n",
    "print( \"MAE : \", mean_absolute_error(df_knn_train.train_y_pred, df_knn_train.ytrain))\n",
    "print( \"MAPE : \", mean_absolute_percentage_error(df_knn_train.train_y_pred, df_knn_train.ytrain))"
   ]
  },
  {
   "cell_type": "code",
   "execution_count": 98,
   "id": "efd504b7",
   "metadata": {},
   "outputs": [
    {
     "name": "stdout",
     "output_type": "stream",
     "text": [
      "test\n",
      "RMSE :  106757.29000861355\n",
      "MSE :  11397118969.983217\n",
      "MAE :  50927.54305339975\n",
      "MAPE :  3.5512134638439448\n"
     ]
    }
   ],
   "source": [
    "print('test')\n",
    "print( \"RMSE : \", np.sqrt(mean_squared_error(df_knn_test.test_y_pred, df_knn_test.ytest)))\n",
    "print( \"MSE : \", mean_squared_error(df_knn_test.test_y_pred, df_knn_test.ytest))\n",
    "print( \"MAE : \", mean_absolute_error(df_knn_test.test_y_pred, df_knn_test.ytest))\n",
    "print( \"MAPE : \", mean_absolute_percentage_error(df_knn_test.test_y_pred, df_knn_test.ytest))"
   ]
  },
  {
   "cell_type": "code",
   "execution_count": 99,
   "id": "250cfb9a",
   "metadata": {},
   "outputs": [],
   "source": [
    "# This model is not working good, it is under-fitted."
   ]
  },
  {
   "cell_type": "markdown",
   "id": "5d4392ae",
   "metadata": {},
   "source": [
    "### VotingRegressor"
   ]
  },
  {
   "cell_type": "code",
   "execution_count": 100,
   "id": "0fdfe8fb",
   "metadata": {},
   "outputs": [],
   "source": [
    "from sklearn.ensemble import VotingRegressor"
   ]
  },
  {
   "cell_type": "code",
   "execution_count": 101,
   "id": "dd6c8c70",
   "metadata": {},
   "outputs": [],
   "source": [
    "VR = VotingRegressor([(\"RF\" , RandomForestRegressor(max_depth=40, max_features=3, max_leaf_nodes=10, n_estimators=100)),\n",
    "                    (\"LR\" , LinearRegression(copy_X=True, fit_intercept=True, positive=False)),\n",
    "                    (\"Knn\" , KNeighborsRegressor(algorithm='ball_tree', leaf_size=10, n_neighbors=20, p=2, weights='uniform'))])"
   ]
  },
  {
   "cell_type": "code",
   "execution_count": 102,
   "id": "799b72b7",
   "metadata": {},
   "outputs": [
    {
     "data": {
      "text/html": [
       "<style>#sk-container-id-6 {color: black;}#sk-container-id-6 pre{padding: 0;}#sk-container-id-6 div.sk-toggleable {background-color: white;}#sk-container-id-6 label.sk-toggleable__label {cursor: pointer;display: block;width: 100%;margin-bottom: 0;padding: 0.3em;box-sizing: border-box;text-align: center;}#sk-container-id-6 label.sk-toggleable__label-arrow:before {content: \"▸\";float: left;margin-right: 0.25em;color: #696969;}#sk-container-id-6 label.sk-toggleable__label-arrow:hover:before {color: black;}#sk-container-id-6 div.sk-estimator:hover label.sk-toggleable__label-arrow:before {color: black;}#sk-container-id-6 div.sk-toggleable__content {max-height: 0;max-width: 0;overflow: hidden;text-align: left;background-color: #f0f8ff;}#sk-container-id-6 div.sk-toggleable__content pre {margin: 0.2em;color: black;border-radius: 0.25em;background-color: #f0f8ff;}#sk-container-id-6 input.sk-toggleable__control:checked~div.sk-toggleable__content {max-height: 200px;max-width: 100%;overflow: auto;}#sk-container-id-6 input.sk-toggleable__control:checked~label.sk-toggleable__label-arrow:before {content: \"▾\";}#sk-container-id-6 div.sk-estimator input.sk-toggleable__control:checked~label.sk-toggleable__label {background-color: #d4ebff;}#sk-container-id-6 div.sk-label input.sk-toggleable__control:checked~label.sk-toggleable__label {background-color: #d4ebff;}#sk-container-id-6 input.sk-hidden--visually {border: 0;clip: rect(1px 1px 1px 1px);clip: rect(1px, 1px, 1px, 1px);height: 1px;margin: -1px;overflow: hidden;padding: 0;position: absolute;width: 1px;}#sk-container-id-6 div.sk-estimator {font-family: monospace;background-color: #f0f8ff;border: 1px dotted black;border-radius: 0.25em;box-sizing: border-box;margin-bottom: 0.5em;}#sk-container-id-6 div.sk-estimator:hover {background-color: #d4ebff;}#sk-container-id-6 div.sk-parallel-item::after {content: \"\";width: 100%;border-bottom: 1px solid gray;flex-grow: 1;}#sk-container-id-6 div.sk-label:hover label.sk-toggleable__label {background-color: #d4ebff;}#sk-container-id-6 div.sk-serial::before {content: \"\";position: absolute;border-left: 1px solid gray;box-sizing: border-box;top: 0;bottom: 0;left: 50%;z-index: 0;}#sk-container-id-6 div.sk-serial {display: flex;flex-direction: column;align-items: center;background-color: white;padding-right: 0.2em;padding-left: 0.2em;position: relative;}#sk-container-id-6 div.sk-item {position: relative;z-index: 1;}#sk-container-id-6 div.sk-parallel {display: flex;align-items: stretch;justify-content: center;background-color: white;position: relative;}#sk-container-id-6 div.sk-item::before, #sk-container-id-6 div.sk-parallel-item::before {content: \"\";position: absolute;border-left: 1px solid gray;box-sizing: border-box;top: 0;bottom: 0;left: 50%;z-index: -1;}#sk-container-id-6 div.sk-parallel-item {display: flex;flex-direction: column;z-index: 1;position: relative;background-color: white;}#sk-container-id-6 div.sk-parallel-item:first-child::after {align-self: flex-end;width: 50%;}#sk-container-id-6 div.sk-parallel-item:last-child::after {align-self: flex-start;width: 50%;}#sk-container-id-6 div.sk-parallel-item:only-child::after {width: 0;}#sk-container-id-6 div.sk-dashed-wrapped {border: 1px dashed gray;margin: 0 0.4em 0.5em 0.4em;box-sizing: border-box;padding-bottom: 0.4em;background-color: white;}#sk-container-id-6 div.sk-label label {font-family: monospace;font-weight: bold;display: inline-block;line-height: 1.2em;}#sk-container-id-6 div.sk-label-container {text-align: center;}#sk-container-id-6 div.sk-container {/* jupyter's `normalize.less` sets `[hidden] { display: none; }` but bootstrap.min.css set `[hidden] { display: none !important; }` so we also need the `!important` here to be able to override the default hidden behavior on the sphinx rendered scikit-learn.org. See: https://github.com/scikit-learn/scikit-learn/issues/21755 */display: inline-block !important;position: relative;}#sk-container-id-6 div.sk-text-repr-fallback {display: none;}</style><div id=\"sk-container-id-6\" class=\"sk-top-container\"><div class=\"sk-text-repr-fallback\"><pre>VotingRegressor(estimators=[(&#x27;RF&#x27;,\n",
       "                             RandomForestRegressor(max_depth=40, max_features=3,\n",
       "                                                   max_leaf_nodes=10)),\n",
       "                            (&#x27;LR&#x27;, LinearRegression()),\n",
       "                            (&#x27;Knn&#x27;,\n",
       "                             KNeighborsRegressor(algorithm=&#x27;ball_tree&#x27;,\n",
       "                                                 leaf_size=10,\n",
       "                                                 n_neighbors=20))])</pre><b>In a Jupyter environment, please rerun this cell to show the HTML representation or trust the notebook. <br />On GitHub, the HTML representation is unable to render, please try loading this page with nbviewer.org.</b></div><div class=\"sk-container\" hidden><div class=\"sk-item sk-dashed-wrapped\"><div class=\"sk-label-container\"><div class=\"sk-label sk-toggleable\"><input class=\"sk-toggleable__control sk-hidden--visually\" id=\"sk-estimator-id-14\" type=\"checkbox\" ><label for=\"sk-estimator-id-14\" class=\"sk-toggleable__label sk-toggleable__label-arrow\">VotingRegressor</label><div class=\"sk-toggleable__content\"><pre>VotingRegressor(estimators=[(&#x27;RF&#x27;,\n",
       "                             RandomForestRegressor(max_depth=40, max_features=3,\n",
       "                                                   max_leaf_nodes=10)),\n",
       "                            (&#x27;LR&#x27;, LinearRegression()),\n",
       "                            (&#x27;Knn&#x27;,\n",
       "                             KNeighborsRegressor(algorithm=&#x27;ball_tree&#x27;,\n",
       "                                                 leaf_size=10,\n",
       "                                                 n_neighbors=20))])</pre></div></div></div><div class=\"sk-parallel\"><div class=\"sk-parallel-item\"><div class=\"sk-item\"><div class=\"sk-label-container\"><div class=\"sk-label sk-toggleable\"><label>RF</label></div></div><div class=\"sk-serial\"><div class=\"sk-item\"><div class=\"sk-estimator sk-toggleable\"><input class=\"sk-toggleable__control sk-hidden--visually\" id=\"sk-estimator-id-15\" type=\"checkbox\" ><label for=\"sk-estimator-id-15\" class=\"sk-toggleable__label sk-toggleable__label-arrow\">RandomForestRegressor</label><div class=\"sk-toggleable__content\"><pre>RandomForestRegressor(max_depth=40, max_features=3, max_leaf_nodes=10)</pre></div></div></div></div></div></div><div class=\"sk-parallel-item\"><div class=\"sk-item\"><div class=\"sk-label-container\"><div class=\"sk-label sk-toggleable\"><label>LR</label></div></div><div class=\"sk-serial\"><div class=\"sk-item\"><div class=\"sk-estimator sk-toggleable\"><input class=\"sk-toggleable__control sk-hidden--visually\" id=\"sk-estimator-id-16\" type=\"checkbox\" ><label for=\"sk-estimator-id-16\" class=\"sk-toggleable__label sk-toggleable__label-arrow\">LinearRegression</label><div class=\"sk-toggleable__content\"><pre>LinearRegression()</pre></div></div></div></div></div></div><div class=\"sk-parallel-item\"><div class=\"sk-item\"><div class=\"sk-label-container\"><div class=\"sk-label sk-toggleable\"><label>Knn</label></div></div><div class=\"sk-serial\"><div class=\"sk-item\"><div class=\"sk-estimator sk-toggleable\"><input class=\"sk-toggleable__control sk-hidden--visually\" id=\"sk-estimator-id-17\" type=\"checkbox\" ><label for=\"sk-estimator-id-17\" class=\"sk-toggleable__label sk-toggleable__label-arrow\">KNeighborsRegressor</label><div class=\"sk-toggleable__content\"><pre>KNeighborsRegressor(algorithm=&#x27;ball_tree&#x27;, leaf_size=10, n_neighbors=20)</pre></div></div></div></div></div></div></div></div></div></div>"
      ],
      "text/plain": [
       "VotingRegressor(estimators=[('RF',\n",
       "                             RandomForestRegressor(max_depth=40, max_features=3,\n",
       "                                                   max_leaf_nodes=10)),\n",
       "                            ('LR', LinearRegression()),\n",
       "                            ('Knn',\n",
       "                             KNeighborsRegressor(algorithm='ball_tree',\n",
       "                                                 leaf_size=10,\n",
       "                                                 n_neighbors=20))])"
      ]
     },
     "execution_count": 102,
     "metadata": {},
     "output_type": "execute_result"
    }
   ],
   "source": [
    "VR.fit(train_x, ytrain)"
   ]
  },
  {
   "cell_type": "code",
   "execution_count": 103,
   "id": "1daa60b7",
   "metadata": {},
   "outputs": [],
   "source": [
    "df_vr_train = pd.DataFrame([np.exp(VR.predict(train_x)), np.exp(ytrain)]).T\n",
    "df_vr_test = pd.DataFrame([np.exp(VR.predict(test_x)), np.exp(ytest)]).T"
   ]
  },
  {
   "cell_type": "code",
   "execution_count": 104,
   "id": "fe3c3d16",
   "metadata": {},
   "outputs": [],
   "source": [
    "df_vr_train.columns = ['train_y_pred', 'ytrain']\n",
    "df_vr_test.columns = ['test_y_pred', 'ytest']"
   ]
  },
  {
   "cell_type": "code",
   "execution_count": 105,
   "id": "e403a6e1",
   "metadata": {},
   "outputs": [],
   "source": [
    "# Errors"
   ]
  },
  {
   "cell_type": "code",
   "execution_count": 106,
   "id": "7be1ba80",
   "metadata": {},
   "outputs": [
    {
     "name": "stdout",
     "output_type": "stream",
     "text": [
      "Train\n",
      "RMSE :  104354.67528753311\n",
      "MSE :  10889898254.366474\n",
      "MAE :  47856.63503696005\n",
      "MAPE :  3.008942205948124\n"
     ]
    }
   ],
   "source": [
    "print('Train')\n",
    "print( \"RMSE : \", np.sqrt(mean_squared_error(df_vr_train.train_y_pred, df_vr_train.ytrain)))\n",
    "print( \"MSE : \", mean_squared_error(df_vr_train.train_y_pred, df_vr_train.ytrain))\n",
    "print( \"MAE : \", mean_absolute_error(df_vr_train.train_y_pred, df_vr_train.ytrain))\n",
    "print( \"MAPE : \", mean_absolute_percentage_error(df_vr_train.train_y_pred, df_vr_train.ytrain))"
   ]
  },
  {
   "cell_type": "code",
   "execution_count": 107,
   "id": "38749e91",
   "metadata": {},
   "outputs": [
    {
     "name": "stdout",
     "output_type": "stream",
     "text": [
      "test\n",
      "RMSE :  107027.53821886615\n",
      "MSE :  11454893937.190855\n",
      "MAE :  49965.65405700687\n",
      "MAPE :  3.291824476880011\n"
     ]
    }
   ],
   "source": [
    "print('test')\n",
    "print( \"RMSE : \", np.sqrt(mean_squared_error(df_vr_test.test_y_pred, df_vr_test.ytest)))\n",
    "print( \"MSE : \", mean_squared_error(df_vr_test.test_y_pred, df_vr_test.ytest))\n",
    "print( \"MAE : \", mean_absolute_error(df_vr_test.test_y_pred, df_vr_test.ytest))\n",
    "print( \"MAPE : \", mean_absolute_percentage_error(df_vr_test.test_y_pred, df_vr_test.ytest))"
   ]
  },
  {
   "cell_type": "markdown",
   "id": "cb4c8efc",
   "metadata": {},
   "source": [
    "# Residuals"
   ]
  },
  {
   "cell_type": "code",
   "execution_count": 108,
   "id": "309dd4e5",
   "metadata": {},
   "outputs": [],
   "source": [
    "res_train = df_vr_train.train_y_pred- df_vr_train.ytrain\n",
    "res_test = df_vr_test.test_y_pred- df_vr_test.ytest"
   ]
  },
  {
   "cell_type": "code",
   "execution_count": 109,
   "id": "90bbd4ff",
   "metadata": {},
   "outputs": [
    {
     "name": "stdout",
     "output_type": "stream",
     "text": [
      "residual of train data :  -39163.37059565195\n",
      "residual of test data :  -41102.59541205021\n"
     ]
    }
   ],
   "source": [
    "print(\"residual of train data : \",res_train.mean())\n",
    "print(\"residual of test data : \", res_test.mean())"
   ]
  },
  {
   "cell_type": "code",
   "execution_count": 110,
   "id": "652d1963",
   "metadata": {},
   "outputs": [
    {
     "name": "stdout",
     "output_type": "stream",
     "text": [
      "Skewness of res_train :  -2.1448751774358965\n"
     ]
    },
    {
     "data": {
      "image/png": "[encoded data removed]",
      "text/plain": [
       "<Figure size 800x600 with 1 Axes>"
      ]
     },
     "metadata": {},
     "output_type": "display_data"
    }
   ],
   "source": [
    "print(\"Skewness of res_train : \", res_train.skew())\n",
    "\n",
    "custom_palette = [\"#FF5733\", \"#3366FF\", \"#33FF57\", \"#FF33EC\", \"#FFC733\"]\n",
    "sns.set(style=\"whitegrid\")\n",
    "plt.figure(figsize=(8, 6))\n",
    "\n",
    "sns.histplot(res_train, kde=True, palette=custom_palette)\n",
    "\n",
    "plt.xlabel(\"Credit Card Consumption\")\n",
    "plt.ylabel(\"Frequency\")\n",
    "plt.title(\"Distribution of Credit Card Consumption\")\n",
    "\n",
    "plt.ticklabel_format(style='plain')\n",
    "plt.grid(True, linestyle='--', alpha=0.7)\n",
    "plt.show()\n",
    "\n",
    "# res_train is not normally distributed"
   ]
  },
  {
   "cell_type": "code",
   "execution_count": 111,
   "id": "c0d66ff7",
   "metadata": {},
   "outputs": [
    {
     "name": "stdout",
     "output_type": "stream",
     "text": [
      "Skewness of res_test :  -2.09032101132558\n"
     ]
    },
    {
     "data": {
      "image/png": "[encoded data removed]",
      "text/plain": [
       "<Figure size 800x600 with 1 Axes>"
      ]
     },
     "metadata": {},
     "output_type": "display_data"
    }
   ],
   "source": [
    "print(\"Skewness of res_test : \", res_test.skew())\n",
    "\n",
    "custom_palette = [\"#FF5733\", \"#3366FF\", \"#33FF57\", \"#FF33EC\", \"#FFC733\"]\n",
    "sns.set(style=\"whitegrid\")\n",
    "plt.figure(figsize=(8, 6))\n",
    "\n",
    "sns.histplot(res_test, kde=True, palette=custom_palette)\n",
    "\n",
    "plt.xlabel(\"Credit Card Consumption\")\n",
    "plt.ylabel(\"Frequency\")\n",
    "plt.title(\"Distribution of Credit Card Consumption\")\n",
    "\n",
    "plt.ticklabel_format(style='plain')\n",
    "plt.grid(True, linestyle='--', alpha=0.7)\n",
    "plt.show()\n",
    "\n",
    "# res_test is not normally distributed"
   ]
  },
  {
   "cell_type": "markdown",
   "id": "e3a9efa8",
   "metadata": {},
   "source": [
    "# Decile analysis"
   ]
  },
  {
   "cell_type": "code",
   "execution_count": 112,
   "id": "9df56759",
   "metadata": {},
   "outputs": [],
   "source": [
    "df_vr_train['decile'] = pd.qcut(df_vr_train.train_y_pred, q=10, labels=range(1,11,1))\n",
    "df_vr_test['decile'] = pd.qcut(df_vr_test.test_y_pred, q=10, labels=range(1,11,1))"
   ]
  },
  {
   "cell_type": "code",
   "execution_count": 113,
   "id": "84cb97b3",
   "metadata": {},
   "outputs": [
    {
     "data": {
      "text/html": [
       "<div>\n",
       "<style scoped>\n",
       "    .dataframe tbody tr th:only-of-type {\n",
       "        vertical-align: middle;\n",
       "    }\n",
       "\n",
       "    .dataframe tbody tr th {\n",
       "        vertical-align: top;\n",
       "    }\n",
       "\n",
       "    .dataframe thead th {\n",
       "        text-align: right;\n",
       "    }\n",
       "</style>\n",
       "<table border=\"1\" class=\"dataframe\">\n",
       "  <thead>\n",
       "    <tr style=\"text-align: right;\">\n",
       "      <th></th>\n",
       "      <th>decile</th>\n",
       "      <th>train_y_pred</th>\n",
       "      <th>ytrain</th>\n",
       "    </tr>\n",
       "  </thead>\n",
       "  <tbody>\n",
       "    <tr>\n",
       "      <th>9</th>\n",
       "      <td>10</td>\n",
       "      <td>19951.672529</td>\n",
       "      <td>88765.404762</td>\n",
       "    </tr>\n",
       "    <tr>\n",
       "      <th>8</th>\n",
       "      <td>9</td>\n",
       "      <td>17758.721682</td>\n",
       "      <td>78644.049524</td>\n",
       "    </tr>\n",
       "    <tr>\n",
       "      <th>7</th>\n",
       "      <td>8</td>\n",
       "      <td>16760.174531</td>\n",
       "      <td>69305.447619</td>\n",
       "    </tr>\n",
       "    <tr>\n",
       "      <th>6</th>\n",
       "      <td>7</td>\n",
       "      <td>16095.480738</td>\n",
       "      <td>65507.025714</td>\n",
       "    </tr>\n",
       "    <tr>\n",
       "      <th>4</th>\n",
       "      <td>5</td>\n",
       "      <td>14944.735924</td>\n",
       "      <td>51173.883810</td>\n",
       "    </tr>\n",
       "    <tr>\n",
       "      <th>5</th>\n",
       "      <td>6</td>\n",
       "      <td>15501.866599</td>\n",
       "      <td>49557.964762</td>\n",
       "    </tr>\n",
       "    <tr>\n",
       "      <th>2</th>\n",
       "      <td>3</td>\n",
       "      <td>13774.344864</td>\n",
       "      <td>43143.805714</td>\n",
       "    </tr>\n",
       "    <tr>\n",
       "      <th>3</th>\n",
       "      <td>4</td>\n",
       "      <td>14375.357915</td>\n",
       "      <td>38681.161905</td>\n",
       "    </tr>\n",
       "    <tr>\n",
       "      <th>1</th>\n",
       "      <td>2</td>\n",
       "      <td>13095.479428</td>\n",
       "      <td>35223.188581</td>\n",
       "    </tr>\n",
       "    <tr>\n",
       "      <th>0</th>\n",
       "      <td>1</td>\n",
       "      <td>11860.847462</td>\n",
       "      <td>25750.455238</td>\n",
       "    </tr>\n",
       "  </tbody>\n",
       "</table>\n",
       "</div>"
      ],
      "text/plain": [
       "  decile  train_y_pred        ytrain\n",
       "9     10  19951.672529  88765.404762\n",
       "8      9  17758.721682  78644.049524\n",
       "7      8  16760.174531  69305.447619\n",
       "6      7  16095.480738  65507.025714\n",
       "4      5  14944.735924  51173.883810\n",
       "5      6  15501.866599  49557.964762\n",
       "2      3  13774.344864  43143.805714\n",
       "3      4  14375.357915  38681.161905\n",
       "1      2  13095.479428  35223.188581\n",
       "0      1  11860.847462  25750.455238"
      ]
     },
     "execution_count": 113,
     "metadata": {},
     "output_type": "execute_result"
    }
   ],
   "source": [
    "df_vr_train.groupby(by='decile').mean().reset_index().sort_values(by='ytrain', ascending=False)"
   ]
  },
  {
   "cell_type": "code",
   "execution_count": 114,
   "id": "508cf53d",
   "metadata": {},
   "outputs": [
    {
     "data": {
      "text/html": [
       "<div>\n",
       "<style scoped>\n",
       "    .dataframe tbody tr th:only-of-type {\n",
       "        vertical-align: middle;\n",
       "    }\n",
       "\n",
       "    .dataframe tbody tr th {\n",
       "        vertical-align: top;\n",
       "    }\n",
       "\n",
       "    .dataframe thead th {\n",
       "        text-align: right;\n",
       "    }\n",
       "</style>\n",
       "<table border=\"1\" class=\"dataframe\">\n",
       "  <thead>\n",
       "    <tr style=\"text-align: right;\">\n",
       "      <th></th>\n",
       "      <th>decile</th>\n",
       "      <th>test_y_pred</th>\n",
       "      <th>ytest</th>\n",
       "    </tr>\n",
       "  </thead>\n",
       "  <tbody>\n",
       "    <tr>\n",
       "      <th>9</th>\n",
       "      <td>10</td>\n",
       "      <td>19987.566058</td>\n",
       "      <td>64149.028889</td>\n",
       "    </tr>\n",
       "    <tr>\n",
       "      <th>5</th>\n",
       "      <td>6</td>\n",
       "      <td>15463.294107</td>\n",
       "      <td>61016.075556</td>\n",
       "    </tr>\n",
       "    <tr>\n",
       "      <th>3</th>\n",
       "      <td>4</td>\n",
       "      <td>14377.721747</td>\n",
       "      <td>59278.722222</td>\n",
       "    </tr>\n",
       "    <tr>\n",
       "      <th>4</th>\n",
       "      <td>5</td>\n",
       "      <td>14937.925376</td>\n",
       "      <td>56890.555556</td>\n",
       "    </tr>\n",
       "    <tr>\n",
       "      <th>8</th>\n",
       "      <td>9</td>\n",
       "      <td>17705.934968</td>\n",
       "      <td>55411.264444</td>\n",
       "    </tr>\n",
       "    <tr>\n",
       "      <th>1</th>\n",
       "      <td>2</td>\n",
       "      <td>13153.716864</td>\n",
       "      <td>55268.044444</td>\n",
       "    </tr>\n",
       "    <tr>\n",
       "      <th>7</th>\n",
       "      <td>8</td>\n",
       "      <td>16745.182820</td>\n",
       "      <td>54934.135556</td>\n",
       "    </tr>\n",
       "    <tr>\n",
       "      <th>6</th>\n",
       "      <td>7</td>\n",
       "      <td>16070.969019</td>\n",
       "      <td>53568.791111</td>\n",
       "    </tr>\n",
       "    <tr>\n",
       "      <th>0</th>\n",
       "      <td>1</td>\n",
       "      <td>11892.040927</td>\n",
       "      <td>53336.524444</td>\n",
       "    </tr>\n",
       "    <tr>\n",
       "      <th>2</th>\n",
       "      <td>3</td>\n",
       "      <td>13808.451773</td>\n",
       "      <td>51315.615556</td>\n",
       "    </tr>\n",
       "  </tbody>\n",
       "</table>\n",
       "</div>"
      ],
      "text/plain": [
       "  decile   test_y_pred         ytest\n",
       "9     10  19987.566058  64149.028889\n",
       "5      6  15463.294107  61016.075556\n",
       "3      4  14377.721747  59278.722222\n",
       "4      5  14937.925376  56890.555556\n",
       "8      9  17705.934968  55411.264444\n",
       "1      2  13153.716864  55268.044444\n",
       "7      8  16745.182820  54934.135556\n",
       "6      7  16070.969019  53568.791111\n",
       "0      1  11892.040927  53336.524444\n",
       "2      3  13808.451773  51315.615556"
      ]
     },
     "execution_count": 114,
     "metadata": {},
     "output_type": "execute_result"
    }
   ],
   "source": [
    "df_vr_test.groupby(by='decile').mean().reset_index().sort_values(by='ytest', ascending=False)"
   ]
  },
  {
   "cell_type": "markdown",
   "id": "2f1184c5",
   "metadata": {},
   "source": [
    "# None of the above models are performing well for prediction, but given the available options, we are using the models we have"
   ]
  },
  {
   "cell_type": "code",
   "execution_count": 115,
   "id": "de374c24",
   "metadata": {},
   "outputs": [],
   "source": [
    "y_pred = pd.DataFrame(np.exp(VR.predict(new)), columns=['y_pred'])"
   ]
  },
  {
   "cell_type": "code",
   "execution_count": 116,
   "id": "6394e519",
   "metadata": {},
   "outputs": [],
   "source": [
    "new = pd.concat([new, y_pred], axis=1)"
   ]
  },
  {
   "cell_type": "code",
   "execution_count": 117,
   "id": "f0c1ca63",
   "metadata": {},
   "outputs": [
    {
     "name": "stdout",
     "output_type": "stream",
     "text": [
      "0       16274.636053\n",
      "1       13390.651751\n",
      "2       15064.424879\n",
      "3       16212.112535\n",
      "4       16800.319273\n",
      "            ...     \n",
      "4995    18169.690401\n",
      "4996    14992.473078\n",
      "4997    14635.692202\n",
      "4998    15222.385477\n",
      "4999    13092.306894\n",
      "Name: y_pred, Length: 5000, dtype: float64\n"
     ]
    }
   ],
   "source": [
    "print(new.y_pred)"
   ]
  }
 ],
 "metadata": {
  "kernelspec": {
   "display_name": "Python 3 (ipykernel)",
   "language": "python",
   "name": "python3"
  },
  "language_info": {
   "codemirror_mode": {
    "name": "ipython",
    "version": 3
   },
   "file_extension": ".py",
   "mimetype": "text/x-python",
   "name": "python",
   "nbconvert_exporter": "python",
   "pygments_lexer": "ipython3",
   "version": "3.10.9"
  }
 },
 "nbformat": 4,
 "nbformat_minor": 5
}
