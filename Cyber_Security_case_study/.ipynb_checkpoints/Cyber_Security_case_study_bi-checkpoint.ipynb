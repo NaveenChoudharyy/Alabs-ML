{
 "cells": [
  {
   "cell_type": "markdown",
   "id": "f50335fd",
   "metadata": {},
   "source": [
    "# Cyber Security – Network Security: (Bi-nomial classification)\n",
    "### Network Intrusions Detection Case Study\n",
    "\n",
    "### Business Context:\n",
    "We are in a time where businesses are more digitally advanced than ever, and as technology improves, organizations’ security postures must be enhanced as well. Failure to do so could result in a costly data breach, as we’ve seen happen with many businesses. The cybercrime landscape has evolved, and threat actors are going after any type of organization, so in order to protect your business’s data, money and reputation, it is critical that you invest in an advanced security system.\n",
    "\n",
    "Cyber security can be described as the collective methods, technologies, and processes to help protect the confidentiality, integrity, and availability of computer systems, networks and data, against cyber-attacks or unauthorized access.\n",
    "\n",
    "###### a. Information Security vs. Cyber Security vs. Network Security:\n",
    "\n",
    "Information security (also known as InfoSec) ensures that both physical and digital data is protected from unauthorized access, use, disclosure, disruption, modification, inspection, recording or destruction. Information security differs from cyber security in that InfoSec aims to keep data in any form secure, whereas cyber security protects only digital data.\n",
    "\n",
    "Cyber security, a subset of information security, is the practice of defending your organization’s networks, computers and data from unauthorized digital access, attack or damage by implementing various processes, technologies and practices. With the countless sophisticated threat actors targeting all types of organizations, it is critical that your IT infrastructure is secured at all times to prevent a full-scale attack on your network and risk exposing your company’ data and reputation.\n",
    "\n",
    "Network security, a subset of cyber security, aims to protect any data that is being sent through devices in your network to ensure that the information is not changed or intercepted. The role of network security is to protect the organization’s IT infrastructure from all types of cyber threats including:\n",
    "\n",
    "\n",
    "Viruses, worms and Trojan horses\n",
    "\n",
    "a. Zero-day attacks\n",
    "\n",
    "b. Hacker attacks\n",
    "\n",
    "c. Denial of service attacks\n",
    "\n",
    "d. Spyware and adware\n",
    "\n",
    "\n",
    "\n",
    "Your network security team implements the hardware and software necessary to guard your security architecture. With the proper network security in place, your system can detect emerging threats before they infiltrate your network and compromise your data.\n",
    "\n",
    "There are many components to a network security system that work together to improve your security posture. The most common network security components include:\n",
    "\n",
    "a. Firewalls\n",
    "\n",
    "b. Anti-virus software\n",
    "\n",
    "c. Intrusion detection and prevention systems (IDS/IPS)\n",
    "\n",
    "d. Virtual private networks (VPN)\n",
    "\n",
    "\n",
    "\n",
    "### Network Intrusions vs. Computer intrusions vs. Cyber Attacks\n",
    "\n",
    "### 1. Computer Intrusions:\n",
    "Computer intrusions occur when someone tries to gain access to any part of your computer system. Computer intruders or hackers typically use automated computer programs when they try to compromise a computer’s security. There are several ways an intruder can try to gain access to your computer.\n",
    "\n",
    "They can Access your \n",
    "\n",
    "a. Computer to view, change, or delete information on your computer, \n",
    "\n",
    "b. Crash or slow down your computer\n",
    "\n",
    "c. Access your private data by examining the files on your system\n",
    "\n",
    "d. Use your computer to access other computers on the Internet.\n",
    "\n",
    "### 2. Network Intrusions:\n",
    "A network intrusion refers to any unauthorized activity on a digital network. Network intrusions often involve stealing valuable network resources and almost always jeopardize the security of networks and/or their data. \n",
    "\n",
    "In order to proactively detect and respond to network intrusions, organizations and their cyber-security teams need to have a thorough understanding of how network intrusions work and implement network intrusion, detection, and response systems that are designed with attack techniques and cover-up methods in mind.\n",
    "\n",
    "#### Network Intrusion Attack Techniques:\n",
    "Given the amount of normal activity constantly taking place on digital networks, it can be very difficult to pinpoint anomalies that could indicate a network intrusion has occurred. Below are some of the most common network intrusion attack techniques that organizations should continually look for:\n",
    "\n",
    "#### Living Off the Land: \n",
    "Attackers increasingly use existing tools and processes and stolen credentials when compromising networks. These tools like operating system utilities, business productivity software and scripting languages are clearly not malware and have very legitimate usage as well. In fact, in most cases, the vast majority of the usage is business justified, allowing an attacker to blend in.\n",
    "\n",
    "#### Multi-Routing:\n",
    "If a network allows for asymmetric routing, attackers will often leverage multiple routes to access the targeted device or network. This allows them to avoid being detected by having a large portion of suspicious packets bypass certain network segments and any relevant network intrusion systems.\n",
    "\n",
    "#### Buffer Overwriting:\n",
    "By overwriting certain sections of computer memory on a network device, attackers can replace normal data in those memory locations with a slew of commands that can later be used as part of a network intrusion. This attack technique is a lot harder to accomplish if boundary-checking logic is installed and executable code or malicious strings are identified before \n",
    "they can be written to the buffer.\n",
    "\n",
    "#### Covert CGI Scripts: \n",
    "Unfortunately, the Common Gateway Interface (CGI), which allows servers to pass user requests to relevant applications and receive data back to then forward to users, serves as an easy opening for attackers to access network system files. For instance, if networks don’t require input verification or scan for backtracking, attackers can use a covert CGI script to add the directory label “..” or the pipe “|” character to any file path name, allowing them to access files that shouldn’t \n",
    "be accessible via the Web. Fortunately, CGI is much less popular today and there are far fewer devices that provide this interface.\n",
    "\n",
    "#### Protocol-Specific Attacks: \n",
    "Protocols such as ARP, IP, TCP, UDP, ICMP, and various application protocols can inadvertently leave openings for network intrusions. Case in point: Attackers will often impersonate protocols or spoof protocol messages to perform man-in-the-middle attacks and thus access data they wouldn’t have access to otherwise, or to crash targeted devices on a network.\n",
    "\n",
    "#### Traffic Flooding: \n",
    "By creating traffic loads that are too large for systems to adequately screen, attackers can induce chaos and congestion in network environments, which allows them to execute attacks without ever being detected.\n",
    "\n",
    "#### Trojan Horse Malware: \n",
    "As the name suggests, Trojan Horse viruses create network backdoors that give attackers easy access to systems and any available data. Unlike other viruses and worms, Trojans don’t reproduce by infecting other files, and they don’t self-replicate. Trojans can be introduced from online archives and file repositories, and often originate from peer-to-peer file exchanges.\n",
    "\n",
    "#### Worms: \n",
    "One of the easiest and most damaging network intrusion techniques is the common, standalone computer virus, or worm. Often spread through email attachments or instant messaging, worms take up large amounts of network resources, preventing the authorized activity from occurring. Some worms are designed to steal specific kinds of confidential information, such as financial information or any personal data relating to social security numbers, and they then relay that data to attackers waiting outside an organization’s network.\n",
    "\n",
    "\n",
    "### Network Intrusion Cover-Up Methods\n",
    "\n",
    "Once attackers have employed common network intrusion attack techniques, they’ll often incorporate additional measures to cover their tracks and avoid detection. As mentioned above, using non-malware and living off the land tools have the dual advantage of being powerful while blending into business justified usage, thus making them hard to detect. In addition, below are three practices that are frequently used to circumvent cyber security teams and network intrusion detection systems:\n",
    "\n",
    "#### Deleting logs:\n",
    "By deleting access logs, attackers can make it nearly impossible to determine where and what they’ve accessed (that is, without enlisting the help of an extensive cyber forensics team). Regularly scheduled log reviews and centralized logging can help combat this problem by preventing attackers from tampering with any type and/or location of logs.\n",
    "\n",
    "#### Using encryption on departing data:\n",
    "Encrypting the data that’s being stolen from an organization’s network environment (or simply cloaking any outbound traffic so it looks normal) is one of the most straightforward tactics attackers can leverage to hide their movements from network-based detections.\n",
    "\n",
    "#### Installing rootkits: \n",
    "Rootkits, or software that enables unauthorized users to gain control of a network without ever being detected, are particularly effective in covering attackers’ tracks, as they allow attackers to leisurely inspect systems and exploit them over long periods of time.\n",
    "\n",
    "### 3. Cyber Attack:\n",
    "A cyber-attack is any type of offensive action that targets computer information systems, infrastructures, computer networks or personal computer devices, using various methods to steal, alter or destroy data or information systems.\n",
    "Common cyber-attack types:\n",
    "\n",
    "a. Denial-of-service (DoS) and distributed denial-of-service (DDoS) attacks\n",
    "\n",
    "b. Man-in-the-middle (MitM) attack\n",
    "\n",
    "c. Phishing and spear phishing attacks\n",
    "\n",
    "d. Drive-by attack\n",
    "\n",
    "e. Password attack\n",
    "\n",
    "f. SQL injection attack\n",
    "\n",
    "g. Cross-site scripting (XSS) attack\n",
    "\n",
    "h. Eavesdropping attack\n",
    "\n",
    "i. Birthday attack\n",
    "\n",
    "j. Malware attack\n",
    "\n",
    "\n",
    "## Business Objective:\n",
    "With the enormous growth of computer networks usage and the huge increase in the number of applications running on top of it, network security is becoming increasingly more important. All the computer systems suffer from security vulnerabilities which are both technically difficult and economically costly to be solved by the manufacturers. Therefore, the role of Intrusion Detection Systems (IDSs), as special-purpose devices to detect anomalies and attacks in the network, is \n",
    "becoming more important. \n",
    "\n",
    "The research in the intrusion detection field has been mostly focused on anomaly-based and misuse\u0002based detection techniques for a long time. While misuse-based detection is generally favoured in commercial products due to its predictability and high accuracy, in academic research anomaly detection is typically conceived as a more powerful method due to its theoretical potential for addressing novel attacks.\n",
    "\n",
    "As part of this project, your task is to build network intrusion detection system to detect anomalies and attacks in the network.\n",
    "\n",
    "## Problems:\n",
    "\n",
    "###### Binomial classification: \n",
    "Detect anomalies by predicting Activity is normal or attack."
   ]
  },
  {
   "cell_type": "code",
   "execution_count": null,
   "id": "94e6887d",
   "metadata": {},
   "outputs": [],
   "source": [
    "# Importing library\n",
    "\n",
    "import numpy as np\n",
    "import pandas as pd\n",
    "import matplotlib.pyplot as plt\n",
    "import seaborn as sns\n",
    "\n",
    "%matplotlib inline\n",
    "\n",
    "import warnings\n",
    "warnings.filterwarnings('ignore')\n",
    "\n",
    "import scipy.stats as stats"
   ]
  },
  {
   "cell_type": "code",
   "execution_count": null,
   "id": "017120fb",
   "metadata": {},
   "outputs": [],
   "source": [
    "# Importing datasets\n",
    "\n",
    "Data_of_Attack_Back =  pd.read_csv(\"C:/Users/navee/OneDrive/Desktop/Data_Science_360/Case_studies/Completed/Machine_learning/Cyber_Security_case_study/Data_of_Attack_Back.csv\")\n",
    "Data_of_Attack_Back_BufferOverflow =  pd.read_csv(\"C:/Users/navee/OneDrive/Desktop/Data_Science_360/Case_studies/Completed/Machine_learning/Cyber_Security_case_study/Data_of_Attack_Back_BufferOverflow.csv\")\n",
    "Data_of_Attack_Back_FTPWrite =  pd.read_csv(\"C:/Users/navee/OneDrive/Desktop/Data_Science_360/Case_studies/Completed/Machine_learning/Cyber_Security_case_study/Data_of_Attack_Back_FTPWrite.csv\", header=None)\n",
    "Data_of_Attack_Back_GuessPassword =  pd.read_csv(\"C:/Users/navee/OneDrive/Desktop/Data_Science_360/Case_studies/Completed/Machine_learning/Cyber_Security_case_study/Data_of_Attack_Back_GuessPassword.csv\")\n",
    "Data_of_Attack_Back_Neptune =  pd.read_csv(\"C:/Users/navee/OneDrive/Desktop/Data_Science_360/Case_studies/Completed/Machine_learning/Cyber_Security_case_study/Data_of_Attack_Back_Neptune.csv\")\n",
    "Data_of_Attack_Back_NMap =  pd.read_csv(\"C:/Users/navee/OneDrive/Desktop/Data_Science_360/Case_studies/Completed/Machine_learning/Cyber_Security_case_study/Data_of_Attack_Back_NMap.csv\")\n",
    "Data_of_Attack_Back_Normal =  pd.read_csv(\"C:/Users/navee/OneDrive/Desktop/Data_Science_360/Case_studies/Completed/Machine_learning/Cyber_Security_case_study/Data_of_Attack_Back_Normal.csv\")\n",
    "Data_of_Attack_Back_PortSweep =  pd.read_csv(\"C:/Users/navee/OneDrive/Desktop/Data_Science_360/Case_studies/Completed/Machine_learning/Cyber_Security_case_study/Data_of_Attack_Back_PortSweep.csv\")\n",
    "Data_of_Attack_Back_RootKit =  pd.read_csv(\"C:/Users/navee/OneDrive/Desktop/Data_Science_360/Case_studies/Completed/Machine_learning/Cyber_Security_case_study/Data_of_Attack_Back_RootKit.csv\")\n",
    "Data_of_Attack_Back_Satan =  pd.read_csv(\"C:/Users/navee/OneDrive/Desktop/Data_Science_360/Case_studies/Completed/Machine_learning/Cyber_Security_case_study/Data_of_Attack_Back_Satan.csv\")\n",
    "Data_of_Attack_Back_Smurf =  pd.read_csv(\"C:/Users/navee/OneDrive/Desktop/Data_Science_360/Case_studies/Completed/Machine_learning/Cyber_Security_case_study/Data_of_Attack_Back_Smurf.csv\")\n"
   ]
  },
  {
   "cell_type": "code",
   "execution_count": null,
   "id": "7984b7f6",
   "metadata": {},
   "outputs": [],
   "source": [
    "Data_of_Attack_Back.head()"
   ]
  },
  {
   "cell_type": "code",
   "execution_count": null,
   "id": "dc66e256",
   "metadata": {},
   "outputs": [],
   "source": [
    "Data_of_Attack_Back.info()"
   ]
  },
  {
   "cell_type": "code",
   "execution_count": null,
   "id": "549f8424",
   "metadata": {},
   "outputs": [],
   "source": [
    "Data_of_Attack_Back.nunique()"
   ]
  },
  {
   "cell_type": "code",
   "execution_count": null,
   "id": "b088d594",
   "metadata": {},
   "outputs": [],
   "source": [
    "Data_of_Attack_Back_BufferOverflow.head()"
   ]
  },
  {
   "cell_type": "code",
   "execution_count": null,
   "id": "afe8cd2f",
   "metadata": {},
   "outputs": [],
   "source": [
    "Data_of_Attack_Back_BufferOverflow.info()"
   ]
  },
  {
   "cell_type": "code",
   "execution_count": null,
   "id": "af1539d8",
   "metadata": {},
   "outputs": [],
   "source": [
    "Data_of_Attack_Back_FTPWrite"
   ]
  },
  {
   "cell_type": "code",
   "execution_count": null,
   "id": "02abf8b8",
   "metadata": {},
   "outputs": [],
   "source": [
    "Data_of_Attack_Back_FTPWrite.info()"
   ]
  },
  {
   "cell_type": "code",
   "execution_count": null,
   "id": "1901a2e3",
   "metadata": {},
   "outputs": [],
   "source": [
    "Data_of_Attack_Back_GuessPassword.head()"
   ]
  },
  {
   "cell_type": "code",
   "execution_count": null,
   "id": "3313dc71",
   "metadata": {},
   "outputs": [],
   "source": [
    "Data_of_Attack_Back_GuessPassword.info()"
   ]
  },
  {
   "cell_type": "code",
   "execution_count": null,
   "id": "db194cf3",
   "metadata": {},
   "outputs": [],
   "source": [
    "Data_of_Attack_Back_Neptune.head()"
   ]
  },
  {
   "cell_type": "code",
   "execution_count": null,
   "id": "a6dfd2ba",
   "metadata": {},
   "outputs": [],
   "source": [
    "Data_of_Attack_Back_Neptune.info()"
   ]
  },
  {
   "cell_type": "code",
   "execution_count": null,
   "id": "eba278a7",
   "metadata": {},
   "outputs": [],
   "source": [
    "Data_of_Attack_Back_NMap.head()"
   ]
  },
  {
   "cell_type": "code",
   "execution_count": null,
   "id": "d9fb3af0",
   "metadata": {},
   "outputs": [],
   "source": [
    "Data_of_Attack_Back_NMap.info()"
   ]
  },
  {
   "cell_type": "code",
   "execution_count": null,
   "id": "67c37284",
   "metadata": {},
   "outputs": [],
   "source": [
    "Data_of_Attack_Back_Normal.head()"
   ]
  },
  {
   "cell_type": "code",
   "execution_count": null,
   "id": "87d7219a",
   "metadata": {},
   "outputs": [],
   "source": [
    "Data_of_Attack_Back_Normal.info()"
   ]
  },
  {
   "cell_type": "code",
   "execution_count": null,
   "id": "90b594d6",
   "metadata": {},
   "outputs": [],
   "source": [
    "Data_of_Attack_Back_PortSweep.head()"
   ]
  },
  {
   "cell_type": "code",
   "execution_count": null,
   "id": "da97a8b5",
   "metadata": {},
   "outputs": [],
   "source": [
    "Data_of_Attack_Back_PortSweep.info()"
   ]
  },
  {
   "cell_type": "code",
   "execution_count": null,
   "id": "ed2e68a2",
   "metadata": {},
   "outputs": [],
   "source": [
    "Data_of_Attack_Back_RootKit.head()"
   ]
  },
  {
   "cell_type": "code",
   "execution_count": null,
   "id": "d39b26e1",
   "metadata": {},
   "outputs": [],
   "source": [
    "Data_of_Attack_Back_RootKit.info()"
   ]
  },
  {
   "cell_type": "code",
   "execution_count": null,
   "id": "0896cc3a",
   "metadata": {},
   "outputs": [],
   "source": [
    "Data_of_Attack_Back_Satan.head()"
   ]
  },
  {
   "cell_type": "code",
   "execution_count": null,
   "id": "c145b9ff",
   "metadata": {},
   "outputs": [],
   "source": [
    "Data_of_Attack_Back_Satan.info()"
   ]
  },
  {
   "cell_type": "code",
   "execution_count": null,
   "id": "2355d66e",
   "metadata": {},
   "outputs": [],
   "source": [
    "Data_of_Attack_Back_Smurf.head()"
   ]
  },
  {
   "cell_type": "code",
   "execution_count": null,
   "id": "94c94c89",
   "metadata": {},
   "outputs": [],
   "source": [
    "Data_of_Attack_Back_Smurf.info()"
   ]
  },
  {
   "cell_type": "code",
   "execution_count": null,
   "id": "21fe3343",
   "metadata": {},
   "outputs": [],
   "source": [
    "# Adding column names to dataset \"Data_of_Attack_Back_FTPWrite\"\n",
    "\n",
    "\n",
    "Data_of_Attack_Back_FTPWrite.columns = Data_of_Attack_Back.columns\n"
   ]
  },
  {
   "cell_type": "code",
   "execution_count": null,
   "id": "15ad90ae",
   "metadata": {},
   "outputs": [],
   "source": [
    "# Creating a new column of datasetb name to identify which obervation belongs to which dataset\n",
    "\n",
    "\n",
    "Data_of_Attack_Back['activity'] = 'attack'\n",
    "Data_of_Attack_Back_BufferOverflow['activity'] = 'attack'\n",
    "Data_of_Attack_Back_FTPWrite['activity'] = 'attack'\n",
    "Data_of_Attack_Back_GuessPassword['activity'] = 'attack'\n",
    "Data_of_Attack_Back_Neptune['activity'] = 'attack'\n",
    "Data_of_Attack_Back_NMap['activity'] = 'attack'\n",
    "Data_of_Attack_Back_Normal['activity'] = 'normal'\n",
    "Data_of_Attack_Back_PortSweep['activity'] = 'attack'\n",
    "Data_of_Attack_Back_RootKit['activity'] = 'attack'\n",
    "Data_of_Attack_Back_Satan['activity'] = 'attack'\n",
    "Data_of_Attack_Back_Smurf['activity'] = 'attack'\n"
   ]
  },
  {
   "cell_type": "code",
   "execution_count": null,
   "id": "9ef8518d",
   "metadata": {},
   "outputs": [],
   "source": [
    "# We need to merge all the dataset into one dataset\n",
    "\n",
    "new_dataset = pd.concat([Data_of_Attack_Back, Data_of_Attack_Back_BufferOverflow, Data_of_Attack_Back_FTPWrite, Data_of_Attack_Back_GuessPassword, Data_of_Attack_Back_Neptune, Data_of_Attack_Back_NMap, Data_of_Attack_Back_Normal, Data_of_Attack_Back_PortSweep, Data_of_Attack_Back_RootKit, Data_of_Attack_Back_Satan, Data_of_Attack_Back_Smurf], axis=0)"
   ]
  },
  {
   "cell_type": "code",
   "execution_count": null,
   "id": "8f5b7b95",
   "metadata": {},
   "outputs": [],
   "source": [
    "new_dataset.head()"
   ]
  },
  {
   "cell_type": "code",
   "execution_count": null,
   "id": "377d1dee",
   "metadata": {},
   "outputs": [],
   "source": [
    "new_dataset.info()"
   ]
  },
  {
   "cell_type": "code",
   "execution_count": null,
   "id": "030c822f",
   "metadata": {},
   "outputs": [],
   "source": [
    "new_dataset"
   ]
  },
  {
   "cell_type": "code",
   "execution_count": null,
   "id": "92225e32",
   "metadata": {},
   "outputs": [],
   "source": [
    "new_dataset.columns = ['duration', 'protocol_type', 'service', 'flag', 'src_bytes',\n",
    "       'dst_bytes', 'land', 'wrong_fragment', 'urgent', 'hot',\n",
    "       'num_failed_logins', 'logged_in', 'num_compromised', 'root_shell',\n",
    "       'su_attempted', 'num_root', 'num_file_creations', 'num_shells',\n",
    "       'num_access_files', 'num_outbound_cmds', 'is_host_login',\n",
    "       'is_guest_login', 'count', 'srv_count', 'serror_rate',\n",
    "       'srv_error_rate', 'rerror_rate', 'srv_rerror_rate', 'same_srv_rate',\n",
    "       'diff_srv_rate', 'srv_diff_host_rate', 'dst_host_count',\n",
    "       'dst_host_srv_count', 'dst_host_same_srv_rate',\n",
    "       'dst_host_diff_srv_rate', 'dst_host_same_src_port_rate',\n",
    "       'dst_host_srv_diff_host_rate', 'dst_host_serror_rate',\n",
    "       'dst_host_srv_serror_rate', 'dst_host_rerror_rate',\n",
    "       'dst_host_srv_rerror_rate','activity']"
   ]
  },
  {
   "cell_type": "code",
   "execution_count": null,
   "id": "eba5f90d",
   "metadata": {},
   "outputs": [],
   "source": [
    "# Checkeing duplicate records\n",
    "\n",
    "\n",
    "new_dataset.duplicated().sum()"
   ]
  },
  {
   "cell_type": "code",
   "execution_count": null,
   "id": "43ea4688",
   "metadata": {},
   "outputs": [],
   "source": [
    "new_dataset = new_dataset.drop_duplicates()"
   ]
  },
  {
   "cell_type": "code",
   "execution_count": null,
   "id": "60d3682d",
   "metadata": {},
   "outputs": [],
   "source": [
    "#UDF  \n",
    "def continuous_var_summary( x ):\n",
    "    \n",
    "    # freq and missings\n",
    "    n_total = x.shape[0]\n",
    "    n_miss = x.isna().sum()\n",
    "    perc_miss = n_miss * 100 / n_total\n",
    "    \n",
    "    # outliers - iqr\n",
    "    q1 = x.quantile(0.25)\n",
    "    q3 = x.quantile(0.75)\n",
    "    iqr = q3 - q1\n",
    "    lc_iqr = q1 - 1.5 * iqr\n",
    "    uc_iqr = q3 + 1.5 * iqr\n",
    "    \n",
    "    return pd.Series( [ x.dtype, x.nunique(), n_total, x.count(), n_miss, perc_miss,\n",
    "                       x.sum(), x.mean(), x.std(), x.var(), \n",
    "                       lc_iqr, uc_iqr, \n",
    "                       x.min(), x.quantile(0.01), x.quantile(0.05), x.quantile(0.10), \n",
    "                       x.quantile(0.25), x.quantile(0.5), x.quantile(0.75), \n",
    "                       x.quantile(0.90), x.quantile(0.95), x.quantile(0.99), x.max() ], \n",
    "                     \n",
    "                    index = ['dtype', 'cardinality', 'n_tot', 'n', 'nmiss', 'perc_miss',\n",
    "                             'sum', 'mean', 'std', 'var',\n",
    "                        'lc_iqr', 'uc_iqr',\n",
    "                        'min', 'p1', 'p5', 'p10', 'p25', 'p50', 'p75', 'p90', 'p95', 'p99', 'max']) "
   ]
  },
  {
   "cell_type": "code",
   "execution_count": null,
   "id": "ecd14109",
   "metadata": {},
   "outputs": [],
   "source": [
    "new_dataset.select_dtypes(['int', 'float']).apply(lambda x: continuous_var_summary(x))"
   ]
  },
  {
   "cell_type": "code",
   "execution_count": null,
   "id": "0d4a64be",
   "metadata": {},
   "outputs": [],
   "source": [
    "# Dropping columns with cardinality as 1"
   ]
  },
  {
   "cell_type": "code",
   "execution_count": null,
   "id": "b21e214d",
   "metadata": {},
   "outputs": [],
   "source": [
    "cardinality = pd.DataFrame(new_dataset.select_dtypes(['int', 'float']).nunique()).reset_index()"
   ]
  },
  {
   "cell_type": "code",
   "execution_count": null,
   "id": "76d92568",
   "metadata": {},
   "outputs": [],
   "source": [
    "cardinality.columns = ['index', 'unique_values']"
   ]
  },
  {
   "cell_type": "code",
   "execution_count": null,
   "id": "05776e6b",
   "metadata": {},
   "outputs": [],
   "source": [
    "card_1 = list(cardinality.loc[cardinality.unique_values == 1]['index'])"
   ]
  },
  {
   "cell_type": "code",
   "execution_count": null,
   "id": "52bea6d3",
   "metadata": {},
   "outputs": [],
   "source": [
    "print(card_1)"
   ]
  },
  {
   "cell_type": "code",
   "execution_count": null,
   "id": "87d65da1",
   "metadata": {},
   "outputs": [],
   "source": [
    "new_dataset = new_dataset.drop(columns=card_1)"
   ]
  },
  {
   "cell_type": "code",
   "execution_count": null,
   "id": "304d6c88",
   "metadata": {},
   "outputs": [],
   "source": [
    "# Getting those variables out which have low cardinality as they should be considerd as categorical variable"
   ]
  },
  {
   "cell_type": "code",
   "execution_count": null,
   "id": "4862d9aa",
   "metadata": {},
   "outputs": [],
   "source": [
    "cardinality = pd.DataFrame(new_dataset.select_dtypes(['int', 'float']).nunique()).reset_index()"
   ]
  },
  {
   "cell_type": "code",
   "execution_count": null,
   "id": "38f0c3ee",
   "metadata": {},
   "outputs": [],
   "source": [
    "cardinality.columns = ['index', 'unique_values']"
   ]
  },
  {
   "cell_type": "code",
   "execution_count": null,
   "id": "65c6634f",
   "metadata": {},
   "outputs": [],
   "source": [
    "low_card = list(cardinality.loc[cardinality.unique_values<=12]['index'])"
   ]
  },
  {
   "cell_type": "code",
   "execution_count": null,
   "id": "fa40fdc4",
   "metadata": {},
   "outputs": [],
   "source": [
    "print(low_card)"
   ]
  },
  {
   "cell_type": "code",
   "execution_count": null,
   "id": "963bb40c",
   "metadata": {},
   "outputs": [],
   "source": [
    "# Service: Destination network service used\n",
    "# Therefore Service should also be considerd as categorical veriable "
   ]
  },
  {
   "cell_type": "code",
   "execution_count": null,
   "id": "e8bbf6a0",
   "metadata": {},
   "outputs": [],
   "source": [
    "low_card = ['service'] + low_card"
   ]
  },
  {
   "cell_type": "code",
   "execution_count": null,
   "id": "f727596a",
   "metadata": {},
   "outputs": [],
   "source": [
    "print(low_card)"
   ]
  },
  {
   "cell_type": "code",
   "execution_count": null,
   "id": "6f38227e",
   "metadata": {},
   "outputs": [],
   "source": [
    "# So remaining veriables should be considerd as continous variable"
   ]
  },
  {
   "cell_type": "code",
   "execution_count": null,
   "id": "725c19a2",
   "metadata": {},
   "outputs": [],
   "source": [
    "high_card = list(set(new_dataset.columns) - set(low_card) -set(['activity']))"
   ]
  },
  {
   "cell_type": "code",
   "execution_count": null,
   "id": "7b7cc0fb",
   "metadata": {},
   "outputs": [],
   "source": [
    "print(high_card)"
   ]
  },
  {
   "cell_type": "markdown",
   "id": "d6372a34",
   "metadata": {},
   "source": [
    "#### Now Y-variable is variable 'activity'"
   ]
  },
  {
   "cell_type": "markdown",
   "id": "7b717910",
   "metadata": {},
   "source": [
    "\n"
   ]
  },
  {
   "cell_type": "code",
   "execution_count": null,
   "id": "2d93b4ab",
   "metadata": {},
   "outputs": [],
   "source": [
    "# Treating outliers in continous variable"
   ]
  },
  {
   "cell_type": "code",
   "execution_count": null,
   "id": "da34820d",
   "metadata": {},
   "outputs": [],
   "source": [
    "cont_data = new_dataset.loc[:, high_card].apply( lambda x: x.clip( upper = x.quantile(0.99), lower = x.quantile(0.01)) )"
   ]
  },
  {
   "cell_type": "code",
   "execution_count": null,
   "id": "ea0cea88",
   "metadata": {},
   "outputs": [],
   "source": [
    "cont_data"
   ]
  },
  {
   "cell_type": "code",
   "execution_count": null,
   "id": "7ab61692",
   "metadata": {},
   "outputs": [],
   "source": [
    "# Treating nulls in continous variable"
   ]
  },
  {
   "cell_type": "code",
   "execution_count": null,
   "id": "1aabddac",
   "metadata": {},
   "outputs": [],
   "source": [
    "new_dataset.loc[:, high_card].isna().sum()\n",
    "\n",
    "# No nulls to treat"
   ]
  },
  {
   "cell_type": "code",
   "execution_count": null,
   "id": "276603cd",
   "metadata": {},
   "outputs": [],
   "source": [
    "new_dataset.loc[:, low_card]"
   ]
  },
  {
   "cell_type": "code",
   "execution_count": null,
   "id": "95930665",
   "metadata": {},
   "outputs": [],
   "source": [
    "# Treating nulls in categorical variables"
   ]
  },
  {
   "cell_type": "code",
   "execution_count": null,
   "id": "6ea975f5",
   "metadata": {},
   "outputs": [],
   "source": [
    "new_dataset.loc[:, low_card].isna().sum()\n",
    "\n",
    "# There is no null value to treat"
   ]
  },
  {
   "cell_type": "code",
   "execution_count": null,
   "id": "2a8c3b2d",
   "metadata": {},
   "outputs": [],
   "source": [
    "# Creating dummies for categorical variables"
   ]
  },
  {
   "cell_type": "code",
   "execution_count": null,
   "id": "74772b05",
   "metadata": {},
   "outputs": [],
   "source": [
    "cat_data = pd.get_dummies(new_dataset.loc[:, low_card].astype('object'), drop_first=True)"
   ]
  },
  {
   "cell_type": "code",
   "execution_count": null,
   "id": "64cb8b54",
   "metadata": {},
   "outputs": [],
   "source": [
    "print(list(cat_data.columns))"
   ]
  },
  {
   "cell_type": "code",
   "execution_count": null,
   "id": "1cb9dc13",
   "metadata": {},
   "outputs": [],
   "source": [
    "cat_data.columns = [column.replace(\".\", \"_\") for column in cat_data.columns]"
   ]
  },
  {
   "cell_type": "code",
   "execution_count": null,
   "id": "7d2d22ac",
   "metadata": {},
   "outputs": [],
   "source": [
    "print(list(cat_data.columns))"
   ]
  },
  {
   "cell_type": "code",
   "execution_count": null,
   "id": "930b259f",
   "metadata": {},
   "outputs": [],
   "source": [
    "# Merging the two datasets and y_variable to create a new dataset\n",
    "\n",
    "\n",
    "data = pd.concat([new_dataset.loc[:, 'activity'], cat_data, cont_data], axis=1)"
   ]
  },
  {
   "cell_type": "code",
   "execution_count": null,
   "id": "6e1ae592",
   "metadata": {},
   "outputs": [],
   "source": [
    "print(data.info())"
   ]
  },
  {
   "cell_type": "markdown",
   "id": "1b907da3",
   "metadata": {},
   "source": [
    "## Feature selection"
   ]
  },
  {
   "cell_type": "code",
   "execution_count": null,
   "id": "a99383a0",
   "metadata": {},
   "outputs": [],
   "source": [
    "from sklearn.feature_selection import SelectKBest, f_classif, RFE\n",
    "\n",
    "from sklearn.linear_model import LogisticRegression"
   ]
  },
  {
   "cell_type": "code",
   "execution_count": null,
   "id": "4229ff1c",
   "metadata": {},
   "outputs": [],
   "source": [
    "# Using \"SelectKBest\""
   ]
  },
  {
   "cell_type": "code",
   "execution_count": null,
   "id": "ac640049",
   "metadata": {},
   "outputs": [],
   "source": [
    "skb_feat = SelectKBest(score_func=f_classif, k=25)"
   ]
  },
  {
   "cell_type": "code",
   "execution_count": null,
   "id": "c783ad1c",
   "metadata": {},
   "outputs": [],
   "source": [
    "skb_feat.fit(data.select_dtypes(['uint8', 'float', 'int']), data.loc[:, 'activity'])"
   ]
  },
  {
   "cell_type": "code",
   "execution_count": null,
   "id": "08a2c510",
   "metadata": {},
   "outputs": [],
   "source": [
    "skb_list = list((data.select_dtypes(['uint8', 'float', 'int']).columns)[skb_feat.get_support()])"
   ]
  },
  {
   "cell_type": "code",
   "execution_count": null,
   "id": "b1f77c4a",
   "metadata": {},
   "outputs": [],
   "source": [
    "# Using \"RFE\""
   ]
  },
  {
   "cell_type": "code",
   "execution_count": null,
   "id": "ec804fdb",
   "metadata": {},
   "outputs": [],
   "source": [
    "rfe_feat = RFE(estimator=LogisticRegression(), n_features_to_select= 25)"
   ]
  },
  {
   "cell_type": "code",
   "execution_count": null,
   "id": "9c19e019",
   "metadata": {},
   "outputs": [],
   "source": [
    "rfe_feat.fit(data.select_dtypes(['uint8', 'float', 'int']), data.loc[:, 'activity'])"
   ]
  },
  {
   "cell_type": "code",
   "execution_count": null,
   "id": "49ec5a99",
   "metadata": {},
   "outputs": [],
   "source": [
    "rfe_list = list((data.select_dtypes(['uint8', 'float', 'int']).columns)[rfe_feat.get_support()])"
   ]
  },
  {
   "cell_type": "code",
   "execution_count": null,
   "id": "3e4dcb7b",
   "metadata": {},
   "outputs": [],
   "source": [
    "var_selected = list(set(rfe_list + skb_list))"
   ]
  },
  {
   "cell_type": "code",
   "execution_count": null,
   "id": "b2a88d3a",
   "metadata": {},
   "outputs": [],
   "source": [
    "formula_like = 'activity ~ ' + ' + '.join(var_selected)"
   ]
  },
  {
   "cell_type": "code",
   "execution_count": null,
   "id": "0c6b32cb",
   "metadata": {},
   "outputs": [],
   "source": [
    "# Removing multi-colinerity"
   ]
  },
  {
   "cell_type": "code",
   "execution_count": null,
   "id": "f974957c",
   "metadata": {},
   "outputs": [],
   "source": [
    "from patsy import dmatrices\n",
    "from statsmodels.stats.outliers_influence import variance_inflation_factor"
   ]
  },
  {
   "cell_type": "code",
   "execution_count": null,
   "id": "7971a84b",
   "metadata": {},
   "outputs": [],
   "source": [
    "data = pd.concat([data.loc[:, 'activity'], data.loc[:, var_selected]], axis=1)"
   ]
  },
  {
   "cell_type": "code",
   "execution_count": null,
   "id": "cb2052f2",
   "metadata": {},
   "outputs": [],
   "source": [
    "y, x = dmatrices(formula_like=formula_like, data=data, return_type='dataframe')"
   ]
  },
  {
   "cell_type": "code",
   "execution_count": null,
   "id": "b6ba5544",
   "metadata": {},
   "outputs": [],
   "source": [
    "vif = pd.DataFrame()"
   ]
  },
  {
   "cell_type": "code",
   "execution_count": null,
   "id": "1f0b8540",
   "metadata": {},
   "outputs": [],
   "source": [
    "vif['features'] = x.columns"
   ]
  },
  {
   "cell_type": "code",
   "execution_count": null,
   "id": "1c824489",
   "metadata": {},
   "outputs": [],
   "source": [
    "vif['vif_factor'] = [variance_inflation_factor(x.values, i) for i in range(x.shape[1])]"
   ]
  },
  {
   "cell_type": "code",
   "execution_count": null,
   "id": "4525cfff",
   "metadata": {},
   "outputs": [],
   "source": [
    "var_selected = list(vif.loc[vif.vif_factor <= 5, 'features'])"
   ]
  },
  {
   "cell_type": "markdown",
   "id": "5d5013e1",
   "metadata": {},
   "source": [
    "## Making data balanced"
   ]
  },
  {
   "cell_type": "code",
   "execution_count": null,
   "id": "b17e7377",
   "metadata": {},
   "outputs": [],
   "source": [
    "# Checking data if data is balanced or imbalanced\n",
    "\n",
    "\n",
    "data.activity.value_counts() / data.activity.count()\n",
    "\n",
    "\n",
    "# Data is imbalanced"
   ]
  },
  {
   "cell_type": "code",
   "execution_count": null,
   "id": "c0373650",
   "metadata": {},
   "outputs": [],
   "source": [
    "# Making data balanced\n",
    "\n",
    "# Using Under sampling technique for this\n",
    "\n",
    "from imblearn.under_sampling import RandomUnderSampler"
   ]
  },
  {
   "cell_type": "code",
   "execution_count": null,
   "id": "ea7bbe1d",
   "metadata": {},
   "outputs": [],
   "source": [
    "undersampler = RandomUnderSampler(sampling_strategy='auto', random_state=42)"
   ]
  },
  {
   "cell_type": "code",
   "execution_count": null,
   "id": "d93fbf53",
   "metadata": {},
   "outputs": [],
   "source": [
    "x_resampled, y_resampled = undersampler.fit_resample(data.loc[:, var_selected], data.loc[:, 'activity'])"
   ]
  },
  {
   "cell_type": "code",
   "execution_count": null,
   "id": "7afbf737",
   "metadata": {},
   "outputs": [],
   "source": [
    "print(x_resampled.shape)\n",
    "print(y_resampled.shape)"
   ]
  },
  {
   "cell_type": "code",
   "execution_count": null,
   "id": "bcbc03f8",
   "metadata": {},
   "outputs": [],
   "source": [
    "data = pd.concat([y_resampled, x_resampled], axis=1)"
   ]
  },
  {
   "cell_type": "markdown",
   "id": "491a4217",
   "metadata": {},
   "source": [
    "## Train test split"
   ]
  },
  {
   "cell_type": "code",
   "execution_count": null,
   "id": "e36fe996",
   "metadata": {},
   "outputs": [],
   "source": [
    "from sklearn.model_selection import train_test_split"
   ]
  },
  {
   "cell_type": "code",
   "execution_count": null,
   "id": "c2111f2f",
   "metadata": {},
   "outputs": [],
   "source": [
    "trainx, testx, train_y, test_y = train_test_split(data.loc[:, var_selected], data.loc[:, 'activity'], random_state=42, test_size=0.3)"
   ]
  },
  {
   "cell_type": "markdown",
   "id": "343b828a",
   "metadata": {},
   "source": [
    "## Standerdize the data"
   ]
  },
  {
   "cell_type": "code",
   "execution_count": null,
   "id": "7638d293",
   "metadata": {},
   "outputs": [],
   "source": [
    "from sklearn.preprocessing import StandardScaler"
   ]
  },
  {
   "cell_type": "code",
   "execution_count": null,
   "id": "a27b7ad5",
   "metadata": {},
   "outputs": [],
   "source": [
    "std = StandardScaler()"
   ]
  },
  {
   "cell_type": "code",
   "execution_count": null,
   "id": "ce3f0892",
   "metadata": {},
   "outputs": [],
   "source": [
    "train_x = std.fit_transform(trainx)"
   ]
  },
  {
   "cell_type": "code",
   "execution_count": null,
   "id": "1b3d97ef",
   "metadata": {},
   "outputs": [],
   "source": [
    "test_x = std.transform(testx)"
   ]
  },
  {
   "cell_type": "code",
   "execution_count": null,
   "id": "8c891a1d",
   "metadata": {},
   "outputs": [],
   "source": [
    "train_x = pd.DataFrame(train_x, columns=trainx.columns)\n",
    "test_x = pd.DataFrame(test_x, columns=testx.columns)"
   ]
  },
  {
   "cell_type": "markdown",
   "id": "3134b849",
   "metadata": {},
   "source": [
    "# Model 1: Logistics Regression"
   ]
  },
  {
   "cell_type": "code",
   "execution_count": null,
   "id": "8c0e3844",
   "metadata": {},
   "outputs": [],
   "source": [
    "from sklearn.linear_model import LogisticRegression\n",
    "from sklearn.model_selection import RandomizedSearchCV, GridSearchCV"
   ]
  },
  {
   "cell_type": "code",
   "execution_count": null,
   "id": "33b1e280",
   "metadata": {},
   "outputs": [],
   "source": [
    "param_grid = {'penalty' : ['l1', 'l2'], 'C': [0.1, 0.01, 0.5, 0.05, 0.25, 0.75]}"
   ]
  },
  {
   "cell_type": "code",
   "execution_count": null,
   "id": "9ceb306e",
   "metadata": {},
   "outputs": [],
   "source": [
    "LR = GridSearchCV(LogisticRegression(),param_grid, verbose=True)"
   ]
  },
  {
   "cell_type": "code",
   "execution_count": null,
   "id": "f68f84d2",
   "metadata": {},
   "outputs": [],
   "source": [
    "LR.fit(train_x, train_y)"
   ]
  },
  {
   "cell_type": "code",
   "execution_count": null,
   "id": "08885518",
   "metadata": {},
   "outputs": [],
   "source": [
    "df_LR_train = pd.DataFrame({'Actual': train_y, 'Predicted': LR.predict(train_x)})\n",
    "df_LR_test = pd.DataFrame({'Actual': test_y, 'Predicted': LR.predict(test_x)})"
   ]
  },
  {
   "cell_type": "code",
   "execution_count": null,
   "id": "33878d2f",
   "metadata": {},
   "outputs": [],
   "source": [
    "# Label encoding for y_variable\n",
    "\n",
    "\n",
    "\n",
    "from sklearn.preprocessing import LabelEncoder\n"
   ]
  },
  {
   "cell_type": "code",
   "execution_count": null,
   "id": "5f8f6c00",
   "metadata": {},
   "outputs": [],
   "source": [
    "LE = LabelEncoder()"
   ]
  },
  {
   "cell_type": "code",
   "execution_count": null,
   "id": "86b92be8",
   "metadata": {},
   "outputs": [],
   "source": [
    "df_LR_test['Actual'] = LE.fit_transform(df_LR_test['Actual'])\n",
    "df_LR_test['Predicted'] = LE.fit_transform(df_LR_test['Predicted'])\n",
    "\n",
    "\n",
    "df_LR_train['Actual'] = LE.fit_transform(df_LR_train['Actual'])\n",
    "df_LR_train['Predicted'] = LE.fit_transform(df_LR_train['Predicted'])"
   ]
  },
  {
   "cell_type": "markdown",
   "id": "5ef23f91",
   "metadata": {},
   "source": [
    "# Errors"
   ]
  },
  {
   "cell_type": "code",
   "execution_count": null,
   "id": "5e65f33b",
   "metadata": {},
   "outputs": [],
   "source": [
    "from sklearn.metrics import classification_report, confusion_matrix, accuracy_score, roc_auc_score"
   ]
  },
  {
   "cell_type": "code",
   "execution_count": null,
   "id": "1f33a5ef",
   "metadata": {},
   "outputs": [],
   "source": [
    "# Classification report of Test data\n",
    "\n",
    "print(classification_report(df_LR_test.Actual, df_LR_test.Predicted))"
   ]
  },
  {
   "cell_type": "code",
   "execution_count": null,
   "id": "94a804ba",
   "metadata": {
    "scrolled": true
   },
   "outputs": [],
   "source": [
    "# Classification report of Train data\n",
    "\n",
    "print(classification_report(df_LR_train.Actual, df_LR_train.Predicted))"
   ]
  },
  {
   "cell_type": "code",
   "execution_count": null,
   "id": "68df4eb8",
   "metadata": {},
   "outputs": [],
   "source": [
    "plt.figure(figsize=(6,5))\n",
    "sns.heatmap(confusion_matrix(df_LR_test.Actual, df_LR_test.Predicted), annot=True, fmt='.0f', xticklabels = [\"True\", \"False\"] , yticklabels = [\"True\", \"False\"])\n",
    "plt.title('Confusion matrix for pictorial representation', pad=15)\n",
    "plt.xlabel('Predicted')\n",
    "plt.ylabel('Actual')\n",
    "plt.tight_layout()\n",
    "plt.show()"
   ]
  },
  {
   "cell_type": "code",
   "execution_count": null,
   "id": "80763aaf",
   "metadata": {},
   "outputs": [],
   "source": [
    "print('roc auc score of train data',roc_auc_score(df_LR_train.Actual, df_LR_train.Predicted))\n",
    "print('roc auc score of test data',roc_auc_score(df_LR_test.Actual, df_LR_test.Predicted))"
   ]
  },
  {
   "cell_type": "markdown",
   "id": "bd30baaa",
   "metadata": {},
   "source": [
    "# This model is working fine, having accuracy as 100% and recall and precision as 99%."
   ]
  }
 ],
 "metadata": {
  "kernelspec": {
   "display_name": "Python 3 (ipykernel)",
   "language": "python",
   "name": "python3"
  },
  "language_info": {
   "codemirror_mode": {
    "name": "ipython",
    "version": 3
   },
   "file_extension": ".py",
   "mimetype": "text/x-python",
   "name": "python",
   "nbconvert_exporter": "python",
   "pygments_lexer": "ipython3",
   "version": "3.10.9"
  }
 },
 "nbformat": 4,
 "nbformat_minor": 5
}
